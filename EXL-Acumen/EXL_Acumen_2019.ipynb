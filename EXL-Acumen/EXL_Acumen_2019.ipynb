{
 "cells": [
  {
   "cell_type": "code",
   "execution_count": 184,
   "metadata": {},
   "outputs": [],
   "source": [
    "import pandas as pd\n",
    "import numpy as np"
   ]
  },
  {
   "cell_type": "code",
   "execution_count": 633,
   "metadata": {},
   "outputs": [],
   "source": [
    "data = pd.read_csv('D:/PGDBA/Competitions/EXL-Acumen/Input.csv')\n",
    "submit = pd.read_csv('D:\\PGDBA\\Competitions\\EXL-Acumen\\submit.csv')"
   ]
  },
  {
   "cell_type": "code",
   "execution_count": 634,
   "metadata": {},
   "outputs": [
    {
     "data": {
      "text/html": [
       "<div>\n",
       "<style scoped>\n",
       "    .dataframe tbody tr th:only-of-type {\n",
       "        vertical-align: middle;\n",
       "    }\n",
       "\n",
       "    .dataframe tbody tr th {\n",
       "        vertical-align: top;\n",
       "    }\n",
       "\n",
       "    .dataframe thead th {\n",
       "        text-align: right;\n",
       "    }\n",
       "</style>\n",
       "<table border=\"1\" class=\"dataframe\">\n",
       "  <thead>\n",
       "    <tr style=\"text-align: right;\">\n",
       "      <th></th>\n",
       "      <th>UNIQUE_ID</th>\n",
       "      <th>Rev_17_GeoPod</th>\n",
       "      <th>Rev_17_B</th>\n",
       "      <th>Rev_17_C</th>\n",
       "      <th>Vol_17_GeoPod</th>\n",
       "      <th>Vol_17_B</th>\n",
       "      <th>Vol_17_C</th>\n",
       "      <th>Rev_17_GeoPod_Logistics</th>\n",
       "      <th>Rev_17_GeoPod_HR</th>\n",
       "      <th>Rev_17_GeoPod_Finance</th>\n",
       "      <th>...</th>\n",
       "      <th>Vol_16_GeoPod_Logistics</th>\n",
       "      <th>Vol_16_GeoPod_HR</th>\n",
       "      <th>Vol_16_GeoPod_Finance</th>\n",
       "      <th>Vol_16_D</th>\n",
       "      <th>Vol_16_E</th>\n",
       "      <th>Vol_16_F</th>\n",
       "      <th>Vol_16_G</th>\n",
       "      <th>Vol_16_H</th>\n",
       "      <th>Vol_16_I</th>\n",
       "      <th>Attrition_Flag</th>\n",
       "    </tr>\n",
       "  </thead>\n",
       "  <tbody>\n",
       "    <tr>\n",
       "      <th>0</th>\n",
       "      <td>20</td>\n",
       "      <td>148458.28</td>\n",
       "      <td>648.24</td>\n",
       "      <td>0.0</td>\n",
       "      <td>1533</td>\n",
       "      <td>6</td>\n",
       "      <td>0</td>\n",
       "      <td>126.33</td>\n",
       "      <td>1.816350e+03</td>\n",
       "      <td>146515.60</td>\n",
       "      <td>...</td>\n",
       "      <td>1</td>\n",
       "      <td>1461</td>\n",
       "      <td>57</td>\n",
       "      <td>457</td>\n",
       "      <td>0</td>\n",
       "      <td>0</td>\n",
       "      <td>2350</td>\n",
       "      <td>0</td>\n",
       "      <td>0</td>\n",
       "      <td>0</td>\n",
       "    </tr>\n",
       "    <tr>\n",
       "      <th>1</th>\n",
       "      <td>37</td>\n",
       "      <td>48796.95</td>\n",
       "      <td>0.00</td>\n",
       "      <td>0.0</td>\n",
       "      <td>294</td>\n",
       "      <td>0</td>\n",
       "      <td>0</td>\n",
       "      <td>209.00</td>\n",
       "      <td>8.974500e+02</td>\n",
       "      <td>47690.50</td>\n",
       "      <td>...</td>\n",
       "      <td>1</td>\n",
       "      <td>278</td>\n",
       "      <td>6</td>\n",
       "      <td>109</td>\n",
       "      <td>1</td>\n",
       "      <td>0</td>\n",
       "      <td>7</td>\n",
       "      <td>0</td>\n",
       "      <td>0</td>\n",
       "      <td>0</td>\n",
       "    </tr>\n",
       "    <tr>\n",
       "      <th>2</th>\n",
       "      <td>44</td>\n",
       "      <td>1875.00</td>\n",
       "      <td>0.00</td>\n",
       "      <td>0.0</td>\n",
       "      <td>7</td>\n",
       "      <td>0</td>\n",
       "      <td>0</td>\n",
       "      <td>380.00</td>\n",
       "      <td>0.000000e+00</td>\n",
       "      <td>1495.00</td>\n",
       "      <td>...</td>\n",
       "      <td>1</td>\n",
       "      <td>3</td>\n",
       "      <td>0</td>\n",
       "      <td>0</td>\n",
       "      <td>0</td>\n",
       "      <td>0</td>\n",
       "      <td>0</td>\n",
       "      <td>0</td>\n",
       "      <td>0</td>\n",
       "      <td>0</td>\n",
       "    </tr>\n",
       "    <tr>\n",
       "      <th>3</th>\n",
       "      <td>48</td>\n",
       "      <td>1009.20</td>\n",
       "      <td>0.00</td>\n",
       "      <td>0.0</td>\n",
       "      <td>8</td>\n",
       "      <td>0</td>\n",
       "      <td>0</td>\n",
       "      <td>0.00</td>\n",
       "      <td>2.186900e+02</td>\n",
       "      <td>790.51</td>\n",
       "      <td>...</td>\n",
       "      <td>0</td>\n",
       "      <td>6</td>\n",
       "      <td>1</td>\n",
       "      <td>0</td>\n",
       "      <td>0</td>\n",
       "      <td>0</td>\n",
       "      <td>0</td>\n",
       "      <td>0</td>\n",
       "      <td>0</td>\n",
       "      <td>0</td>\n",
       "    </tr>\n",
       "    <tr>\n",
       "      <th>4</th>\n",
       "      <td>72</td>\n",
       "      <td>9781.23</td>\n",
       "      <td>234.85</td>\n",
       "      <td>0.0</td>\n",
       "      <td>46</td>\n",
       "      <td>1</td>\n",
       "      <td>0</td>\n",
       "      <td>274.59</td>\n",
       "      <td>1.710000e-13</td>\n",
       "      <td>9506.64</td>\n",
       "      <td>...</td>\n",
       "      <td>1</td>\n",
       "      <td>39</td>\n",
       "      <td>0</td>\n",
       "      <td>245</td>\n",
       "      <td>0</td>\n",
       "      <td>0</td>\n",
       "      <td>0</td>\n",
       "      <td>0</td>\n",
       "      <td>0</td>\n",
       "      <td>0</td>\n",
       "    </tr>\n",
       "  </tbody>\n",
       "</table>\n",
       "<p>5 rows × 62 columns</p>\n",
       "</div>"
      ],
      "text/plain": [
       "   UNIQUE_ID  Rev_17_GeoPod  Rev_17_B  Rev_17_C  Vol_17_GeoPod  Vol_17_B  \\\n",
       "0         20      148458.28    648.24       0.0           1533         6   \n",
       "1         37       48796.95      0.00       0.0            294         0   \n",
       "2         44        1875.00      0.00       0.0              7         0   \n",
       "3         48        1009.20      0.00       0.0              8         0   \n",
       "4         72        9781.23    234.85       0.0             46         1   \n",
       "\n",
       "   Vol_17_C  Rev_17_GeoPod_Logistics  Rev_17_GeoPod_HR  Rev_17_GeoPod_Finance  \\\n",
       "0         0                   126.33      1.816350e+03              146515.60   \n",
       "1         0                   209.00      8.974500e+02               47690.50   \n",
       "2         0                   380.00      0.000000e+00                1495.00   \n",
       "3         0                     0.00      2.186900e+02                 790.51   \n",
       "4         0                   274.59      1.710000e-13                9506.64   \n",
       "\n",
       "   ...  Vol_16_GeoPod_Logistics  Vol_16_GeoPod_HR  Vol_16_GeoPod_Finance  \\\n",
       "0  ...                        1              1461                     57   \n",
       "1  ...                        1               278                      6   \n",
       "2  ...                        1                 3                      0   \n",
       "3  ...                        0                 6                      1   \n",
       "4  ...                        1                39                      0   \n",
       "\n",
       "   Vol_16_D  Vol_16_E  Vol_16_F  Vol_16_G  Vol_16_H  Vol_16_I  Attrition_Flag  \n",
       "0       457         0         0      2350         0         0               0  \n",
       "1       109         1         0         7         0         0               0  \n",
       "2         0         0         0         0         0         0               0  \n",
       "3         0         0         0         0         0         0               0  \n",
       "4       245         0         0         0         0         0               0  \n",
       "\n",
       "[5 rows x 62 columns]"
      ]
     },
     "execution_count": 634,
     "metadata": {},
     "output_type": "execute_result"
    }
   ],
   "source": [
    "data.head()"
   ]
  },
  {
   "cell_type": "code",
   "execution_count": 635,
   "metadata": {},
   "outputs": [
    {
     "data": {
      "text/plain": [
       "array(['Large Business', 'Small Business'], dtype=object)"
      ]
     },
     "execution_count": 635,
     "metadata": {},
     "output_type": "execute_result"
    }
   ],
   "source": [
    "data.Market_Segment.unique()"
   ]
  },
  {
   "cell_type": "code",
   "execution_count": 636,
   "metadata": {},
   "outputs": [
    {
     "data": {
      "text/plain": [
       "0"
      ]
     },
     "execution_count": 636,
     "metadata": {},
     "output_type": "execute_result"
    }
   ],
   "source": [
    "len(np.intersect1d(data.UNIQUE_ID,submit.UNIQUE_ID))"
   ]
  },
  {
   "cell_type": "code",
   "execution_count": 637,
   "metadata": {},
   "outputs": [],
   "source": [
    "submit['Attrition_Flag'] = None"
   ]
  },
  {
   "cell_type": "code",
   "execution_count": 638,
   "metadata": {},
   "outputs": [],
   "source": [
    "all_data = data.append(submit, ignore_index = True)"
   ]
  },
  {
   "cell_type": "code",
   "execution_count": 639,
   "metadata": {},
   "outputs": [
    {
     "name": "stdout",
     "output_type": "stream",
     "text": [
      "14601 4000 18601\n"
     ]
    }
   ],
   "source": [
    "print(len(data), len(submit), len(all_data))"
   ]
  },
  {
   "cell_type": "code",
   "execution_count": 640,
   "metadata": {},
   "outputs": [],
   "source": [
    "#all_data[all_data['Attrition_Flag'].isnull()]"
   ]
  },
  {
   "cell_type": "code",
   "execution_count": 641,
   "metadata": {},
   "outputs": [],
   "source": [
    "all_data['Market_Segment'] = ['1' if x == 'Large Business' else 0 for x in all_data['Market_Segment']]\n",
    "all_data['Market_Segment'] = all_data['Market_Segment'].astype('int32')\n",
    "all_data['Market_Segment'] = all_data['Market_Segment'].astype('int32')"
   ]
  },
  {
   "cell_type": "code",
   "execution_count": 642,
   "metadata": {},
   "outputs": [],
   "source": [
    "#all_data.info()"
   ]
  },
  {
   "cell_type": "code",
   "execution_count": 643,
   "metadata": {},
   "outputs": [
    {
     "data": {
      "text/plain": [
       "array(['Multinational Banks', 'Credit Unions', 'Small Business',\n",
       "       'Investment Firms', nan], dtype=object)"
      ]
     },
     "execution_count": 643,
     "metadata": {},
     "output_type": "execute_result"
    }
   ],
   "source": [
    "all_data.Sub_Segment.unique()"
   ]
  },
  {
   "cell_type": "code",
   "execution_count": 644,
   "metadata": {},
   "outputs": [],
   "source": [
    "all_data['Sub_Segment'] = [1 if x == 'Small Business' else x for x in all_data['Sub_Segment']]\n",
    "all_data['Sub_Segment'] = [2 if x == 'Investment Firms' else x for x in all_data['Sub_Segment']]\n",
    "all_data['Sub_Segment'] = [3 if x == 'Credit Unions' else x for x in all_data['Sub_Segment']]\n",
    "all_data['Sub_Segment'] = [4 if x == 'Multinational Banks' else x for x in all_data['Sub_Segment']]\n",
    "all_data['Sub_Segment'].fillna(0, inplace = True)\n",
    "all_data['Sub_Segment'] = all_data['Sub_Segment'].astype('int32')"
   ]
  },
  {
   "cell_type": "code",
   "execution_count": 645,
   "metadata": {},
   "outputs": [],
   "source": [
    "from sklearn.preprocessing import LabelEncoder\n",
    "labelEnc = LabelEncoder()\n",
    "#all_data['Sales_Person_Jun_17'] = ['1' if x == 'Unassigned' else x for x in all_data['Sales_Person_Jun_17']]\n",
    "#all_data['Sales_Person_Jun_17'] = labelEnc.fit_transform(all_data['Sales_Person_Jun_17'])\n",
    "#all_data['Sales_Person_Jun_17'] = all_data['Sales_Person_Jun_17'].astype('int32')\n",
    "all_data['RSM_Jun_17'] = labelEnc.fit_transform(all_data['RSM_Jun_17'])\n",
    "all_data['Director_Jun_17'] = labelEnc.fit_transform(all_data['Director_Jun_17'])\n",
    "all_data['VP_Jun_17'] = labelEnc.fit_transform(all_data['VP_Jun_17'])\n",
    "#all_data['Sales_Person_Dec_17'] = labelEnc.fit_transform(all_data['Sales_Person_Dec_17'])\n",
    "all_data['RSM_Dec_17'] = labelEnc.fit_transform(all_data['RSM_Dec_17'])\n",
    "all_data['Director_Dec_17'] = labelEnc.fit_transform(all_data['Director_Dec_17'])\n",
    "all_data['VP_Dec_17'] = labelEnc.fit_transform(all_data['VP_Dec_17'])"
   ]
  },
  {
   "cell_type": "code",
   "execution_count": 646,
   "metadata": {},
   "outputs": [],
   "source": [
    "# Jun_17_sales\n",
    "#sales_df = pd.DataFrame(data.Sales_Person_Jun_17.unique())\n",
    "#sales_df.columns = ['Sales_Person_Jun_17']\n",
    "#\n",
    "#temp_data = pd.DataFrame(data.groupby(['Sales_Person_Jun_17', 'Attrition_Flag'])['UNIQUE_ID'].count().reset_index())\n",
    "#temp_data_0 = sales_df.merge( temp_data[temp_data['Attrition_Flag']==0], on = 'Sales_Person_Jun_17')\n",
    "#temp_data_0.columns = ['Sales_Person_Jun_17', 'Attrition_Flag_0', '0_count_s_J']\n",
    "#temp_data_0['Sales_Person_Jun_17'] = temp_data_0['Sales_Person_Jun_17'].astype('str')\n",
    "#\n",
    "#temp_data_1 = sales_df.merge( temp_data[temp_data['Attrition_Flag']==1], on = 'Sales_Person_Jun_17')\n",
    "#temp_data_1.columns = ['Sales_Person_Jun_17', 'Attrition_Flag_1', '1_count_s_J']\n",
    "#temp_data_1['Sales_Person_Jun_17'] = temp_data_1['Sales_Person_Jun_17'].astype('str')\n",
    "#temp_data1 = temp_data_1.merge(temp_data_0)\n",
    "#temp_data1.head()\n",
    "#\n",
    "## Dec_17_sales\n",
    "#del temp_data_0, temp_data_1\n",
    "#sales_df = pd.DataFrame(data.Sales_Person_Dec_17.unique())\n",
    "#sales_df.columns = ['Sales_Person_Dec_17']\n",
    "#\n",
    "#temp_data = pd.DataFrame(data.groupby(['Sales_Person_Dec_17', 'Attrition_Flag'])['UNIQUE_ID'].count().reset_index())\n",
    "#temp_data_0 = sales_df.merge( temp_data[temp_data['Attrition_Flag']==0], on = 'Sales_Person_Dec_17')\n",
    "#temp_data_0.columns = ['Sales_Person_Dec_17', 'Attrition_Flag_0', '0_count_s_D']\n",
    "#temp_data_0['Sales_Person_Dec_17'] = temp_data_0['Sales_Person_Dec_17'].astype('str')\n",
    "#\n",
    "#temp_data_1 = sales_df.merge( temp_data[temp_data['Attrition_Flag']==1], on = 'Sales_Person_Dec_17')\n",
    "#temp_data_1.columns = ['Sales_Person_Dec_17', 'Attrition_Flag_1', '1_count_s_D']\n",
    "#temp_data_1['Sales_Person_Dec_17'] = temp_data_1['Sales_Person_Dec_17'].astype('str')\n",
    "#temp_data2 = temp_data_1.merge(temp_data_0)\n",
    "##print(temp_data2.head())\n",
    "##print(temp_data1.head())\n",
    "#\n",
    "#temp_data1 = temp_data1.drop(['Attrition_Flag_0', 'Attrition_Flag_1'], axis= 1)\n",
    "#temp_data1['Sales_Person_Jun_17'] = temp_data1['Sales_Person_Jun_17'].astype('str')\n",
    "##temp_data1.info()\n",
    "##temp_data1.unique()\n",
    "#\n",
    "#temp_data2 = temp_data2.drop(['Attrition_Flag_0', 'Attrition_Flag_1'], axis= 1)\n",
    "#temp_data2['Sales_Person_Dec_17'] = temp_data2['Sales_Person_Dec_17'].astype('str')\n",
    "#\n",
    "#all_data['Sales_Person_Dec_17'] = all_data['Sales_Person_Dec_17'].astype('str')\n",
    "#all_data['Sales_Person_Jun_17'] = all_data['Sales_Person_Jun_17'].astype('str')\n",
    "#\n",
    "##temp_data1.info()\n",
    "#\n",
    "#all_data = all_data.merge(temp_data1, how = 'left')\n",
    "#all_data = all_data.merge(temp_data2, how = 'left')\n",
    "##all_data['Sales_Person_Jun_17'].head()\n",
    "#\n",
    "#all_data['score_s_J'] = all_data['1_count_s_J']/all_data['0_count_s_J']\n",
    "#all_data['score_s_D'] = all_data['1_count_s_D']/all_data['0_count_s_D']\n",
    "#\n",
    "##all_data['Sales_Person_Jun_17'] = labelEnc.fit_transform(all_data['Sales_Person_Jun_17'])\n",
    "##all_data['Sales_Person_Dec_17'] = labelEnc.fit_transform(all_data['Sales_Person_Dec_17'])\n",
    "#all_data=all_data.drop(['Sales_Person_Jun_17','Sales_Person_Dec_17'],axis=1)"
   ]
  },
  {
   "cell_type": "code",
   "execution_count": 647,
   "metadata": {},
   "outputs": [],
   "source": [
    "#all_data['score_s_J'].fillna (0, inplace = True)\n",
    "#all_data['1_count_s_J'].fillna (0, inplace = True)\n",
    "#all_data['0_count_s_J'].fillna (0, inplace = True)\n",
    "#all_data['score_s_D'].fillna (0, inplace = True)\n",
    "#all_data['1_count_s_D'].fillna (0, inplace = True)\n",
    "#all_data['0_count_s_D'].fillna (0, inplace = True)"
   ]
  },
  {
   "cell_type": "code",
   "execution_count": 648,
   "metadata": {},
   "outputs": [],
   "source": [
    "#all_data['Sales_Person_Jun_17'] = ['1' if x == 'Unassigned' else 0 for x in all_data['Sales_Person_Jun_17']]\n",
    "#all_data['Sales_Person_Jun_17'] = all_data['Sales_Person_Jun_17'].astype('int32')\n",
    "\n",
    "#all_data['RSM_Jun_17'] = ['1' if x == 'Unassigned' else 0 for x in all_data['RSM_Jun_17']]\n",
    "#all_data['RSM_Jun_17'] = all_data['RSM_Jun_17'].astype('int32')\n",
    "\n",
    "#all_data['Director_Jun_17'] = ['1' if x == 'Unassigned' else 0 for x in all_data['Director_Jun_17']]\n",
    "#all_data['Director_Jun_17'] = all_data['Director_Jun_17'].astype('int32')\n",
    "\n",
    "#all_data['VP_Jun_17'] = ['1' if x == 'Unassigned' else 0 for x in all_data['VP_Jun_17']]\n",
    "#all_data['VP_Jun_17'] = all_data['VP_Jun_17'].astype('int32')\n",
    "\n",
    "#all_data['Sales_Person_Dec_17'] = ['1' if x == 'Unassigned' else 0 for x in all_data['Sales_Person_Dec_17']]\n",
    "#all_data['Sales_Person_Dec_17'] = all_data['Sales_Person_Dec_17'].astype('int32')\n",
    "\n",
    "#all_data['RSM_Dec_17'] = ['1' if x == 'Unassigned' else 0 for x in all_data['RSM_Dec_17']]\n",
    "#all_data['RSM_Dec_17'] = all_data['RSM_Dec_17'].astype('int32')\n",
    "\n",
    "#all_data['Director_Dec_17'] = ['1' if x == 'Unassigned' else 0 for x in all_data['Director_Dec_17']]\n",
    "#all_data['Director_Dec_17'] = all_data['Director_Dec_17'].astype('int32')\n",
    "\n",
    "#all_data['VP_Dec_17'] = ['1' if x == 'Unassigned' else 0 for x in all_data['VP_Dec_17']]\n",
    "#all_data['VP_Dec_17'] = all_data['VP_Dec_17'].astype('int32')"
   ]
  },
  {
   "cell_type": "code",
   "execution_count": 649,
   "metadata": {},
   "outputs": [
    {
     "data": {
      "text/plain": [
       "(305.71, 538715.92)"
      ]
     },
     "execution_count": 649,
     "metadata": {},
     "output_type": "execute_result"
    }
   ],
   "source": [
    "min(all_data['Rev_17_GeoPod']), max(all_data['Rev_17_GeoPod'])"
   ]
  },
  {
   "cell_type": "code",
   "execution_count": 650,
   "metadata": {},
   "outputs": [],
   "source": [
    "#all_data.isnull().sum()\n",
    "all_data = pd.get_dummies(all_data,columns=['Sales_Person_Jun_17', 'Sales_Person_Dec_17'], drop_first=True)"
   ]
  },
  {
   "cell_type": "code",
   "execution_count": 651,
   "metadata": {},
   "outputs": [],
   "source": [
    "all_data.DataCorp_Market_Share.unique()\n",
    "all_data['DataCorp_Market_Share'].fillna(np.mean(all_data.DataCorp_Market_Share), inplace = True)"
   ]
  },
  {
   "cell_type": "code",
   "execution_count": 652,
   "metadata": {},
   "outputs": [],
   "source": [
    "all_data['Major_competitor_market_share'].fillna(round(np.mean(all_data.Major_competitor_market_share),2), inplace = True)\n",
    "#all_data.Major_competitor_market_share.unique()"
   ]
  },
  {
   "cell_type": "code",
   "execution_count": 653,
   "metadata": {},
   "outputs": [],
   "source": [
    "all_data['Other_competitor_market_share'].fillna(round(np.mean(all_data.Other_competitor_market_share),2), inplace = True)\n",
    "#all_data.Other_competitor_market_share.unique()"
   ]
  },
  {
   "cell_type": "code",
   "execution_count": 654,
   "metadata": {},
   "outputs": [],
   "source": [
    "all_data['Tenure_months'].fillna(round(np.mean(all_data.Tenure_months),2), inplace = True)\n",
    "#all_data.Tenure_months.unique()"
   ]
  },
  {
   "cell_type": "code",
   "execution_count": 655,
   "metadata": {},
   "outputs": [],
   "source": [
    "all_data['Count_Entities'].fillna(round(np.mean(all_data.Count_Entities),2), inplace = True)\n",
    "#all_data.Count_Entities.unique()"
   ]
  },
  {
   "cell_type": "code",
   "execution_count": 656,
   "metadata": {},
   "outputs": [],
   "source": [
    "all_data['Count_Jurisdicion'].fillna(round(np.mean(all_data.Count_Jurisdicion),2), inplace = True)\n",
    "#all_data.Count_Jurisdicion.unique()\n",
    "#all_data['Price_per_Unit'] = all_data['Rev_17_GeoPod'] / all_data['Vol_17_GeoPod']\n",
    "#all_data['birth_death'] = all_data['Vol_17_Death_Event'] / (all_data['Vol_17_Birth_Event'] + 1)\n",
    "#all_data['birth_death'].fillna((0), inplace = True)\n",
    "#all_data['Share_Market'] = all_data['DataCorp_Market_Share'] - all_data['Major_competitor_market_share']\n",
    "#all_data['Share_Market'] = [1 if x > 0 else 0 for x in all_data['Share_Market']]"
   ]
  },
  {
   "cell_type": "code",
   "execution_count": 657,
   "metadata": {},
   "outputs": [],
   "source": [
    "all_data['Tenure_months'].fillna(round(np.mean(all_data['Tenure_months']),0), inplace = True)\n",
    "all_data['Tenure_months_new'] = all_data['Tenure_months'].astype('int32')\n",
    "all_data['Tenure_months_new'] = all_data['Tenure_months']\n",
    "all_data['Tenure_months_new'] = [20 if x <= 20.0 and x >= 0 else x for x in all_data['Tenure_months_new']]\n",
    "all_data['Tenure_months_new'] = [40 if x > 20.0 and x <= 40.0 else x for x in all_data['Tenure_months_new']]\n",
    "all_data['Tenure_months_new'] = [60 if x > 40.0 and x <= 60.0 else x for x in all_data['Tenure_months_new']]\n",
    "all_data['Tenure_months_new'] = [80 if x > 60.0 and x <= 80.0 else x for x in all_data['Tenure_months_new']]\n",
    "all_data['Tenure_months_new'] = [100 if x > 80.0 and x <= 100.0 else x for x in all_data['Tenure_months_new']]\n",
    "all_data['Tenure_months_new'] = [150 if x > 100.0 and x <= 150.0 else x for x in all_data['Tenure_months_new']]\n",
    "all_data['Tenure_months_new'] = [200 if x > 150.0 and x <= 200.0 else x for x in all_data['Tenure_months_new']]\n",
    "all_data['Tenure_months_new'] = [250 if x > 200.0 else x for x in all_data['Tenure_months_new']]"
   ]
  },
  {
   "cell_type": "code",
   "execution_count": 658,
   "metadata": {},
   "outputs": [
    {
     "data": {
      "text/plain": [
       "UNIQUE_ID                         0\n",
       "Rev_17_GeoPod                     0\n",
       "Rev_17_B                          0\n",
       "Rev_17_C                          0\n",
       "Vol_17_GeoPod                     0\n",
       "Vol_17_B                          0\n",
       "Vol_17_C                          0\n",
       "Rev_17_GeoPod_Logistics           0\n",
       "Rev_17_GeoPod_HR                  0\n",
       "Rev_17_GeoPod_Finance             0\n",
       "Vol_17_GeoPod_Logistics           0\n",
       "Vol_17_GeoPod_HR                  0\n",
       "Vol_17_GeoPod_Finance             0\n",
       "Vol_17_Death_Event                0\n",
       "Vol_17_Birth_Event                0\n",
       "Vol_17_COA                        0\n",
       "Vol_17_COA_Win                    0\n",
       "Rev_17_D                          0\n",
       "Rev_17_E                          0\n",
       "Rev_17_F                          0\n",
       "Rev_17_G                          0\n",
       "Rev_17_H                          0\n",
       "Rev_17_I                          0\n",
       "Vol_17_D                          0\n",
       "Vol_17_E                          0\n",
       "Vol_17_F                          0\n",
       "Vol_17_G                          0\n",
       "Vol_17_H                          0\n",
       "Vol_17_I                          0\n",
       "Ind_2013_pushback                 0\n",
       "                                 ..\n",
       "Sales_Person_Dec_17_SP67          0\n",
       "Sales_Person_Dec_17_SP68          0\n",
       "Sales_Person_Dec_17_SP69          0\n",
       "Sales_Person_Dec_17_SP7           0\n",
       "Sales_Person_Dec_17_SP70          0\n",
       "Sales_Person_Dec_17_SP72          0\n",
       "Sales_Person_Dec_17_SP73          0\n",
       "Sales_Person_Dec_17_SP75          0\n",
       "Sales_Person_Dec_17_SP77          0\n",
       "Sales_Person_Dec_17_SP78          0\n",
       "Sales_Person_Dec_17_SP79          0\n",
       "Sales_Person_Dec_17_SP80          0\n",
       "Sales_Person_Dec_17_SP81          0\n",
       "Sales_Person_Dec_17_SP82          0\n",
       "Sales_Person_Dec_17_SP83          0\n",
       "Sales_Person_Dec_17_SP86          0\n",
       "Sales_Person_Dec_17_SP87          0\n",
       "Sales_Person_Dec_17_SP89          0\n",
       "Sales_Person_Dec_17_SP9           0\n",
       "Sales_Person_Dec_17_SP90          0\n",
       "Sales_Person_Dec_17_SP91          0\n",
       "Sales_Person_Dec_17_SP93          0\n",
       "Sales_Person_Dec_17_SP94          0\n",
       "Sales_Person_Dec_17_SP95          0\n",
       "Sales_Person_Dec_17_SP96          0\n",
       "Sales_Person_Dec_17_SP97          0\n",
       "Sales_Person_Dec_17_SP98          0\n",
       "Sales_Person_Dec_17_SP99          0\n",
       "Sales_Person_Dec_17_Unassigned    0\n",
       "Tenure_months_new                 0\n",
       "Length: 304, dtype: int64"
      ]
     },
     "execution_count": 658,
     "metadata": {},
     "output_type": "execute_result"
    }
   ],
   "source": [
    "all_data.isnull().sum()"
   ]
  },
  {
   "cell_type": "markdown",
   "metadata": {},
   "source": [
    "# Training the model"
   ]
  },
  {
   "cell_type": "code",
   "execution_count": 659,
   "metadata": {},
   "outputs": [],
   "source": [
    "#from catboost import CatBoostClassifier,Pool, cv\n",
    "#from lightgbm import LGBMClassifier\n",
    "from sklearn.model_selection import StratifiedKFold,train_test_split\n",
    "from sklearn.linear_model import LogisticRegression\n",
    "from sklearn.ensemble import RandomForestClassifier\n",
    "from sklearn.metrics import accuracy_score,confusion_matrix,roc_auc_score"
   ]
  },
  {
   "cell_type": "code",
   "execution_count": 660,
   "metadata": {},
   "outputs": [
    {
     "name": "stdout",
     "output_type": "stream",
     "text": [
      "(14601, 304) (4000, 304)\n"
     ]
    }
   ],
   "source": [
    "df_train=all_data[all_data['Attrition_Flag'].isnull()==False].copy()\n",
    "df_test=all_data[all_data['Attrition_Flag'].isnull()==True].copy()\n",
    "\n",
    "df_train['Attrition_Flag'] = df_train['Attrition_Flag'].astype('int32')\n",
    "print(df_train.shape,df_test.shape)"
   ]
  },
  {
   "cell_type": "code",
   "execution_count": 661,
   "metadata": {},
   "outputs": [
    {
     "name": "stdout",
     "output_type": "stream",
     "text": [
      "(14601, 302) (4000, 302)\n"
     ]
    }
   ],
   "source": [
    "X,y=df_train.drop(['UNIQUE_ID','Attrition_Flag'],axis=1),df_train['Attrition_Flag']\n",
    "Xtest=df_test.drop(['UNIQUE_ID','Attrition_Flag'],axis=1)\n",
    "\n",
    "#X = X.fillna(0)\n",
    "#Xtest = Xtest.fillna(0)\n",
    "print(X.shape,Xtest.shape)\n",
    "X_train,X_val,y_train,y_val = train_test_split(X,y,test_size=0.20,random_state = 1996,stratify=y)"
   ]
  },
  {
   "cell_type": "code",
   "execution_count": 662,
   "metadata": {},
   "outputs": [
    {
     "data": {
      "text/plain": [
       "Rev_17_GeoPod                     0\n",
       "Rev_17_B                          0\n",
       "Rev_17_C                          0\n",
       "Vol_17_GeoPod                     0\n",
       "Vol_17_B                          0\n",
       "Vol_17_C                          0\n",
       "Rev_17_GeoPod_Logistics           0\n",
       "Rev_17_GeoPod_HR                  0\n",
       "Rev_17_GeoPod_Finance             0\n",
       "Vol_17_GeoPod_Logistics           0\n",
       "Vol_17_GeoPod_HR                  0\n",
       "Vol_17_GeoPod_Finance             0\n",
       "Vol_17_Death_Event                0\n",
       "Vol_17_Birth_Event                0\n",
       "Vol_17_COA                        0\n",
       "Vol_17_COA_Win                    0\n",
       "Rev_17_D                          0\n",
       "Rev_17_E                          0\n",
       "Rev_17_F                          0\n",
       "Rev_17_G                          0\n",
       "Rev_17_H                          0\n",
       "Rev_17_I                          0\n",
       "Vol_17_D                          0\n",
       "Vol_17_E                          0\n",
       "Vol_17_F                          0\n",
       "Vol_17_G                          0\n",
       "Vol_17_H                          0\n",
       "Vol_17_I                          0\n",
       "Ind_2013_pushback                 0\n",
       "Ind_2014_pushback                 0\n",
       "                                 ..\n",
       "Sales_Person_Dec_17_SP67          0\n",
       "Sales_Person_Dec_17_SP68          0\n",
       "Sales_Person_Dec_17_SP69          0\n",
       "Sales_Person_Dec_17_SP7           0\n",
       "Sales_Person_Dec_17_SP70          0\n",
       "Sales_Person_Dec_17_SP72          0\n",
       "Sales_Person_Dec_17_SP73          0\n",
       "Sales_Person_Dec_17_SP75          0\n",
       "Sales_Person_Dec_17_SP77          0\n",
       "Sales_Person_Dec_17_SP78          0\n",
       "Sales_Person_Dec_17_SP79          0\n",
       "Sales_Person_Dec_17_SP80          0\n",
       "Sales_Person_Dec_17_SP81          0\n",
       "Sales_Person_Dec_17_SP82          0\n",
       "Sales_Person_Dec_17_SP83          0\n",
       "Sales_Person_Dec_17_SP86          0\n",
       "Sales_Person_Dec_17_SP87          0\n",
       "Sales_Person_Dec_17_SP89          0\n",
       "Sales_Person_Dec_17_SP9           0\n",
       "Sales_Person_Dec_17_SP90          0\n",
       "Sales_Person_Dec_17_SP91          0\n",
       "Sales_Person_Dec_17_SP93          0\n",
       "Sales_Person_Dec_17_SP94          0\n",
       "Sales_Person_Dec_17_SP95          0\n",
       "Sales_Person_Dec_17_SP96          0\n",
       "Sales_Person_Dec_17_SP97          0\n",
       "Sales_Person_Dec_17_SP98          0\n",
       "Sales_Person_Dec_17_SP99          0\n",
       "Sales_Person_Dec_17_Unassigned    0\n",
       "Tenure_months_new                 0\n",
       "Length: 302, dtype: int64"
      ]
     },
     "execution_count": 662,
     "metadata": {},
     "output_type": "execute_result"
    }
   ],
   "source": [
    "X.isnull().sum()"
   ]
  },
  {
   "cell_type": "code",
   "execution_count": 663,
   "metadata": {},
   "outputs": [],
   "source": [
    "from sklearn.feature_selection import SelectFromModel"
   ]
  },
  {
   "cell_type": "code",
   "execution_count": 664,
   "metadata": {},
   "outputs": [
    {
     "data": {
      "text/plain": [
       "RandomForestClassifier(bootstrap=True, class_weight=None, criterion='gini',\n",
       "            max_depth=None, max_features='auto', max_leaf_nodes=None,\n",
       "            min_impurity_decrease=0.0, min_impurity_split=None,\n",
       "            min_samples_leaf=1, min_samples_split=2,\n",
       "            min_weight_fraction_leaf=0.0, n_estimators=350, n_jobs=None,\n",
       "            oob_score=False, random_state=None, verbose=0,\n",
       "            warm_start=False)"
      ]
     },
     "execution_count": 664,
     "metadata": {},
     "output_type": "execute_result"
    }
   ],
   "source": [
    "clf = RandomForestClassifier(n_estimators = 350)\n",
    "clf.fit(X_train,y_train)"
   ]
  },
  {
   "cell_type": "code",
   "execution_count": 665,
   "metadata": {},
   "outputs": [
    {
     "data": {
      "text/plain": [
       "SelectFromModel(estimator=RandomForestClassifier(bootstrap=True, class_weight=None, criterion='gini',\n",
       "            max_depth=None, max_features='auto', max_leaf_nodes=None,\n",
       "            min_impurity_decrease=0.0, min_impurity_split=None,\n",
       "            min_samples_leaf=1, min_samples_split=2,\n",
       "            min_weight_fraction_leaf=0.0, n_estimators=350, n_jobs=None,\n",
       "            oob_score=False, random_state=None, verbose=0,\n",
       "            warm_start=False),\n",
       "        max_features=None, norm_order=1, prefit=False, threshold=None)"
      ]
     },
     "execution_count": 665,
     "metadata": {},
     "output_type": "execute_result"
    }
   ],
   "source": [
    "sel = SelectFromModel(clf)\n",
    "sel.fit(X_train, y_train)"
   ]
  },
  {
   "cell_type": "code",
   "execution_count": 666,
   "metadata": {},
   "outputs": [
    {
     "data": {
      "text/plain": [
       "RandomForestClassifier(bootstrap=True, class_weight=None, criterion='gini',\n",
       "            max_depth=None, max_features='auto', max_leaf_nodes=None,\n",
       "            min_impurity_decrease=0.0, min_impurity_split=None,\n",
       "            min_samples_leaf=1, min_samples_split=2,\n",
       "            min_weight_fraction_leaf=0.0, n_estimators=350, n_jobs=None,\n",
       "            oob_score=False, random_state=None, verbose=0,\n",
       "            warm_start=False)"
      ]
     },
     "execution_count": 666,
     "metadata": {},
     "output_type": "execute_result"
    }
   ],
   "source": [
    "selected_feat= X_train.columns[(sel.get_support())]\n",
    "clf.fit(X_train[selected_feat], y_train)"
   ]
  },
  {
   "cell_type": "code",
   "execution_count": 667,
   "metadata": {},
   "outputs": [],
   "source": [
    "predict = clf.predict(X_val[selected_feat])"
   ]
  },
  {
   "cell_type": "code",
   "execution_count": 668,
   "metadata": {},
   "outputs": [
    {
     "name": "stdout",
     "output_type": "stream",
     "text": [
      "0.8925025676138308\n",
      "[[2476  240]\n",
      " [  74  131]]\n"
     ]
    }
   ],
   "source": [
    "from sklearn.metrics import accuracy_score,confusion_matrix\n",
    "accuracy = accuracy_score(predict, y_val)\n",
    "confusion_matrix = confusion_matrix(predict, y_val)\n",
    "print(accuracy)\n",
    "print(confusion_matrix)\n",
    "\n",
    "##0.891475522081479\n",
    "#[[2487  254]\n",
    "#[  63  117]]\n",
    "\n",
    "#350\n",
    "#0.8921602191030469\n",
    "#[[2489  254]\n",
    "# [  61  117]]\n",
    "\n",
    "#350 sel feature\n",
    "#0.8925025676138308\n",
    "#[[2473  237]\n",
    "# [  77  134]]\n",
    "\n",
    "#Sales person one hot\n",
    "#0.8938719616569668\n",
    "#[[2473  233]\n",
    "# [  77  138]]"
   ]
  },
  {
   "cell_type": "code",
   "execution_count": 513,
   "metadata": {},
   "outputs": [],
   "source": [
    "imp = pd.DataFrame(selected_feat)"
   ]
  },
  {
   "cell_type": "code",
   "execution_count": 514,
   "metadata": {},
   "outputs": [
    {
     "data": {
      "text/html": [
       "<div>\n",
       "<style scoped>\n",
       "    .dataframe tbody tr th:only-of-type {\n",
       "        vertical-align: middle;\n",
       "    }\n",
       "\n",
       "    .dataframe tbody tr th {\n",
       "        vertical-align: top;\n",
       "    }\n",
       "\n",
       "    .dataframe thead th {\n",
       "        text-align: right;\n",
       "    }\n",
       "</style>\n",
       "<table border=\"1\" class=\"dataframe\">\n",
       "  <thead>\n",
       "    <tr style=\"text-align: right;\">\n",
       "      <th></th>\n",
       "      <th>0</th>\n",
       "      <th>Importance</th>\n",
       "    </tr>\n",
       "  </thead>\n",
       "  <tbody>\n",
       "    <tr>\n",
       "      <th>0</th>\n",
       "      <td>Rev_17_GeoPod</td>\n",
       "      <td>0.039878</td>\n",
       "    </tr>\n",
       "    <tr>\n",
       "      <th>1</th>\n",
       "      <td>Vol_17_GeoPod</td>\n",
       "      <td>0.033135</td>\n",
       "    </tr>\n",
       "    <tr>\n",
       "      <th>2</th>\n",
       "      <td>Rev_17_GeoPod_Logistics</td>\n",
       "      <td>0.024225</td>\n",
       "    </tr>\n",
       "    <tr>\n",
       "      <th>3</th>\n",
       "      <td>Rev_17_GeoPod_Finance</td>\n",
       "      <td>0.036753</td>\n",
       "    </tr>\n",
       "    <tr>\n",
       "      <th>4</th>\n",
       "      <td>Vol_17_GeoPod_Finance</td>\n",
       "      <td>0.031756</td>\n",
       "    </tr>\n",
       "    <tr>\n",
       "      <th>5</th>\n",
       "      <td>Vol_17_Death_Event</td>\n",
       "      <td>0.019394</td>\n",
       "    </tr>\n",
       "    <tr>\n",
       "      <th>6</th>\n",
       "      <td>Vol_17_Birth_Event</td>\n",
       "      <td>0.028040</td>\n",
       "    </tr>\n",
       "    <tr>\n",
       "      <th>7</th>\n",
       "      <td>Vol_17_COA</td>\n",
       "      <td>0.027982</td>\n",
       "    </tr>\n",
       "    <tr>\n",
       "      <th>8</th>\n",
       "      <td>Rev_17_D</td>\n",
       "      <td>0.020075</td>\n",
       "    </tr>\n",
       "    <tr>\n",
       "      <th>9</th>\n",
       "      <td>Rev_17_G</td>\n",
       "      <td>0.029328</td>\n",
       "    </tr>\n",
       "    <tr>\n",
       "      <th>10</th>\n",
       "      <td>Vol_17_D</td>\n",
       "      <td>0.020474</td>\n",
       "    </tr>\n",
       "    <tr>\n",
       "      <th>11</th>\n",
       "      <td>Vol_17_G</td>\n",
       "      <td>0.024510</td>\n",
       "    </tr>\n",
       "    <tr>\n",
       "      <th>12</th>\n",
       "      <td>DataCorp_Market_Share</td>\n",
       "      <td>0.079369</td>\n",
       "    </tr>\n",
       "    <tr>\n",
       "      <th>13</th>\n",
       "      <td>Major_competitor_market_share</td>\n",
       "      <td>0.049959</td>\n",
       "    </tr>\n",
       "    <tr>\n",
       "      <th>14</th>\n",
       "      <td>Other_competitor_market_share</td>\n",
       "      <td>0.047126</td>\n",
       "    </tr>\n",
       "    <tr>\n",
       "      <th>15</th>\n",
       "      <td>Tenure_months</td>\n",
       "      <td>0.102529</td>\n",
       "    </tr>\n",
       "    <tr>\n",
       "      <th>16</th>\n",
       "      <td>Discount_17</td>\n",
       "      <td>0.022007</td>\n",
       "    </tr>\n",
       "    <tr>\n",
       "      <th>17</th>\n",
       "      <td>Count_Entities</td>\n",
       "      <td>0.039643</td>\n",
       "    </tr>\n",
       "    <tr>\n",
       "      <th>18</th>\n",
       "      <td>Count_Jurisdicion</td>\n",
       "      <td>0.038672</td>\n",
       "    </tr>\n",
       "    <tr>\n",
       "      <th>19</th>\n",
       "      <td>Price_Point</td>\n",
       "      <td>0.038641</td>\n",
       "    </tr>\n",
       "    <tr>\n",
       "      <th>20</th>\n",
       "      <td>Vol_16_GeoPod_HR</td>\n",
       "      <td>0.045195</td>\n",
       "    </tr>\n",
       "    <tr>\n",
       "      <th>21</th>\n",
       "      <td>Vol_16_D</td>\n",
       "      <td>0.024791</td>\n",
       "    </tr>\n",
       "    <tr>\n",
       "      <th>22</th>\n",
       "      <td>0_count_s_J</td>\n",
       "      <td>0.028228</td>\n",
       "    </tr>\n",
       "    <tr>\n",
       "      <th>23</th>\n",
       "      <td>0_count_s_D</td>\n",
       "      <td>0.028957</td>\n",
       "    </tr>\n",
       "    <tr>\n",
       "      <th>24</th>\n",
       "      <td>score_s_J</td>\n",
       "      <td>0.037991</td>\n",
       "    </tr>\n",
       "    <tr>\n",
       "      <th>25</th>\n",
       "      <td>score_s_D</td>\n",
       "      <td>0.038879</td>\n",
       "    </tr>\n",
       "    <tr>\n",
       "      <th>26</th>\n",
       "      <td>Tenure_months_new</td>\n",
       "      <td>0.042461</td>\n",
       "    </tr>\n",
       "  </tbody>\n",
       "</table>\n",
       "</div>"
      ],
      "text/plain": [
       "                                0  Importance\n",
       "0                   Rev_17_GeoPod    0.039878\n",
       "1                   Vol_17_GeoPod    0.033135\n",
       "2         Rev_17_GeoPod_Logistics    0.024225\n",
       "3           Rev_17_GeoPod_Finance    0.036753\n",
       "4           Vol_17_GeoPod_Finance    0.031756\n",
       "5              Vol_17_Death_Event    0.019394\n",
       "6              Vol_17_Birth_Event    0.028040\n",
       "7                      Vol_17_COA    0.027982\n",
       "8                        Rev_17_D    0.020075\n",
       "9                        Rev_17_G    0.029328\n",
       "10                       Vol_17_D    0.020474\n",
       "11                       Vol_17_G    0.024510\n",
       "12          DataCorp_Market_Share    0.079369\n",
       "13  Major_competitor_market_share    0.049959\n",
       "14  Other_competitor_market_share    0.047126\n",
       "15                  Tenure_months    0.102529\n",
       "16                    Discount_17    0.022007\n",
       "17                 Count_Entities    0.039643\n",
       "18              Count_Jurisdicion    0.038672\n",
       "19                    Price_Point    0.038641\n",
       "20               Vol_16_GeoPod_HR    0.045195\n",
       "21                       Vol_16_D    0.024791\n",
       "22                    0_count_s_J    0.028228\n",
       "23                    0_count_s_D    0.028957\n",
       "24                      score_s_J    0.037991\n",
       "25                      score_s_D    0.038879\n",
       "26              Tenure_months_new    0.042461"
      ]
     },
     "execution_count": 514,
     "metadata": {},
     "output_type": "execute_result"
    }
   ],
   "source": [
    "imp['Importance'] = clf.feature_importances_\n",
    "imp"
   ]
  },
  {
   "cell_type": "code",
   "execution_count": 515,
   "metadata": {},
   "outputs": [
    {
     "data": {
      "text/html": [
       "<div>\n",
       "<style scoped>\n",
       "    .dataframe tbody tr th:only-of-type {\n",
       "        vertical-align: middle;\n",
       "    }\n",
       "\n",
       "    .dataframe tbody tr th {\n",
       "        vertical-align: top;\n",
       "    }\n",
       "\n",
       "    .dataframe thead th {\n",
       "        text-align: right;\n",
       "    }\n",
       "</style>\n",
       "<table border=\"1\" class=\"dataframe\">\n",
       "  <thead>\n",
       "    <tr style=\"text-align: right;\">\n",
       "      <th></th>\n",
       "      <th>0</th>\n",
       "      <th>Importance</th>\n",
       "    </tr>\n",
       "  </thead>\n",
       "  <tbody>\n",
       "    <tr>\n",
       "      <th>15</th>\n",
       "      <td>Tenure_months</td>\n",
       "      <td>0.102529</td>\n",
       "    </tr>\n",
       "    <tr>\n",
       "      <th>12</th>\n",
       "      <td>DataCorp_Market_Share</td>\n",
       "      <td>0.079369</td>\n",
       "    </tr>\n",
       "    <tr>\n",
       "      <th>13</th>\n",
       "      <td>Major_competitor_market_share</td>\n",
       "      <td>0.049959</td>\n",
       "    </tr>\n",
       "    <tr>\n",
       "      <th>14</th>\n",
       "      <td>Other_competitor_market_share</td>\n",
       "      <td>0.047126</td>\n",
       "    </tr>\n",
       "    <tr>\n",
       "      <th>20</th>\n",
       "      <td>Vol_16_GeoPod_HR</td>\n",
       "      <td>0.045195</td>\n",
       "    </tr>\n",
       "    <tr>\n",
       "      <th>26</th>\n",
       "      <td>Tenure_months_new</td>\n",
       "      <td>0.042461</td>\n",
       "    </tr>\n",
       "    <tr>\n",
       "      <th>0</th>\n",
       "      <td>Rev_17_GeoPod</td>\n",
       "      <td>0.039878</td>\n",
       "    </tr>\n",
       "    <tr>\n",
       "      <th>17</th>\n",
       "      <td>Count_Entities</td>\n",
       "      <td>0.039643</td>\n",
       "    </tr>\n",
       "    <tr>\n",
       "      <th>25</th>\n",
       "      <td>score_s_D</td>\n",
       "      <td>0.038879</td>\n",
       "    </tr>\n",
       "    <tr>\n",
       "      <th>18</th>\n",
       "      <td>Count_Jurisdicion</td>\n",
       "      <td>0.038672</td>\n",
       "    </tr>\n",
       "    <tr>\n",
       "      <th>19</th>\n",
       "      <td>Price_Point</td>\n",
       "      <td>0.038641</td>\n",
       "    </tr>\n",
       "    <tr>\n",
       "      <th>24</th>\n",
       "      <td>score_s_J</td>\n",
       "      <td>0.037991</td>\n",
       "    </tr>\n",
       "    <tr>\n",
       "      <th>3</th>\n",
       "      <td>Rev_17_GeoPod_Finance</td>\n",
       "      <td>0.036753</td>\n",
       "    </tr>\n",
       "    <tr>\n",
       "      <th>1</th>\n",
       "      <td>Vol_17_GeoPod</td>\n",
       "      <td>0.033135</td>\n",
       "    </tr>\n",
       "    <tr>\n",
       "      <th>4</th>\n",
       "      <td>Vol_17_GeoPod_Finance</td>\n",
       "      <td>0.031756</td>\n",
       "    </tr>\n",
       "    <tr>\n",
       "      <th>9</th>\n",
       "      <td>Rev_17_G</td>\n",
       "      <td>0.029328</td>\n",
       "    </tr>\n",
       "    <tr>\n",
       "      <th>23</th>\n",
       "      <td>0_count_s_D</td>\n",
       "      <td>0.028957</td>\n",
       "    </tr>\n",
       "    <tr>\n",
       "      <th>22</th>\n",
       "      <td>0_count_s_J</td>\n",
       "      <td>0.028228</td>\n",
       "    </tr>\n",
       "    <tr>\n",
       "      <th>6</th>\n",
       "      <td>Vol_17_Birth_Event</td>\n",
       "      <td>0.028040</td>\n",
       "    </tr>\n",
       "    <tr>\n",
       "      <th>7</th>\n",
       "      <td>Vol_17_COA</td>\n",
       "      <td>0.027982</td>\n",
       "    </tr>\n",
       "    <tr>\n",
       "      <th>21</th>\n",
       "      <td>Vol_16_D</td>\n",
       "      <td>0.024791</td>\n",
       "    </tr>\n",
       "    <tr>\n",
       "      <th>11</th>\n",
       "      <td>Vol_17_G</td>\n",
       "      <td>0.024510</td>\n",
       "    </tr>\n",
       "    <tr>\n",
       "      <th>2</th>\n",
       "      <td>Rev_17_GeoPod_Logistics</td>\n",
       "      <td>0.024225</td>\n",
       "    </tr>\n",
       "    <tr>\n",
       "      <th>16</th>\n",
       "      <td>Discount_17</td>\n",
       "      <td>0.022007</td>\n",
       "    </tr>\n",
       "    <tr>\n",
       "      <th>10</th>\n",
       "      <td>Vol_17_D</td>\n",
       "      <td>0.020474</td>\n",
       "    </tr>\n",
       "    <tr>\n",
       "      <th>8</th>\n",
       "      <td>Rev_17_D</td>\n",
       "      <td>0.020075</td>\n",
       "    </tr>\n",
       "    <tr>\n",
       "      <th>5</th>\n",
       "      <td>Vol_17_Death_Event</td>\n",
       "      <td>0.019394</td>\n",
       "    </tr>\n",
       "  </tbody>\n",
       "</table>\n",
       "</div>"
      ],
      "text/plain": [
       "                                0  Importance\n",
       "15                  Tenure_months    0.102529\n",
       "12          DataCorp_Market_Share    0.079369\n",
       "13  Major_competitor_market_share    0.049959\n",
       "14  Other_competitor_market_share    0.047126\n",
       "20               Vol_16_GeoPod_HR    0.045195\n",
       "26              Tenure_months_new    0.042461\n",
       "0                   Rev_17_GeoPod    0.039878\n",
       "17                 Count_Entities    0.039643\n",
       "25                      score_s_D    0.038879\n",
       "18              Count_Jurisdicion    0.038672\n",
       "19                    Price_Point    0.038641\n",
       "24                      score_s_J    0.037991\n",
       "3           Rev_17_GeoPod_Finance    0.036753\n",
       "1                   Vol_17_GeoPod    0.033135\n",
       "4           Vol_17_GeoPod_Finance    0.031756\n",
       "9                        Rev_17_G    0.029328\n",
       "23                    0_count_s_D    0.028957\n",
       "22                    0_count_s_J    0.028228\n",
       "6              Vol_17_Birth_Event    0.028040\n",
       "7                      Vol_17_COA    0.027982\n",
       "21                       Vol_16_D    0.024791\n",
       "11                       Vol_17_G    0.024510\n",
       "2         Rev_17_GeoPod_Logistics    0.024225\n",
       "16                    Discount_17    0.022007\n",
       "10                       Vol_17_D    0.020474\n",
       "8                        Rev_17_D    0.020075\n",
       "5              Vol_17_Death_Event    0.019394"
      ]
     },
     "execution_count": 515,
     "metadata": {},
     "output_type": "execute_result"
    }
   ],
   "source": [
    "imp.sort_values(by = ['Importance'], ascending = False)"
   ]
  },
  {
   "cell_type": "markdown",
   "metadata": {},
   "source": [
    "### Tuning"
   ]
  },
  {
   "cell_type": "code",
   "execution_count": 596,
   "metadata": {},
   "outputs": [],
   "source": [
    "from sklearn.model_selection import RandomizedSearchCV\n",
    "# Number of trees in random forest\n",
    "n_estimators = [int(x) for x in np.linspace(start = 200, stop = 600, num = 50)]\n",
    "# Number of features to consider at every split\n",
    "max_features = ['auto', 'sqrt']\n",
    "# Maximum number of levels in tree\n",
    "max_depth = [int(x) for x in np.linspace(10, 100, num = 5)]\n",
    "max_depth.append(None)\n",
    "# Minimum number of samples required to split a node\n",
    "min_samples_split = [2, 5, 10]\n",
    "# Minimum number of samples required at each leaf node\n",
    "min_samples_leaf = [1, 2, 4]\n",
    "# Method of selecting samples for training each tree\n",
    "bootstrap = [True, False]\n",
    "# Create the random grid\n",
    "random_grid = {'n_estimators': n_estimators,\n",
    "               'max_features': max_features,\n",
    "               'max_depth': max_depth,\n",
    "               'min_samples_split': min_samples_split,\n",
    "               'min_samples_leaf': min_samples_leaf,\n",
    "               'bootstrap': bootstrap}"
   ]
  },
  {
   "cell_type": "code",
   "execution_count": 606,
   "metadata": {},
   "outputs": [
    {
     "name": "stdout",
     "output_type": "stream",
     "text": [
      "Fitting 3 folds for each of 20 candidates, totalling 60 fits\n"
     ]
    },
    {
     "name": "stderr",
     "output_type": "stream",
     "text": [
      "[Parallel(n_jobs=-1)]: Using backend LokyBackend with 4 concurrent workers.\n",
      "[Parallel(n_jobs=-1)]: Done  33 tasks      | elapsed:  2.7min\n",
      "[Parallel(n_jobs=-1)]: Done  60 out of  60 | elapsed:  4.8min finished\n"
     ]
    },
    {
     "data": {
      "text/plain": [
       "RandomizedSearchCV(cv=3, error_score='raise-deprecating',\n",
       "          estimator=RandomForestClassifier(bootstrap=True, class_weight=None, criterion='gini',\n",
       "            max_depth=None, max_features='auto', max_leaf_nodes=None,\n",
       "            min_impurity_decrease=0.0, min_impurity_split=None,\n",
       "            min_samples_leaf=1, min_samples_split=2,\n",
       "            min_weight_fraction_leaf=0.0, n_estimators='warn', n_jobs=None,\n",
       "            oob_score=False, random_state=None, verbose=0,\n",
       "            warm_start=False),\n",
       "          fit_params=None, iid='warn', n_iter=20, n_jobs=-1,\n",
       "          param_distributions={'n_estimators': [200, 208, 216, 224, 232, 240, 248, 257, 265, 273, 281, 289, 297, 306, 314, 322, 330, 338, 346, 355, 363, 371, 379, 387, 395, 404, 412, 420, 428, 436, 444, 453, 461, 469, 477, 485, 493, 502, 510, 518, 526, 534, 542, 551, 559, 567, 575, 583, 591, 600], 'max_features': ['auto', 'sqrt'], 'max_depth': [10, 32, 55, 77, 100, None], 'min_samples_split': [2, 5, 10], 'min_samples_leaf': [1, 2, 4], 'bootstrap': [True, False]},\n",
       "          pre_dispatch='2*n_jobs', random_state=42, refit=True,\n",
       "          return_train_score='warn', scoring=None, verbose=2)"
      ]
     },
     "execution_count": 606,
     "metadata": {},
     "output_type": "execute_result"
    }
   ],
   "source": [
    "# Use the random grid to search for best hyperparameters\n",
    "# First create the base model to tune\n",
    "rf = RandomForestClassifier()\n",
    "# Random search of parameters, using 3 fold cross validation, \n",
    "# search across 100 different combinations, and use all available cores\n",
    "rf_random = RandomizedSearchCV(estimator = rf, param_distributions = random_grid, n_iter = 20, cv = 3, verbose=2, random_state=42, n_jobs = -1)\n",
    "# Fit the random search model\n",
    "rf_random.fit(X_train[selected_feat], y_train)"
   ]
  },
  {
   "cell_type": "code",
   "execution_count": 674,
   "metadata": {},
   "outputs": [
    {
     "data": {
      "text/plain": [
       "RandomForestClassifier(bootstrap=True, class_weight=None, criterion='gini',\n",
       "            max_depth=None, max_features='sqrt', max_leaf_nodes=None,\n",
       "            min_impurity_decrease=0.0, min_impurity_split=None,\n",
       "            min_samples_leaf=1, min_samples_split=10,\n",
       "            min_weight_fraction_leaf=0.0, n_estimators=208, n_jobs=None,\n",
       "            oob_score=False, random_state=None, verbose=0,\n",
       "            warm_start=False)"
      ]
     },
     "execution_count": 674,
     "metadata": {},
     "output_type": "execute_result"
    }
   ],
   "source": [
    "def evaluate(model, test_features, test_labels):\n",
    "    predictions = model.predict(test_features)\n",
    "    errors = abs(predictions - test_labels)\n",
    "    mape = 100 * np.mean(errors / test_labels)\n",
    "    accuracy = 100 - mape\n",
    "    print('Model Performance')\n",
    "    print('Average Error: {:0.4f} degrees.'.format(np.mean(errors)))\n",
    "    print('Accuracy = {:0.2f}%.'.format(accuracy))\n",
    "    \n",
    "    return accuracy\n",
    "#params=rf_random.best_params_\n",
    "#print(params)\n",
    "## 0.8955837042108867\n",
    "#[[2481  240]\n",
    "# [  69  131]]\n",
    "base_model = RandomForestClassifier(n_estimators=208, min_samples_split=10, min_samples_leaf=1, max_features='sqrt', max_depth=None, bootstrap=True)\n",
    "#base_model = RandomForestClassifier(n_estimators=208, min_samples_split=5, min_samples_leaf=2, max_features='sqrt', max_depth=None, bootstrap=True)\n",
    "base_model.fit(X_train[selected_feat], y_train)\n",
    "#base_accuracy = evaluate(base_model, X_val[selected_feat], y_val)"
   ]
  },
  {
   "cell_type": "code",
   "execution_count": 675,
   "metadata": {},
   "outputs": [
    {
     "name": "stdout",
     "output_type": "stream",
     "text": [
      "0.8931872646353989\n",
      "[[2481  243]\n",
      " [  69  128]]\n"
     ]
    }
   ],
   "source": [
    "from sklearn.metrics import accuracy_score,confusion_matrix\n",
    "predict = base_model.predict(X_val[selected_feat])\n",
    "accuracy = accuracy_score(predict, y_val)\n",
    "#print(y_train)\n",
    "#print(type(list(y_train)))\n",
    "confusion_matrix_ = confusion_matrix(predict, y_val)\n",
    "print(accuracy)\n",
    "print(confusion_matrix_)"
   ]
  },
  {
   "cell_type": "code",
   "execution_count": 678,
   "metadata": {},
   "outputs": [],
   "source": [
    "predict = base_model.predict(Xtest[selected_feat])\n",
    "df_test['Output'] = predict"
   ]
  },
  {
   "cell_type": "code",
   "execution_count": 679,
   "metadata": {},
   "outputs": [
    {
     "name": "stdout",
     "output_type": "stream",
     "text": [
      "        UNIQUE_ID  Output\n",
      "14601          23       0\n",
      "14602          29       0\n",
      "14603          52       0\n",
      "14604          88       0\n",
      "14605         134       1\n",
      "14606         163       0\n",
      "14607         190       0\n",
      "14608         197       0\n",
      "14609         267       0\n",
      "14610         277       0\n",
      "14611         282       0\n",
      "14612         364       0\n",
      "14613         422       0\n",
      "14614         455       0\n",
      "14615         460       0\n",
      "14616         464       0\n",
      "14617         472       0\n",
      "14618         493       0\n",
      "14619         511       0\n",
      "14620         536       0\n",
      "14621         559       0\n",
      "14622         572       0\n",
      "14623         629       0\n",
      "14624         639       0\n",
      "14625         640       0\n",
      "14626         692       0\n",
      "14627         746       0\n",
      "14628         753       0\n",
      "14629         824       0\n",
      "14630         831       0\n",
      "...           ...     ...\n",
      "18571  9401518645       0\n",
      "18572  9401521096       1\n",
      "18573  9401522994       0\n",
      "18574  9401523516       0\n",
      "18575  9401523530       1\n",
      "18576  9401523939       0\n",
      "18577  9401523951       0\n",
      "18578  9401525183       0\n",
      "18579  9401527451       0\n",
      "18580  9401528409       1\n",
      "18581  9401529099       0\n",
      "18582  9401530050       0\n",
      "18583  9401532245       0\n",
      "18584  9401534497       1\n",
      "18585  9401538533       0\n",
      "18586  9401541094       0\n",
      "18587  9401548699       0\n",
      "18588  9401555637       0\n",
      "18589  9401558450       0\n",
      "18590  9401559014       0\n",
      "18591  9401560656       1\n",
      "18592  9401570190       1\n",
      "18593  9401572168       0\n",
      "18594  9401573946       0\n",
      "18595  9401575614       0\n",
      "18596  9401576709       0\n",
      "18597  9401576978       1\n",
      "18598  9401577485       0\n",
      "18599  9401578730       0\n",
      "18600  9401581749       0\n",
      "\n",
      "[4000 rows x 2 columns]\n"
     ]
    }
   ],
   "source": [
    "print(df_test[['UNIQUE_ID', 'Output']])"
   ]
  },
  {
   "cell_type": "code",
   "execution_count": 680,
   "metadata": {},
   "outputs": [],
   "source": [
    "df_test[['UNIQUE_ID', 'Output']].to_csv('D:\\PGDBA\\Competitions\\EXL-Acumen\\Final.csv')"
   ]
  },
  {
   "cell_type": "code",
   "execution_count": null,
   "metadata": {},
   "outputs": [],
   "source": []
  }
 ],
 "metadata": {
  "kernelspec": {
   "display_name": "Python 3",
   "language": "python",
   "name": "python3"
  },
  "language_info": {
   "codemirror_mode": {
    "name": "ipython",
    "version": 3
   },
   "file_extension": ".py",
   "mimetype": "text/x-python",
   "name": "python",
   "nbconvert_exporter": "python",
   "pygments_lexer": "ipython3",
   "version": "3.7.1"
  }
 },
 "nbformat": 4,
 "nbformat_minor": 2
}
