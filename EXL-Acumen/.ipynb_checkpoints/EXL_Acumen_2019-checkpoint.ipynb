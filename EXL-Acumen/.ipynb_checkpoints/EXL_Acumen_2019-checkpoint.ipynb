{
 "cells": [
  {
   "cell_type": "code",
   "execution_count": 184,
   "metadata": {},
   "outputs": [],
   "source": [
    "import pandas as pd\n",
    "import numpy as np"
   ]
  },
  {
   "cell_type": "code",
   "execution_count": 282,
   "metadata": {},
   "outputs": [],
   "source": [
    "data = pd.read_csv('D:/PGDBA/Competitions/EXL-Acumen/Input.csv')\n",
    "submit = pd.read_csv('D:\\PGDBA\\Competitions\\EXL-Acumen\\submit.csv')"
   ]
  },
  {
   "cell_type": "code",
   "execution_count": 283,
   "metadata": {},
   "outputs": [
    {
     "data": {
      "text/html": [
       "<div>\n",
       "<style scoped>\n",
       "    .dataframe tbody tr th:only-of-type {\n",
       "        vertical-align: middle;\n",
       "    }\n",
       "\n",
       "    .dataframe tbody tr th {\n",
       "        vertical-align: top;\n",
       "    }\n",
       "\n",
       "    .dataframe thead th {\n",
       "        text-align: right;\n",
       "    }\n",
       "</style>\n",
       "<table border=\"1\" class=\"dataframe\">\n",
       "  <thead>\n",
       "    <tr style=\"text-align: right;\">\n",
       "      <th></th>\n",
       "      <th>UNIQUE_ID</th>\n",
       "      <th>Rev_17_GeoPod</th>\n",
       "      <th>Rev_17_B</th>\n",
       "      <th>Rev_17_C</th>\n",
       "      <th>Vol_17_GeoPod</th>\n",
       "      <th>Vol_17_B</th>\n",
       "      <th>Vol_17_C</th>\n",
       "      <th>Rev_17_GeoPod_Logistics</th>\n",
       "      <th>Rev_17_GeoPod_HR</th>\n",
       "      <th>Rev_17_GeoPod_Finance</th>\n",
       "      <th>...</th>\n",
       "      <th>Vol_16_GeoPod_Logistics</th>\n",
       "      <th>Vol_16_GeoPod_HR</th>\n",
       "      <th>Vol_16_GeoPod_Finance</th>\n",
       "      <th>Vol_16_D</th>\n",
       "      <th>Vol_16_E</th>\n",
       "      <th>Vol_16_F</th>\n",
       "      <th>Vol_16_G</th>\n",
       "      <th>Vol_16_H</th>\n",
       "      <th>Vol_16_I</th>\n",
       "      <th>Attrition_Flag</th>\n",
       "    </tr>\n",
       "  </thead>\n",
       "  <tbody>\n",
       "    <tr>\n",
       "      <th>0</th>\n",
       "      <td>20</td>\n",
       "      <td>148458.28</td>\n",
       "      <td>648.24</td>\n",
       "      <td>0.0</td>\n",
       "      <td>1533</td>\n",
       "      <td>6</td>\n",
       "      <td>0</td>\n",
       "      <td>126.33</td>\n",
       "      <td>1.816350e+03</td>\n",
       "      <td>146515.60</td>\n",
       "      <td>...</td>\n",
       "      <td>1</td>\n",
       "      <td>1461</td>\n",
       "      <td>57</td>\n",
       "      <td>457</td>\n",
       "      <td>0</td>\n",
       "      <td>0</td>\n",
       "      <td>2350</td>\n",
       "      <td>0</td>\n",
       "      <td>0</td>\n",
       "      <td>0</td>\n",
       "    </tr>\n",
       "    <tr>\n",
       "      <th>1</th>\n",
       "      <td>37</td>\n",
       "      <td>48796.95</td>\n",
       "      <td>0.00</td>\n",
       "      <td>0.0</td>\n",
       "      <td>294</td>\n",
       "      <td>0</td>\n",
       "      <td>0</td>\n",
       "      <td>209.00</td>\n",
       "      <td>8.974500e+02</td>\n",
       "      <td>47690.50</td>\n",
       "      <td>...</td>\n",
       "      <td>1</td>\n",
       "      <td>278</td>\n",
       "      <td>6</td>\n",
       "      <td>109</td>\n",
       "      <td>1</td>\n",
       "      <td>0</td>\n",
       "      <td>7</td>\n",
       "      <td>0</td>\n",
       "      <td>0</td>\n",
       "      <td>0</td>\n",
       "    </tr>\n",
       "    <tr>\n",
       "      <th>2</th>\n",
       "      <td>44</td>\n",
       "      <td>1875.00</td>\n",
       "      <td>0.00</td>\n",
       "      <td>0.0</td>\n",
       "      <td>7</td>\n",
       "      <td>0</td>\n",
       "      <td>0</td>\n",
       "      <td>380.00</td>\n",
       "      <td>0.000000e+00</td>\n",
       "      <td>1495.00</td>\n",
       "      <td>...</td>\n",
       "      <td>1</td>\n",
       "      <td>3</td>\n",
       "      <td>0</td>\n",
       "      <td>0</td>\n",
       "      <td>0</td>\n",
       "      <td>0</td>\n",
       "      <td>0</td>\n",
       "      <td>0</td>\n",
       "      <td>0</td>\n",
       "      <td>0</td>\n",
       "    </tr>\n",
       "    <tr>\n",
       "      <th>3</th>\n",
       "      <td>48</td>\n",
       "      <td>1009.20</td>\n",
       "      <td>0.00</td>\n",
       "      <td>0.0</td>\n",
       "      <td>8</td>\n",
       "      <td>0</td>\n",
       "      <td>0</td>\n",
       "      <td>0.00</td>\n",
       "      <td>2.186900e+02</td>\n",
       "      <td>790.51</td>\n",
       "      <td>...</td>\n",
       "      <td>0</td>\n",
       "      <td>6</td>\n",
       "      <td>1</td>\n",
       "      <td>0</td>\n",
       "      <td>0</td>\n",
       "      <td>0</td>\n",
       "      <td>0</td>\n",
       "      <td>0</td>\n",
       "      <td>0</td>\n",
       "      <td>0</td>\n",
       "    </tr>\n",
       "    <tr>\n",
       "      <th>4</th>\n",
       "      <td>72</td>\n",
       "      <td>9781.23</td>\n",
       "      <td>234.85</td>\n",
       "      <td>0.0</td>\n",
       "      <td>46</td>\n",
       "      <td>1</td>\n",
       "      <td>0</td>\n",
       "      <td>274.59</td>\n",
       "      <td>1.710000e-13</td>\n",
       "      <td>9506.64</td>\n",
       "      <td>...</td>\n",
       "      <td>1</td>\n",
       "      <td>39</td>\n",
       "      <td>0</td>\n",
       "      <td>245</td>\n",
       "      <td>0</td>\n",
       "      <td>0</td>\n",
       "      <td>0</td>\n",
       "      <td>0</td>\n",
       "      <td>0</td>\n",
       "      <td>0</td>\n",
       "    </tr>\n",
       "  </tbody>\n",
       "</table>\n",
       "<p>5 rows × 62 columns</p>\n",
       "</div>"
      ],
      "text/plain": [
       "   UNIQUE_ID  Rev_17_GeoPod  Rev_17_B  Rev_17_C  Vol_17_GeoPod  Vol_17_B  \\\n",
       "0         20      148458.28    648.24       0.0           1533         6   \n",
       "1         37       48796.95      0.00       0.0            294         0   \n",
       "2         44        1875.00      0.00       0.0              7         0   \n",
       "3         48        1009.20      0.00       0.0              8         0   \n",
       "4         72        9781.23    234.85       0.0             46         1   \n",
       "\n",
       "   Vol_17_C  Rev_17_GeoPod_Logistics  Rev_17_GeoPod_HR  Rev_17_GeoPod_Finance  \\\n",
       "0         0                   126.33      1.816350e+03              146515.60   \n",
       "1         0                   209.00      8.974500e+02               47690.50   \n",
       "2         0                   380.00      0.000000e+00                1495.00   \n",
       "3         0                     0.00      2.186900e+02                 790.51   \n",
       "4         0                   274.59      1.710000e-13                9506.64   \n",
       "\n",
       "   ...  Vol_16_GeoPod_Logistics  Vol_16_GeoPod_HR  Vol_16_GeoPod_Finance  \\\n",
       "0  ...                        1              1461                     57   \n",
       "1  ...                        1               278                      6   \n",
       "2  ...                        1                 3                      0   \n",
       "3  ...                        0                 6                      1   \n",
       "4  ...                        1                39                      0   \n",
       "\n",
       "   Vol_16_D  Vol_16_E  Vol_16_F  Vol_16_G  Vol_16_H  Vol_16_I  Attrition_Flag  \n",
       "0       457         0         0      2350         0         0               0  \n",
       "1       109         1         0         7         0         0               0  \n",
       "2         0         0         0         0         0         0               0  \n",
       "3         0         0         0         0         0         0               0  \n",
       "4       245         0         0         0         0         0               0  \n",
       "\n",
       "[5 rows x 62 columns]"
      ]
     },
     "execution_count": 283,
     "metadata": {},
     "output_type": "execute_result"
    }
   ],
   "source": [
    "data.head()"
   ]
  },
  {
   "cell_type": "code",
   "execution_count": 284,
   "metadata": {},
   "outputs": [
    {
     "data": {
      "text/plain": [
       "array(['Large Business', 'Small Business'], dtype=object)"
      ]
     },
     "execution_count": 284,
     "metadata": {},
     "output_type": "execute_result"
    }
   ],
   "source": [
    "data.Market_Segment.unique()"
   ]
  },
  {
   "cell_type": "code",
   "execution_count": 285,
   "metadata": {},
   "outputs": [
    {
     "data": {
      "text/plain": [
       "0"
      ]
     },
     "execution_count": 285,
     "metadata": {},
     "output_type": "execute_result"
    }
   ],
   "source": [
    "len(np.intersect1d(data.UNIQUE_ID,submit.UNIQUE_ID))"
   ]
  },
  {
   "cell_type": "code",
   "execution_count": 286,
   "metadata": {},
   "outputs": [],
   "source": [
    "submit['Attrition_Flag'] = None"
   ]
  },
  {
   "cell_type": "code",
   "execution_count": 287,
   "metadata": {},
   "outputs": [],
   "source": [
    "all_data = data.append(submit, ignore_index = True)"
   ]
  },
  {
   "cell_type": "code",
   "execution_count": 288,
   "metadata": {},
   "outputs": [
    {
     "name": "stdout",
     "output_type": "stream",
     "text": [
      "14601 4000 18601\n"
     ]
    }
   ],
   "source": [
    "print(len(data), len(submit), len(all_data))"
   ]
  },
  {
   "cell_type": "code",
   "execution_count": 289,
   "metadata": {},
   "outputs": [],
   "source": [
    "#all_data[all_data['Attrition_Flag'].isnull()]"
   ]
  },
  {
   "cell_type": "code",
   "execution_count": 290,
   "metadata": {},
   "outputs": [],
   "source": [
    "all_data['Market_Segment'] = ['1' if x == 'Large Business' else 0 for x in all_data['Market_Segment']]\n",
    "all_data['Market_Segment'] = all_data['Market_Segment'].astype('int32')\n",
    "all_data['Market_Segment'] = all_data['Market_Segment'].astype('int32')"
   ]
  },
  {
   "cell_type": "code",
   "execution_count": 291,
   "metadata": {},
   "outputs": [],
   "source": [
    "#all_data.info()"
   ]
  },
  {
   "cell_type": "code",
   "execution_count": 292,
   "metadata": {},
   "outputs": [
    {
     "data": {
      "text/plain": [
       "array(['Multinational Banks', 'Credit Unions', 'Small Business',\n",
       "       'Investment Firms', nan], dtype=object)"
      ]
     },
     "execution_count": 292,
     "metadata": {},
     "output_type": "execute_result"
    }
   ],
   "source": [
    "all_data.Sub_Segment.unique()"
   ]
  },
  {
   "cell_type": "code",
   "execution_count": 293,
   "metadata": {},
   "outputs": [],
   "source": [
    "all_data['Sub_Segment'] = [1 if x == 'Small Business' else x for x in all_data['Sub_Segment']]\n",
    "all_data['Sub_Segment'] = [2 if x == 'Investment Firms' else x for x in all_data['Sub_Segment']]\n",
    "all_data['Sub_Segment'] = [3 if x == 'Credit Unions' else x for x in all_data['Sub_Segment']]\n",
    "all_data['Sub_Segment'] = [4 if x == 'Multinational Banks' else x for x in all_data['Sub_Segment']]\n",
    "all_data['Sub_Segment'].fillna(0, inplace = True)\n",
    "all_data['Sub_Segment'] = all_data['Sub_Segment'].astype('int32')"
   ]
  },
  {
   "cell_type": "code",
   "execution_count": 294,
   "metadata": {},
   "outputs": [],
   "source": [
    "from sklearn.preprocessing import LabelEncoder\n",
    "labelEnc = LabelEncoder()\n",
    "#all_data['Sales_Person_Jun_17'] = ['1' if x == 'Unassigned' else x for x in all_data['Sales_Person_Jun_17']]\n",
    "#all_data['Sales_Person_Jun_17'] = labelEnc.fit_transform(all_data['Sales_Person_Jun_17'])\n",
    "#all_data['Sales_Person_Jun_17'] = all_data['Sales_Person_Jun_17'].astype('int32')\n",
    "all_data['RSM_Jun_17'] = labelEnc.fit_transform(all_data['RSM_Jun_17'])\n",
    "all_data['Director_Jun_17'] = labelEnc.fit_transform(all_data['Director_Jun_17'])\n",
    "all_data['VP_Jun_17'] = labelEnc.fit_transform(all_data['VP_Jun_17'])\n",
    "#all_data['Sales_Person_Dec_17'] = labelEnc.fit_transform(all_data['Sales_Person_Dec_17'])\n",
    "all_data['RSM_Dec_17'] = labelEnc.fit_transform(all_data['RSM_Dec_17'])\n",
    "all_data['Director_Dec_17'] = labelEnc.fit_transform(all_data['Director_Dec_17'])\n",
    "all_data['VP_Dec_17'] = labelEnc.fit_transform(all_data['VP_Dec_17'])"
   ]
  },
  {
   "cell_type": "code",
   "execution_count": 295,
   "metadata": {},
   "outputs": [],
   "source": [
    "#all_data['Sales_Person_Jun_17'] = ['1' if x == 'Unassigned' else 0 for x in all_data['Sales_Person_Jun_17']]\n",
    "#all_data['Sales_Person_Jun_17'] = all_data['Sales_Person_Jun_17'].astype('int32')\n",
    "\n",
    "#all_data['RSM_Jun_17'] = ['1' if x == 'Unassigned' else 0 for x in all_data['RSM_Jun_17']]\n",
    "#all_data['RSM_Jun_17'] = all_data['RSM_Jun_17'].astype('int32')\n",
    "\n",
    "#all_data['Director_Jun_17'] = ['1' if x == 'Unassigned' else 0 for x in all_data['Director_Jun_17']]\n",
    "#all_data['Director_Jun_17'] = all_data['Director_Jun_17'].astype('int32')\n",
    "\n",
    "#all_data['VP_Jun_17'] = ['1' if x == 'Unassigned' else 0 for x in all_data['VP_Jun_17']]\n",
    "#all_data['VP_Jun_17'] = all_data['VP_Jun_17'].astype('int32')\n",
    "\n",
    "#all_data['Sales_Person_Dec_17'] = ['1' if x == 'Unassigned' else 0 for x in all_data['Sales_Person_Dec_17']]\n",
    "#all_data['Sales_Person_Dec_17'] = all_data['Sales_Person_Dec_17'].astype('int32')\n",
    "\n",
    "#all_data['RSM_Dec_17'] = ['1' if x == 'Unassigned' else 0 for x in all_data['RSM_Dec_17']]\n",
    "#all_data['RSM_Dec_17'] = all_data['RSM_Dec_17'].astype('int32')\n",
    "\n",
    "#all_data['Director_Dec_17'] = ['1' if x == 'Unassigned' else 0 for x in all_data['Director_Dec_17']]\n",
    "#all_data['Director_Dec_17'] = all_data['Director_Dec_17'].astype('int32')\n",
    "\n",
    "#all_data['VP_Dec_17'] = ['1' if x == 'Unassigned' else 0 for x in all_data['VP_Dec_17']]\n",
    "#all_data['VP_Dec_17'] = all_data['VP_Dec_17'].astype('int32')"
   ]
  },
  {
   "cell_type": "code",
   "execution_count": 296,
   "metadata": {},
   "outputs": [
    {
     "data": {
      "text/plain": [
       "(305.71, 538715.92)"
      ]
     },
     "execution_count": 296,
     "metadata": {},
     "output_type": "execute_result"
    }
   ],
   "source": [
    "min(all_data['Rev_17_GeoPod']), max(all_data['Rev_17_GeoPod'])"
   ]
  },
  {
   "cell_type": "code",
   "execution_count": 297,
   "metadata": {},
   "outputs": [],
   "source": [
    "#all_data.isnull().sum()"
   ]
  },
  {
   "cell_type": "code",
   "execution_count": 298,
   "metadata": {},
   "outputs": [],
   "source": [
    "all_data.DataCorp_Market_Share.unique()\n",
    "all_data['DataCorp_Market_Share'].fillna(np.mean(all_data.DataCorp_Market_Share), inplace = True)"
   ]
  },
  {
   "cell_type": "code",
   "execution_count": 299,
   "metadata": {},
   "outputs": [],
   "source": [
    "all_data['Major_competitor_market_share'].fillna(round(np.mean(all_data.Major_competitor_market_share),2), inplace = True)\n",
    "#all_data.Major_competitor_market_share.unique()"
   ]
  },
  {
   "cell_type": "code",
   "execution_count": 300,
   "metadata": {},
   "outputs": [],
   "source": [
    "all_data['Other_competitor_market_share'].fillna(round(np.mean(all_data.Other_competitor_market_share),2), inplace = True)\n",
    "#all_data.Other_competitor_market_share.unique()"
   ]
  },
  {
   "cell_type": "code",
   "execution_count": 301,
   "metadata": {},
   "outputs": [],
   "source": [
    "all_data['Tenure_months'].fillna(round(np.mean(all_data.Tenure_months),2), inplace = True)\n",
    "#all_data.Tenure_months.unique()"
   ]
  },
  {
   "cell_type": "code",
   "execution_count": 302,
   "metadata": {},
   "outputs": [],
   "source": [
    "all_data['Count_Entities'].fillna(round(np.mean(all_data.Count_Entities),2), inplace = True)\n",
    "#all_data.Count_Entities.unique()"
   ]
  },
  {
   "cell_type": "code",
   "execution_count": 303,
   "metadata": {},
   "outputs": [],
   "source": [
    "all_data['Count_Jurisdicion'].fillna(round(np.mean(all_data.Count_Jurisdicion),2), inplace = True)\n",
    "#all_data.Count_Jurisdicion.unique()\n",
    "#all_data['Price_per_Unit'] = all_data['Rev_17_GeoPod'] / all_data['Vol_17_GeoPod']\n",
    "#all_data['birth_death'] = all_data['Vol_17_Death_Event'] / (all_data['Vol_17_Birth_Event'] + 1)\n",
    "#all_data['birth_death'].fillna((0), inplace = True)\n",
    "#all_data['Share_Market'] = all_data['DataCorp_Market_Share'] - all_data['Major_competitor_market_share']\n",
    "#all_data['Share_Market'] = [1 if x > 0 else 0 for x in all_data['Share_Market']]\n",
    "#temp_data_1 = pd.DataFrame(data.groupby(['Sales_Person_Jun_17', 'Attrition_Flag'])['UNIQUE_ID'].count().reset_index())\n",
    "#temp_data_1.columns = ['impression_id', 'unique_items_viewed']\n",
    "#temp_data_1 = pd.get_dummies(temp_data_1, columns = ['Attrition_Flag'], drop_first=True)\n",
    "#temp_data_1.head()\n",
    "#['New_rank'] = ['1' if x == 'Unassigned' else 0 for x in all_data['VP_Jun_17']]"
   ]
  },
  {
   "cell_type": "code",
   "execution_count": 304,
   "metadata": {},
   "outputs": [
    {
     "ename": "KeyError",
     "evalue": "('Sales_Person_Jun_17', '0_count', '1_count')",
     "output_type": "error",
     "traceback": [
      "\u001b[1;31m---------------------------------------------------------------------------\u001b[0m",
      "\u001b[1;31mKeyError\u001b[0m                                  Traceback (most recent call last)",
      "\u001b[1;32m~\\Anaconda3\\lib\\site-packages\\pandas\\core\\indexes\\base.py\u001b[0m in \u001b[0;36mget_loc\u001b[1;34m(self, key, method, tolerance)\u001b[0m\n\u001b[0;32m   2656\u001b[0m             \u001b[1;32mtry\u001b[0m\u001b[1;33m:\u001b[0m\u001b[1;33m\u001b[0m\u001b[1;33m\u001b[0m\u001b[0m\n\u001b[1;32m-> 2657\u001b[1;33m                 \u001b[1;32mreturn\u001b[0m \u001b[0mself\u001b[0m\u001b[1;33m.\u001b[0m\u001b[0m_engine\u001b[0m\u001b[1;33m.\u001b[0m\u001b[0mget_loc\u001b[0m\u001b[1;33m(\u001b[0m\u001b[0mkey\u001b[0m\u001b[1;33m)\u001b[0m\u001b[1;33m\u001b[0m\u001b[1;33m\u001b[0m\u001b[0m\n\u001b[0m\u001b[0;32m   2658\u001b[0m             \u001b[1;32mexcept\u001b[0m \u001b[0mKeyError\u001b[0m\u001b[1;33m:\u001b[0m\u001b[1;33m\u001b[0m\u001b[1;33m\u001b[0m\u001b[0m\n",
      "\u001b[1;32mpandas/_libs/index.pyx\u001b[0m in \u001b[0;36mpandas._libs.index.IndexEngine.get_loc\u001b[1;34m()\u001b[0m\n",
      "\u001b[1;32mpandas/_libs/index.pyx\u001b[0m in \u001b[0;36mpandas._libs.index.IndexEngine.get_loc\u001b[1;34m()\u001b[0m\n",
      "\u001b[1;32mpandas/_libs/hashtable_class_helper.pxi\u001b[0m in \u001b[0;36mpandas._libs.hashtable.PyObjectHashTable.get_item\u001b[1;34m()\u001b[0m\n",
      "\u001b[1;32mpandas/_libs/hashtable_class_helper.pxi\u001b[0m in \u001b[0;36mpandas._libs.hashtable.PyObjectHashTable.get_item\u001b[1;34m()\u001b[0m\n",
      "\u001b[1;31mKeyError\u001b[0m: ('Sales_Person_Jun_17', '0_count', '1_count')",
      "\nDuring handling of the above exception, another exception occurred:\n",
      "\u001b[1;31mKeyError\u001b[0m                                  Traceback (most recent call last)",
      "\u001b[1;32m<ipython-input-304-cc5eb90cddf2>\u001b[0m in \u001b[0;36m<module>\u001b[1;34m\u001b[0m\n\u001b[0;32m     29\u001b[0m \u001b[0mtemp_data2\u001b[0m\u001b[1;33m.\u001b[0m\u001b[0mhead\u001b[0m\u001b[1;33m(\u001b[0m\u001b[1;33m)\u001b[0m\u001b[1;33m\u001b[0m\u001b[1;33m\u001b[0m\u001b[0m\n\u001b[0;32m     30\u001b[0m \u001b[1;33m\u001b[0m\u001b[0m\n\u001b[1;32m---> 31\u001b[1;33m \u001b[0mall_data\u001b[0m \u001b[1;33m=\u001b[0m \u001b[0mall_data\u001b[0m\u001b[1;33m.\u001b[0m\u001b[0mmerge\u001b[0m\u001b[1;33m(\u001b[0m\u001b[0mtemp_data1\u001b[0m\u001b[1;33m[\u001b[0m\u001b[1;34m'Sales_Person_Jun_17'\u001b[0m\u001b[1;33m,\u001b[0m \u001b[1;34m'0_count'\u001b[0m\u001b[1;33m,\u001b[0m \u001b[1;34m'1_count'\u001b[0m\u001b[1;33m]\u001b[0m\u001b[1;33m)\u001b[0m\u001b[1;33m\u001b[0m\u001b[1;33m\u001b[0m\u001b[0m\n\u001b[0m\u001b[0;32m     32\u001b[0m \u001b[0mall_data\u001b[0m \u001b[1;33m=\u001b[0m \u001b[0mall_data\u001b[0m\u001b[1;33m.\u001b[0m\u001b[0mmerge\u001b[0m\u001b[1;33m(\u001b[0m\u001b[0mtemp_data2\u001b[0m\u001b[1;33m[\u001b[0m\u001b[1;34m'Sales_Person_Dec_17'\u001b[0m\u001b[1;33m,\u001b[0m \u001b[1;34m'0_count'\u001b[0m\u001b[1;33m,\u001b[0m \u001b[1;34m'1_count'\u001b[0m\u001b[1;33m]\u001b[0m\u001b[1;33m)\u001b[0m\u001b[1;33m\u001b[0m\u001b[1;33m\u001b[0m\u001b[0m\n\u001b[0;32m     33\u001b[0m \u001b[0mall_data\u001b[0m\u001b[1;33m.\u001b[0m\u001b[0mhead\u001b[0m\u001b[1;33m(\u001b[0m\u001b[1;33m)\u001b[0m\u001b[1;33m\u001b[0m\u001b[1;33m\u001b[0m\u001b[0m\n",
      "\u001b[1;32m~\\Anaconda3\\lib\\site-packages\\pandas\\core\\frame.py\u001b[0m in \u001b[0;36m__getitem__\u001b[1;34m(self, key)\u001b[0m\n\u001b[0;32m   2925\u001b[0m             \u001b[1;32mif\u001b[0m \u001b[0mself\u001b[0m\u001b[1;33m.\u001b[0m\u001b[0mcolumns\u001b[0m\u001b[1;33m.\u001b[0m\u001b[0mnlevels\u001b[0m \u001b[1;33m>\u001b[0m \u001b[1;36m1\u001b[0m\u001b[1;33m:\u001b[0m\u001b[1;33m\u001b[0m\u001b[1;33m\u001b[0m\u001b[0m\n\u001b[0;32m   2926\u001b[0m                 \u001b[1;32mreturn\u001b[0m \u001b[0mself\u001b[0m\u001b[1;33m.\u001b[0m\u001b[0m_getitem_multilevel\u001b[0m\u001b[1;33m(\u001b[0m\u001b[0mkey\u001b[0m\u001b[1;33m)\u001b[0m\u001b[1;33m\u001b[0m\u001b[1;33m\u001b[0m\u001b[0m\n\u001b[1;32m-> 2927\u001b[1;33m             \u001b[0mindexer\u001b[0m \u001b[1;33m=\u001b[0m \u001b[0mself\u001b[0m\u001b[1;33m.\u001b[0m\u001b[0mcolumns\u001b[0m\u001b[1;33m.\u001b[0m\u001b[0mget_loc\u001b[0m\u001b[1;33m(\u001b[0m\u001b[0mkey\u001b[0m\u001b[1;33m)\u001b[0m\u001b[1;33m\u001b[0m\u001b[1;33m\u001b[0m\u001b[0m\n\u001b[0m\u001b[0;32m   2928\u001b[0m             \u001b[1;32mif\u001b[0m \u001b[0mis_integer\u001b[0m\u001b[1;33m(\u001b[0m\u001b[0mindexer\u001b[0m\u001b[1;33m)\u001b[0m\u001b[1;33m:\u001b[0m\u001b[1;33m\u001b[0m\u001b[1;33m\u001b[0m\u001b[0m\n\u001b[0;32m   2929\u001b[0m                 \u001b[0mindexer\u001b[0m \u001b[1;33m=\u001b[0m \u001b[1;33m[\u001b[0m\u001b[0mindexer\u001b[0m\u001b[1;33m]\u001b[0m\u001b[1;33m\u001b[0m\u001b[1;33m\u001b[0m\u001b[0m\n",
      "\u001b[1;32m~\\Anaconda3\\lib\\site-packages\\pandas\\core\\indexes\\base.py\u001b[0m in \u001b[0;36mget_loc\u001b[1;34m(self, key, method, tolerance)\u001b[0m\n\u001b[0;32m   2657\u001b[0m                 \u001b[1;32mreturn\u001b[0m \u001b[0mself\u001b[0m\u001b[1;33m.\u001b[0m\u001b[0m_engine\u001b[0m\u001b[1;33m.\u001b[0m\u001b[0mget_loc\u001b[0m\u001b[1;33m(\u001b[0m\u001b[0mkey\u001b[0m\u001b[1;33m)\u001b[0m\u001b[1;33m\u001b[0m\u001b[1;33m\u001b[0m\u001b[0m\n\u001b[0;32m   2658\u001b[0m             \u001b[1;32mexcept\u001b[0m \u001b[0mKeyError\u001b[0m\u001b[1;33m:\u001b[0m\u001b[1;33m\u001b[0m\u001b[1;33m\u001b[0m\u001b[0m\n\u001b[1;32m-> 2659\u001b[1;33m                 \u001b[1;32mreturn\u001b[0m \u001b[0mself\u001b[0m\u001b[1;33m.\u001b[0m\u001b[0m_engine\u001b[0m\u001b[1;33m.\u001b[0m\u001b[0mget_loc\u001b[0m\u001b[1;33m(\u001b[0m\u001b[0mself\u001b[0m\u001b[1;33m.\u001b[0m\u001b[0m_maybe_cast_indexer\u001b[0m\u001b[1;33m(\u001b[0m\u001b[0mkey\u001b[0m\u001b[1;33m)\u001b[0m\u001b[1;33m)\u001b[0m\u001b[1;33m\u001b[0m\u001b[1;33m\u001b[0m\u001b[0m\n\u001b[0m\u001b[0;32m   2660\u001b[0m         \u001b[0mindexer\u001b[0m \u001b[1;33m=\u001b[0m \u001b[0mself\u001b[0m\u001b[1;33m.\u001b[0m\u001b[0mget_indexer\u001b[0m\u001b[1;33m(\u001b[0m\u001b[1;33m[\u001b[0m\u001b[0mkey\u001b[0m\u001b[1;33m]\u001b[0m\u001b[1;33m,\u001b[0m \u001b[0mmethod\u001b[0m\u001b[1;33m=\u001b[0m\u001b[0mmethod\u001b[0m\u001b[1;33m,\u001b[0m \u001b[0mtolerance\u001b[0m\u001b[1;33m=\u001b[0m\u001b[0mtolerance\u001b[0m\u001b[1;33m)\u001b[0m\u001b[1;33m\u001b[0m\u001b[1;33m\u001b[0m\u001b[0m\n\u001b[0;32m   2661\u001b[0m         \u001b[1;32mif\u001b[0m \u001b[0mindexer\u001b[0m\u001b[1;33m.\u001b[0m\u001b[0mndim\u001b[0m \u001b[1;33m>\u001b[0m \u001b[1;36m1\u001b[0m \u001b[1;32mor\u001b[0m \u001b[0mindexer\u001b[0m\u001b[1;33m.\u001b[0m\u001b[0msize\u001b[0m \u001b[1;33m>\u001b[0m \u001b[1;36m1\u001b[0m\u001b[1;33m:\u001b[0m\u001b[1;33m\u001b[0m\u001b[1;33m\u001b[0m\u001b[0m\n",
      "\u001b[1;32mpandas/_libs/index.pyx\u001b[0m in \u001b[0;36mpandas._libs.index.IndexEngine.get_loc\u001b[1;34m()\u001b[0m\n",
      "\u001b[1;32mpandas/_libs/index.pyx\u001b[0m in \u001b[0;36mpandas._libs.index.IndexEngine.get_loc\u001b[1;34m()\u001b[0m\n",
      "\u001b[1;32mpandas/_libs/hashtable_class_helper.pxi\u001b[0m in \u001b[0;36mpandas._libs.hashtable.PyObjectHashTable.get_item\u001b[1;34m()\u001b[0m\n",
      "\u001b[1;32mpandas/_libs/hashtable_class_helper.pxi\u001b[0m in \u001b[0;36mpandas._libs.hashtable.PyObjectHashTable.get_item\u001b[1;34m()\u001b[0m\n",
      "\u001b[1;31mKeyError\u001b[0m: ('Sales_Person_Jun_17', '0_count', '1_count')"
     ]
    }
   ],
   "source": [
    "#all_data['Attrition_Flag'] = all_data['Attrition_Flag'].astype('int32')\n",
    "sales_df = pd.DataFrame(data.Sales_Person_Jun_17.unique())\n",
    "sales_df.columns = ['Sales_Person_Jun_17']\n",
    "\n",
    "temp_data = pd.DataFrame(data.groupby(['Sales_Person_Jun_17', 'Attrition_Flag'])['UNIQUE_ID'].count().reset_index())\n",
    "temp_data_0 = sales_df.merge( temp_data[temp_data['Attrition_Flag']==0], on = 'Sales_Person_Jun_17')\n",
    "temp_data_0.columns = ['Sales_Person_Jun_17', 'Attrition_Flag_0', '0_count']\n",
    "temp_data_0['Sales_Person_Jun_17'] = temp_data_0['Sales_Person_Jun_17'].astype('str')\n",
    "\n",
    "temp_data_1 = sales_df.merge( temp_data[temp_data['Attrition_Flag']==1], on = 'Sales_Person_Jun_17')\n",
    "temp_data_1.columns = ['Sales_Person_Jun_17', 'Attrition_Flag_1', '1_count']\n",
    "temp_data_1['Sales_Person_Jun_17'] = temp_data_1['Sales_Person_Jun_17'].astype('str')\n",
    "temp_data1 = temp_data_1.merge(temp_data_0)\n",
    "temp_data1.head()\n",
    "\n",
    "# Dec_17_sales\n",
    "sales_df = pd.DataFrame(data.Sales_Person_Dec_17.unique())\n",
    "sales_df.columns = ['Sales_Person_Dec_17']\n",
    "\n",
    "temp_data = pd.DataFrame(data.groupby(['Sales_Person_Dec_17', 'Attrition_Flag'])['UNIQUE_ID'].count().reset_index())\n",
    "temp_data_0 = sales_df.merge( temp_data[temp_data['Attrition_Flag']==0], on = 'Sales_Person_Dec_17')\n",
    "temp_data_0.columns = ['Sales_Person_Dec_17', 'Attrition_Flag_0', '0_count']\n",
    "temp_data_0['Sales_Person_Dec_17'] = temp_data_0['Sales_Person_Dec_17'].astype('str')\n",
    "\n",
    "temp_data_1 = sales_df.merge( temp_data[temp_data['Attrition_Flag']==1], on = 'Sales_Person_Dec_17')\n",
    "temp_data_1.columns = ['Sales_Person_Dec_17', 'Attrition_Flag_1', '1_count']\n",
    "temp_data_1['Sales_Person_Dec_17'] = temp_data_1['Sales_Person_Dec_17'].astype('str')\n",
    "temp_data2 = temp_data_1.merge(temp_data_0)\n",
    "temp_data2.head()\n",
    "\n",
    "all_data = all_data.merge(temp_data1['Sales_Person_Jun_17', '0_count', '1_count'])\n",
    "all_data = all_data.merge(temp_data2['Sales_Person_Dec_17', '0_count', '1_count'])\n",
    "all_data.head()"
   ]
  },
  {
   "cell_type": "code",
   "execution_count": 252,
   "metadata": {},
   "outputs": [
    {
     "data": {
      "text/plain": [
       "UNIQUE_ID                           0\n",
       "Rev_17_GeoPod                       0\n",
       "Rev_17_B                            0\n",
       "Rev_17_C                            0\n",
       "Vol_17_GeoPod                       0\n",
       "Vol_17_B                            0\n",
       "Vol_17_C                            0\n",
       "Rev_17_GeoPod_Logistics             0\n",
       "Rev_17_GeoPod_HR                    0\n",
       "Rev_17_GeoPod_Finance               0\n",
       "Vol_17_GeoPod_Logistics             0\n",
       "Vol_17_GeoPod_HR                    0\n",
       "Vol_17_GeoPod_Finance               0\n",
       "Vol_17_Death_Event                  0\n",
       "Vol_17_Birth_Event                  0\n",
       "Vol_17_COA                          0\n",
       "Vol_17_COA_Win                      0\n",
       "Rev_17_D                            0\n",
       "Rev_17_E                            0\n",
       "Rev_17_F                            0\n",
       "Rev_17_G                            0\n",
       "Rev_17_H                            0\n",
       "Rev_17_I                            0\n",
       "Vol_17_D                            0\n",
       "Vol_17_E                            0\n",
       "Vol_17_F                            0\n",
       "Vol_17_G                            0\n",
       "Vol_17_H                            0\n",
       "Vol_17_I                            0\n",
       "Ind_2013_pushback                   0\n",
       "                                 ... \n",
       "Ind_2016_pushback                   0\n",
       "Ind_2017_pushback                   0\n",
       "DataCorp_Market_Share               0\n",
       "Major_competitor_market_share       0\n",
       "Other_competitor_market_share       0\n",
       "Tenure_months                       0\n",
       "Market_Segment                      0\n",
       "Sub_Segment                         0\n",
       "Sales_Person_Jun_17                 0\n",
       "RSM_Jun_17                          0\n",
       "Director_Jun_17                     0\n",
       "VP_Jun_17                           0\n",
       "Sales_Person_Dec_17                 0\n",
       "RSM_Dec_17                          0\n",
       "Director_Dec_17                     0\n",
       "VP_Dec_17                           0\n",
       "Discount_17                         0\n",
       "Count_Entities                      0\n",
       "Count_Jurisdicion                   0\n",
       "Price_Point                         0\n",
       "Vol_16_GeoPod_Logistics             0\n",
       "Vol_16_GeoPod_HR                    0\n",
       "Vol_16_GeoPod_Finance               0\n",
       "Vol_16_D                            0\n",
       "Vol_16_E                            0\n",
       "Vol_16_F                            0\n",
       "Vol_16_G                            0\n",
       "Vol_16_H                            0\n",
       "Vol_16_I                            0\n",
       "Attrition_Flag                   4000\n",
       "Length: 62, dtype: int64"
      ]
     },
     "execution_count": 252,
     "metadata": {},
     "output_type": "execute_result"
    }
   ],
   "source": [
    "all_data.isnull().sum()"
   ]
  },
  {
   "cell_type": "markdown",
   "metadata": {},
   "source": [
    "# Training the model"
   ]
  },
  {
   "cell_type": "code",
   "execution_count": 253,
   "metadata": {},
   "outputs": [],
   "source": [
    "#from catboost import CatBoostClassifier,Pool, cv\n",
    "#from lightgbm import LGBMClassifier\n",
    "from sklearn.model_selection import StratifiedKFold,train_test_split\n",
    "from sklearn.linear_model import LogisticRegression\n",
    "from sklearn.ensemble import RandomForestClassifier\n",
    "from sklearn.metrics import accuracy_score,confusion_matrix,roc_auc_score"
   ]
  },
  {
   "cell_type": "code",
   "execution_count": 254,
   "metadata": {},
   "outputs": [
    {
     "name": "stdout",
     "output_type": "stream",
     "text": [
      "(14601, 62) (4000, 62)\n"
     ]
    }
   ],
   "source": [
    "df_train=all_data[all_data['Attrition_Flag'].isnull()==False].copy()\n",
    "df_test=all_data[all_data['Attrition_Flag'].isnull()==True].copy()\n",
    "\n",
    "df_train['Attrition_Flag'] = df_train['Attrition_Flag'].astype('int32')\n",
    "print(df_train.shape,df_test.shape)"
   ]
  },
  {
   "cell_type": "code",
   "execution_count": 255,
   "metadata": {},
   "outputs": [
    {
     "name": "stdout",
     "output_type": "stream",
     "text": [
      "(14601, 60) (4000, 60)\n"
     ]
    }
   ],
   "source": [
    "X,y=df_train.drop(['UNIQUE_ID','Attrition_Flag'],axis=1),df_train['Attrition_Flag']\n",
    "Xtest=df_test.drop(['UNIQUE_ID','Attrition_Flag'],axis=1)\n",
    "\n",
    "#X = X.fillna(0)\n",
    "#Xtest = Xtest.fillna(0)\n",
    "print(X.shape,Xtest.shape)\n",
    "X_train,X_val,y_train,y_val = train_test_split(X,y,test_size=0.20,random_state = 1994,stratify=y)"
   ]
  },
  {
   "cell_type": "code",
   "execution_count": 256,
   "metadata": {},
   "outputs": [
    {
     "data": {
      "text/plain": [
       "Rev_17_GeoPod                    0\n",
       "Rev_17_B                         0\n",
       "Rev_17_C                         0\n",
       "Vol_17_GeoPod                    0\n",
       "Vol_17_B                         0\n",
       "Vol_17_C                         0\n",
       "Rev_17_GeoPod_Logistics          0\n",
       "Rev_17_GeoPod_HR                 0\n",
       "Rev_17_GeoPod_Finance            0\n",
       "Vol_17_GeoPod_Logistics          0\n",
       "Vol_17_GeoPod_HR                 0\n",
       "Vol_17_GeoPod_Finance            0\n",
       "Vol_17_Death_Event               0\n",
       "Vol_17_Birth_Event               0\n",
       "Vol_17_COA                       0\n",
       "Vol_17_COA_Win                   0\n",
       "Rev_17_D                         0\n",
       "Rev_17_E                         0\n",
       "Rev_17_F                         0\n",
       "Rev_17_G                         0\n",
       "Rev_17_H                         0\n",
       "Rev_17_I                         0\n",
       "Vol_17_D                         0\n",
       "Vol_17_E                         0\n",
       "Vol_17_F                         0\n",
       "Vol_17_G                         0\n",
       "Vol_17_H                         0\n",
       "Vol_17_I                         0\n",
       "Ind_2013_pushback                0\n",
       "Ind_2014_pushback                0\n",
       "Ind_2015_pushback                0\n",
       "Ind_2016_pushback                0\n",
       "Ind_2017_pushback                0\n",
       "DataCorp_Market_Share            0\n",
       "Major_competitor_market_share    0\n",
       "Other_competitor_market_share    0\n",
       "Tenure_months                    0\n",
       "Market_Segment                   0\n",
       "Sub_Segment                      0\n",
       "Sales_Person_Jun_17              0\n",
       "RSM_Jun_17                       0\n",
       "Director_Jun_17                  0\n",
       "VP_Jun_17                        0\n",
       "Sales_Person_Dec_17              0\n",
       "RSM_Dec_17                       0\n",
       "Director_Dec_17                  0\n",
       "VP_Dec_17                        0\n",
       "Discount_17                      0\n",
       "Count_Entities                   0\n",
       "Count_Jurisdicion                0\n",
       "Price_Point                      0\n",
       "Vol_16_GeoPod_Logistics          0\n",
       "Vol_16_GeoPod_HR                 0\n",
       "Vol_16_GeoPod_Finance            0\n",
       "Vol_16_D                         0\n",
       "Vol_16_E                         0\n",
       "Vol_16_F                         0\n",
       "Vol_16_G                         0\n",
       "Vol_16_H                         0\n",
       "Vol_16_I                         0\n",
       "dtype: int64"
      ]
     },
     "execution_count": 256,
     "metadata": {},
     "output_type": "execute_result"
    }
   ],
   "source": [
    "X.isnull().sum()"
   ]
  },
  {
   "cell_type": "code",
   "execution_count": 257,
   "metadata": {},
   "outputs": [],
   "source": [
    "from sklearn.feature_selection import SelectFromModel"
   ]
  },
  {
   "cell_type": "code",
   "execution_count": 258,
   "metadata": {},
   "outputs": [
    {
     "data": {
      "text/plain": [
       "RandomForestClassifier(bootstrap=True, class_weight=None, criterion='gini',\n",
       "            max_depth=None, max_features='auto', max_leaf_nodes=None,\n",
       "            min_impurity_decrease=0.0, min_impurity_split=None,\n",
       "            min_samples_leaf=1, min_samples_split=2,\n",
       "            min_weight_fraction_leaf=0.0, n_estimators=350, n_jobs=None,\n",
       "            oob_score=False, random_state=None, verbose=0,\n",
       "            warm_start=False)"
      ]
     },
     "execution_count": 258,
     "metadata": {},
     "output_type": "execute_result"
    }
   ],
   "source": [
    "clf = RandomForestClassifier(n_estimators = 350)\n",
    "clf.fit(X_train,y_train)"
   ]
  },
  {
   "cell_type": "code",
   "execution_count": 259,
   "metadata": {},
   "outputs": [
    {
     "data": {
      "text/plain": [
       "SelectFromModel(estimator=RandomForestClassifier(bootstrap=True, class_weight=None, criterion='gini',\n",
       "            max_depth=None, max_features='auto', max_leaf_nodes=None,\n",
       "            min_impurity_decrease=0.0, min_impurity_split=None,\n",
       "            min_samples_leaf=1, min_samples_split=2,\n",
       "            min_weight_fraction_leaf=0.0, n_estimators=350, n_jobs=None,\n",
       "            oob_score=False, random_state=None, verbose=0,\n",
       "            warm_start=False),\n",
       "        max_features=None, norm_order=1, prefit=False, threshold=None)"
      ]
     },
     "execution_count": 259,
     "metadata": {},
     "output_type": "execute_result"
    }
   ],
   "source": [
    "sel = SelectFromModel(clf)\n",
    "sel.fit(X_train, y_train)"
   ]
  },
  {
   "cell_type": "code",
   "execution_count": 260,
   "metadata": {},
   "outputs": [
    {
     "data": {
      "text/plain": [
       "RandomForestClassifier(bootstrap=True, class_weight=None, criterion='gini',\n",
       "            max_depth=None, max_features='auto', max_leaf_nodes=None,\n",
       "            min_impurity_decrease=0.0, min_impurity_split=None,\n",
       "            min_samples_leaf=1, min_samples_split=2,\n",
       "            min_weight_fraction_leaf=0.0, n_estimators=350, n_jobs=None,\n",
       "            oob_score=False, random_state=None, verbose=0,\n",
       "            warm_start=False)"
      ]
     },
     "execution_count": 260,
     "metadata": {},
     "output_type": "execute_result"
    }
   ],
   "source": [
    "selected_feat= X_train.columns[(sel.get_support())]\n",
    "clf.fit(X_train[selected_feat], y_train)"
   ]
  },
  {
   "cell_type": "code",
   "execution_count": 261,
   "metadata": {},
   "outputs": [],
   "source": [
    "predict = clf.predict(X_val[selected_feat])"
   ]
  },
  {
   "cell_type": "code",
   "execution_count": 262,
   "metadata": {},
   "outputs": [
    {
     "name": "stdout",
     "output_type": "stream",
     "text": [
      "0.891133173570695\n",
      "[[2472  240]\n",
      " [  78  131]]\n"
     ]
    }
   ],
   "source": [
    "from sklearn.metrics import accuracy_score,confusion_matrix\n",
    "accuracy = accuracy_score(predict, y_val)\n",
    "confusion_matrix = confusion_matrix(predict, y_val)\n",
    "print(accuracy)\n",
    "print(confusion_matrix)\n",
    "\n",
    "##0.891475522081479\n",
    "#[[2487  254]\n",
    "#[  63  117]]\n",
    "\n",
    "#350\n",
    "#0.8921602191030469\n",
    "#[[2489  254]\n",
    "# [  61  117]]\n",
    "\n",
    "#350 sel feature\n",
    "#0.8925025676138308\n",
    "#[[2473  237]\n",
    "# [  77  134]]"
   ]
  },
  {
   "cell_type": "code",
   "execution_count": 263,
   "metadata": {},
   "outputs": [],
   "source": [
    "imp = pd.DataFrame(selected_feat)"
   ]
  },
  {
   "cell_type": "code",
   "execution_count": 264,
   "metadata": {},
   "outputs": [
    {
     "data": {
      "text/html": [
       "<div>\n",
       "<style scoped>\n",
       "    .dataframe tbody tr th:only-of-type {\n",
       "        vertical-align: middle;\n",
       "    }\n",
       "\n",
       "    .dataframe tbody tr th {\n",
       "        vertical-align: top;\n",
       "    }\n",
       "\n",
       "    .dataframe thead th {\n",
       "        text-align: right;\n",
       "    }\n",
       "</style>\n",
       "<table border=\"1\" class=\"dataframe\">\n",
       "  <thead>\n",
       "    <tr style=\"text-align: right;\">\n",
       "      <th></th>\n",
       "      <th>0</th>\n",
       "      <th>Importance</th>\n",
       "    </tr>\n",
       "  </thead>\n",
       "  <tbody>\n",
       "    <tr>\n",
       "      <th>0</th>\n",
       "      <td>Rev_17_GeoPod</td>\n",
       "      <td>0.042683</td>\n",
       "    </tr>\n",
       "    <tr>\n",
       "      <th>1</th>\n",
       "      <td>Vol_17_GeoPod</td>\n",
       "      <td>0.034589</td>\n",
       "    </tr>\n",
       "    <tr>\n",
       "      <th>2</th>\n",
       "      <td>Rev_17_GeoPod_Logistics</td>\n",
       "      <td>0.025239</td>\n",
       "    </tr>\n",
       "    <tr>\n",
       "      <th>3</th>\n",
       "      <td>Rev_17_GeoPod_Finance</td>\n",
       "      <td>0.039567</td>\n",
       "    </tr>\n",
       "    <tr>\n",
       "      <th>4</th>\n",
       "      <td>Vol_17_GeoPod_Finance</td>\n",
       "      <td>0.033742</td>\n",
       "    </tr>\n",
       "    <tr>\n",
       "      <th>5</th>\n",
       "      <td>Vol_17_Death_Event</td>\n",
       "      <td>0.020967</td>\n",
       "    </tr>\n",
       "    <tr>\n",
       "      <th>6</th>\n",
       "      <td>Vol_17_Birth_Event</td>\n",
       "      <td>0.031665</td>\n",
       "    </tr>\n",
       "    <tr>\n",
       "      <th>7</th>\n",
       "      <td>Vol_17_COA</td>\n",
       "      <td>0.028654</td>\n",
       "    </tr>\n",
       "    <tr>\n",
       "      <th>8</th>\n",
       "      <td>Rev_17_D</td>\n",
       "      <td>0.021012</td>\n",
       "    </tr>\n",
       "    <tr>\n",
       "      <th>9</th>\n",
       "      <td>Rev_17_G</td>\n",
       "      <td>0.031945</td>\n",
       "    </tr>\n",
       "    <tr>\n",
       "      <th>10</th>\n",
       "      <td>Vol_17_D</td>\n",
       "      <td>0.023549</td>\n",
       "    </tr>\n",
       "    <tr>\n",
       "      <th>11</th>\n",
       "      <td>Vol_17_G</td>\n",
       "      <td>0.027273</td>\n",
       "    </tr>\n",
       "    <tr>\n",
       "      <th>12</th>\n",
       "      <td>DataCorp_Market_Share</td>\n",
       "      <td>0.083822</td>\n",
       "    </tr>\n",
       "    <tr>\n",
       "      <th>13</th>\n",
       "      <td>Major_competitor_market_share</td>\n",
       "      <td>0.052751</td>\n",
       "    </tr>\n",
       "    <tr>\n",
       "      <th>14</th>\n",
       "      <td>Other_competitor_market_share</td>\n",
       "      <td>0.050141</td>\n",
       "    </tr>\n",
       "    <tr>\n",
       "      <th>15</th>\n",
       "      <td>Tenure_months</td>\n",
       "      <td>0.127404</td>\n",
       "    </tr>\n",
       "    <tr>\n",
       "      <th>16</th>\n",
       "      <td>Sub_Segment</td>\n",
       "      <td>0.026000</td>\n",
       "    </tr>\n",
       "    <tr>\n",
       "      <th>17</th>\n",
       "      <td>Sales_Person_Jun_17</td>\n",
       "      <td>0.034985</td>\n",
       "    </tr>\n",
       "    <tr>\n",
       "      <th>18</th>\n",
       "      <td>Sales_Person_Dec_17</td>\n",
       "      <td>0.037349</td>\n",
       "    </tr>\n",
       "    <tr>\n",
       "      <th>19</th>\n",
       "      <td>Discount_17</td>\n",
       "      <td>0.023512</td>\n",
       "    </tr>\n",
       "    <tr>\n",
       "      <th>20</th>\n",
       "      <td>Count_Entities</td>\n",
       "      <td>0.042277</td>\n",
       "    </tr>\n",
       "    <tr>\n",
       "      <th>21</th>\n",
       "      <td>Count_Jurisdicion</td>\n",
       "      <td>0.041522</td>\n",
       "    </tr>\n",
       "    <tr>\n",
       "      <th>22</th>\n",
       "      <td>Price_Point</td>\n",
       "      <td>0.043460</td>\n",
       "    </tr>\n",
       "    <tr>\n",
       "      <th>23</th>\n",
       "      <td>Vol_16_GeoPod_HR</td>\n",
       "      <td>0.049329</td>\n",
       "    </tr>\n",
       "    <tr>\n",
       "      <th>24</th>\n",
       "      <td>Vol_16_D</td>\n",
       "      <td>0.026565</td>\n",
       "    </tr>\n",
       "  </tbody>\n",
       "</table>\n",
       "</div>"
      ],
      "text/plain": [
       "                                0  Importance\n",
       "0                   Rev_17_GeoPod    0.042683\n",
       "1                   Vol_17_GeoPod    0.034589\n",
       "2         Rev_17_GeoPod_Logistics    0.025239\n",
       "3           Rev_17_GeoPod_Finance    0.039567\n",
       "4           Vol_17_GeoPod_Finance    0.033742\n",
       "5              Vol_17_Death_Event    0.020967\n",
       "6              Vol_17_Birth_Event    0.031665\n",
       "7                      Vol_17_COA    0.028654\n",
       "8                        Rev_17_D    0.021012\n",
       "9                        Rev_17_G    0.031945\n",
       "10                       Vol_17_D    0.023549\n",
       "11                       Vol_17_G    0.027273\n",
       "12          DataCorp_Market_Share    0.083822\n",
       "13  Major_competitor_market_share    0.052751\n",
       "14  Other_competitor_market_share    0.050141\n",
       "15                  Tenure_months    0.127404\n",
       "16                    Sub_Segment    0.026000\n",
       "17            Sales_Person_Jun_17    0.034985\n",
       "18            Sales_Person_Dec_17    0.037349\n",
       "19                    Discount_17    0.023512\n",
       "20                 Count_Entities    0.042277\n",
       "21              Count_Jurisdicion    0.041522\n",
       "22                    Price_Point    0.043460\n",
       "23               Vol_16_GeoPod_HR    0.049329\n",
       "24                       Vol_16_D    0.026565"
      ]
     },
     "execution_count": 264,
     "metadata": {},
     "output_type": "execute_result"
    }
   ],
   "source": [
    "imp['Importance'] = clf.feature_importances_\n",
    "imp"
   ]
  },
  {
   "cell_type": "code",
   "execution_count": 96,
   "metadata": {},
   "outputs": [
    {
     "data": {
      "text/html": [
       "<div>\n",
       "<style scoped>\n",
       "    .dataframe tbody tr th:only-of-type {\n",
       "        vertical-align: middle;\n",
       "    }\n",
       "\n",
       "    .dataframe tbody tr th {\n",
       "        vertical-align: top;\n",
       "    }\n",
       "\n",
       "    .dataframe thead th {\n",
       "        text-align: right;\n",
       "    }\n",
       "</style>\n",
       "<table border=\"1\" class=\"dataframe\">\n",
       "  <thead>\n",
       "    <tr style=\"text-align: right;\">\n",
       "      <th></th>\n",
       "      <th>0</th>\n",
       "      <th>Importance</th>\n",
       "    </tr>\n",
       "  </thead>\n",
       "  <tbody>\n",
       "    <tr>\n",
       "      <th>15</th>\n",
       "      <td>Tenure_months</td>\n",
       "      <td>0.126023</td>\n",
       "    </tr>\n",
       "    <tr>\n",
       "      <th>12</th>\n",
       "      <td>DataCorp_Market_Share</td>\n",
       "      <td>0.085616</td>\n",
       "    </tr>\n",
       "    <tr>\n",
       "      <th>13</th>\n",
       "      <td>Major_competitor_market_share</td>\n",
       "      <td>0.048597</td>\n",
       "    </tr>\n",
       "    <tr>\n",
       "      <th>14</th>\n",
       "      <td>Other_competitor_market_share</td>\n",
       "      <td>0.048402</td>\n",
       "    </tr>\n",
       "    <tr>\n",
       "      <th>24</th>\n",
       "      <td>Vol_16_GeoPod_HR</td>\n",
       "      <td>0.048035</td>\n",
       "    </tr>\n",
       "    <tr>\n",
       "      <th>0</th>\n",
       "      <td>Rev_17_GeoPod</td>\n",
       "      <td>0.041868</td>\n",
       "    </tr>\n",
       "    <tr>\n",
       "      <th>23</th>\n",
       "      <td>Price_Point</td>\n",
       "      <td>0.041203</td>\n",
       "    </tr>\n",
       "    <tr>\n",
       "      <th>22</th>\n",
       "      <td>Count_Jurisdicion</td>\n",
       "      <td>0.041070</td>\n",
       "    </tr>\n",
       "    <tr>\n",
       "      <th>21</th>\n",
       "      <td>Count_Entities</td>\n",
       "      <td>0.040242</td>\n",
       "    </tr>\n",
       "    <tr>\n",
       "      <th>3</th>\n",
       "      <td>Rev_17_GeoPod_Finance</td>\n",
       "      <td>0.038785</td>\n",
       "    </tr>\n",
       "    <tr>\n",
       "      <th>1</th>\n",
       "      <td>Vol_17_GeoPod</td>\n",
       "      <td>0.034263</td>\n",
       "    </tr>\n",
       "    <tr>\n",
       "      <th>19</th>\n",
       "      <td>Sales_Person_Dec_17</td>\n",
       "      <td>0.034103</td>\n",
       "    </tr>\n",
       "    <tr>\n",
       "      <th>4</th>\n",
       "      <td>Vol_17_GeoPod_Finance</td>\n",
       "      <td>0.033723</td>\n",
       "    </tr>\n",
       "    <tr>\n",
       "      <th>9</th>\n",
       "      <td>Rev_17_G</td>\n",
       "      <td>0.031697</td>\n",
       "    </tr>\n",
       "    <tr>\n",
       "      <th>17</th>\n",
       "      <td>Sales_Person_Jun_17</td>\n",
       "      <td>0.030990</td>\n",
       "    </tr>\n",
       "    <tr>\n",
       "      <th>7</th>\n",
       "      <td>Vol_17_COA</td>\n",
       "      <td>0.030880</td>\n",
       "    </tr>\n",
       "    <tr>\n",
       "      <th>6</th>\n",
       "      <td>Vol_17_Birth_Event</td>\n",
       "      <td>0.030134</td>\n",
       "    </tr>\n",
       "    <tr>\n",
       "      <th>11</th>\n",
       "      <td>Vol_17_G</td>\n",
       "      <td>0.027013</td>\n",
       "    </tr>\n",
       "    <tr>\n",
       "      <th>25</th>\n",
       "      <td>Vol_16_D</td>\n",
       "      <td>0.026482</td>\n",
       "    </tr>\n",
       "    <tr>\n",
       "      <th>18</th>\n",
       "      <td>Director_Jun_17</td>\n",
       "      <td>0.025261</td>\n",
       "    </tr>\n",
       "    <tr>\n",
       "      <th>2</th>\n",
       "      <td>Rev_17_GeoPod_Logistics</td>\n",
       "      <td>0.025092</td>\n",
       "    </tr>\n",
       "    <tr>\n",
       "      <th>16</th>\n",
       "      <td>Sub_Segment</td>\n",
       "      <td>0.023584</td>\n",
       "    </tr>\n",
       "    <tr>\n",
       "      <th>10</th>\n",
       "      <td>Vol_17_D</td>\n",
       "      <td>0.023217</td>\n",
       "    </tr>\n",
       "    <tr>\n",
       "      <th>20</th>\n",
       "      <td>Discount_17</td>\n",
       "      <td>0.023162</td>\n",
       "    </tr>\n",
       "    <tr>\n",
       "      <th>8</th>\n",
       "      <td>Rev_17_D</td>\n",
       "      <td>0.020943</td>\n",
       "    </tr>\n",
       "    <tr>\n",
       "      <th>5</th>\n",
       "      <td>Vol_17_Death_Event</td>\n",
       "      <td>0.019615</td>\n",
       "    </tr>\n",
       "  </tbody>\n",
       "</table>\n",
       "</div>"
      ],
      "text/plain": [
       "                                0  Importance\n",
       "15                  Tenure_months    0.126023\n",
       "12          DataCorp_Market_Share    0.085616\n",
       "13  Major_competitor_market_share    0.048597\n",
       "14  Other_competitor_market_share    0.048402\n",
       "24               Vol_16_GeoPod_HR    0.048035\n",
       "0                   Rev_17_GeoPod    0.041868\n",
       "23                    Price_Point    0.041203\n",
       "22              Count_Jurisdicion    0.041070\n",
       "21                 Count_Entities    0.040242\n",
       "3           Rev_17_GeoPod_Finance    0.038785\n",
       "1                   Vol_17_GeoPod    0.034263\n",
       "19            Sales_Person_Dec_17    0.034103\n",
       "4           Vol_17_GeoPod_Finance    0.033723\n",
       "9                        Rev_17_G    0.031697\n",
       "17            Sales_Person_Jun_17    0.030990\n",
       "7                      Vol_17_COA    0.030880\n",
       "6              Vol_17_Birth_Event    0.030134\n",
       "11                       Vol_17_G    0.027013\n",
       "25                       Vol_16_D    0.026482\n",
       "18                Director_Jun_17    0.025261\n",
       "2         Rev_17_GeoPod_Logistics    0.025092\n",
       "16                    Sub_Segment    0.023584\n",
       "10                       Vol_17_D    0.023217\n",
       "20                    Discount_17    0.023162\n",
       "8                        Rev_17_D    0.020943\n",
       "5              Vol_17_Death_Event    0.019615"
      ]
     },
     "execution_count": 96,
     "metadata": {},
     "output_type": "execute_result"
    }
   ],
   "source": [
    "imp.sort_values(by = ['Importance'], ascending = False)"
   ]
  },
  {
   "cell_type": "code",
   "execution_count": null,
   "metadata": {},
   "outputs": [],
   "source": []
  }
 ],
 "metadata": {
  "kernelspec": {
   "display_name": "Python 3",
   "language": "python",
   "name": "python3"
  },
  "language_info": {
   "codemirror_mode": {
    "name": "ipython",
    "version": 3
   },
   "file_extension": ".py",
   "mimetype": "text/x-python",
   "name": "python",
   "nbconvert_exporter": "python",
   "pygments_lexer": "ipython3",
   "version": "3.7.1"
  }
 },
 "nbformat": 4,
 "nbformat_minor": 2
}
