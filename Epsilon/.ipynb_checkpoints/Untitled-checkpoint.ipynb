{
 "cells": [
  {
   "cell_type": "code",
   "execution_count": 1,
   "metadata": {},
   "outputs": [],
   "source": [
    "import pandas as pd\n",
    "import numpy as np"
   ]
  },
  {
   "cell_type": "code",
   "execution_count": 91,
   "metadata": {},
   "outputs": [],
   "source": [
    "data = pd.read_csv('Train.csv')\n",
    "submit = pd.read_csv('Test.csv')"
   ]
  },
  {
   "cell_type": "code",
   "execution_count": 92,
   "metadata": {},
   "outputs": [
    {
     "data": {
      "text/html": [
       "<div>\n",
       "<style scoped>\n",
       "    .dataframe tbody tr th:only-of-type {\n",
       "        vertical-align: middle;\n",
       "    }\n",
       "\n",
       "    .dataframe tbody tr th {\n",
       "        vertical-align: top;\n",
       "    }\n",
       "\n",
       "    .dataframe thead th {\n",
       "        text-align: right;\n",
       "    }\n",
       "</style>\n",
       "<table border=\"1\" class=\"dataframe\">\n",
       "  <thead>\n",
       "    <tr style=\"text-align: right;\">\n",
       "      <th></th>\n",
       "      <th>ID</th>\n",
       "      <th>Default</th>\n",
       "      <th>Checking_amount</th>\n",
       "      <th>Term</th>\n",
       "      <th>Credit_score</th>\n",
       "      <th>Gender</th>\n",
       "      <th>Marital_status</th>\n",
       "      <th>Car_loan</th>\n",
       "      <th>Personal_loan</th>\n",
       "      <th>Home_loan</th>\n",
       "      <th>Education_loan</th>\n",
       "      <th>Emp_status</th>\n",
       "      <th>Amount</th>\n",
       "      <th>Saving_amount</th>\n",
       "      <th>Emp_duration</th>\n",
       "      <th>Age</th>\n",
       "      <th>No_of_credit_acc</th>\n",
       "    </tr>\n",
       "  </thead>\n",
       "  <tbody>\n",
       "    <tr>\n",
       "      <th>0</th>\n",
       "      <td>101</td>\n",
       "      <td>No</td>\n",
       "      <td>988</td>\n",
       "      <td>15.0</td>\n",
       "      <td>796.0</td>\n",
       "      <td>Female</td>\n",
       "      <td>Single</td>\n",
       "      <td>Yes</td>\n",
       "      <td>No</td>\n",
       "      <td>No</td>\n",
       "      <td>No</td>\n",
       "      <td>employed</td>\n",
       "      <td>1536</td>\n",
       "      <td>3455</td>\n",
       "      <td>12.0</td>\n",
       "      <td>38</td>\n",
       "      <td>1.0</td>\n",
       "    </tr>\n",
       "    <tr>\n",
       "      <th>1</th>\n",
       "      <td>102</td>\n",
       "      <td>No</td>\n",
       "      <td>458</td>\n",
       "      <td>15.0</td>\n",
       "      <td>813.0</td>\n",
       "      <td>Female</td>\n",
       "      <td>Single</td>\n",
       "      <td>Yes</td>\n",
       "      <td>No</td>\n",
       "      <td>No</td>\n",
       "      <td>No</td>\n",
       "      <td>employed</td>\n",
       "      <td>947</td>\n",
       "      <td>3600</td>\n",
       "      <td>25.0</td>\n",
       "      <td>36</td>\n",
       "      <td>1.0</td>\n",
       "    </tr>\n",
       "    <tr>\n",
       "      <th>2</th>\n",
       "      <td>103</td>\n",
       "      <td>No</td>\n",
       "      <td>158</td>\n",
       "      <td>14.0</td>\n",
       "      <td>756.0</td>\n",
       "      <td>Female</td>\n",
       "      <td>Single</td>\n",
       "      <td>No</td>\n",
       "      <td>Yes</td>\n",
       "      <td>No</td>\n",
       "      <td>No</td>\n",
       "      <td>employed</td>\n",
       "      <td>1678</td>\n",
       "      <td>3093</td>\n",
       "      <td>43.0</td>\n",
       "      <td>34</td>\n",
       "      <td>1.0</td>\n",
       "    </tr>\n",
       "    <tr>\n",
       "      <th>3</th>\n",
       "      <td>104</td>\n",
       "      <td>Yes</td>\n",
       "      <td>300</td>\n",
       "      <td>25.0</td>\n",
       "      <td>737.0</td>\n",
       "      <td>Female</td>\n",
       "      <td>Single</td>\n",
       "      <td>No</td>\n",
       "      <td>No</td>\n",
       "      <td>No</td>\n",
       "      <td>Yes</td>\n",
       "      <td>employed</td>\n",
       "      <td>1804</td>\n",
       "      <td>2449</td>\n",
       "      <td>0.0</td>\n",
       "      <td>29</td>\n",
       "      <td>1.0</td>\n",
       "    </tr>\n",
       "    <tr>\n",
       "      <th>4</th>\n",
       "      <td>105</td>\n",
       "      <td>Yes</td>\n",
       "      <td>63</td>\n",
       "      <td>24.0</td>\n",
       "      <td>662.0</td>\n",
       "      <td>Female</td>\n",
       "      <td>Single</td>\n",
       "      <td>No</td>\n",
       "      <td>No</td>\n",
       "      <td>No</td>\n",
       "      <td>Yes</td>\n",
       "      <td>unemployed</td>\n",
       "      <td>1184</td>\n",
       "      <td>2867</td>\n",
       "      <td>4.0</td>\n",
       "      <td>30</td>\n",
       "      <td>1.0</td>\n",
       "    </tr>\n",
       "  </tbody>\n",
       "</table>\n",
       "</div>"
      ],
      "text/plain": [
       "    ID Default  Checking_amount  Term  Credit_score  Gender Marital_status   \\\n",
       "0  101      No              988  15.0         796.0  Female          Single   \n",
       "1  102      No              458  15.0         813.0  Female          Single   \n",
       "2  103      No              158  14.0         756.0  Female          Single   \n",
       "3  104     Yes              300  25.0         737.0  Female          Single   \n",
       "4  105     Yes               63  24.0         662.0  Female          Single   \n",
       "\n",
       "  Car_loan Personal_loan Home_loan Education_loan  Emp_status  Amount  \\\n",
       "0      Yes            No        No             No    employed    1536   \n",
       "1      Yes            No        No             No    employed     947   \n",
       "2       No           Yes        No             No    employed    1678   \n",
       "3       No            No        No            Yes    employed    1804   \n",
       "4       No            No        No            Yes  unemployed    1184   \n",
       "\n",
       "   Saving_amount  Emp_duration   Age  No_of_credit_acc  \n",
       "0           3455           12.0   38               1.0  \n",
       "1           3600           25.0   36               1.0  \n",
       "2           3093           43.0   34               1.0  \n",
       "3           2449            0.0   29               1.0  \n",
       "4           2867            4.0   30               1.0  "
      ]
     },
     "execution_count": 92,
     "metadata": {},
     "output_type": "execute_result"
    }
   ],
   "source": [
    "data.head()"
   ]
  },
  {
   "cell_type": "code",
   "execution_count": 93,
   "metadata": {},
   "outputs": [
    {
     "data": {
      "text/plain": [
       "ID                  0\n",
       "Default             0\n",
       "Checking_amount     0\n",
       "Term                1\n",
       "Credit_score        2\n",
       "Gender              0\n",
       "Marital_status      0\n",
       "Car_loan            1\n",
       "Personal_loan       2\n",
       "Home_loan           2\n",
       "Education_loan      1\n",
       "Emp_status          0\n",
       "Amount              0\n",
       "Saving_amount       0\n",
       "Emp_duration        3\n",
       "Age                 0\n",
       "No_of_credit_acc    1\n",
       "dtype: int64"
      ]
     },
     "execution_count": 93,
     "metadata": {},
     "output_type": "execute_result"
    }
   ],
   "source": [
    "data.isnull().sum()"
   ]
  },
  {
   "cell_type": "code",
   "execution_count": 94,
   "metadata": {},
   "outputs": [
    {
     "data": {
      "text/plain": [
       "ID                    int64\n",
       "Default              object\n",
       "Checking_amount       int64\n",
       "Term                float64\n",
       "Credit_score        float64\n",
       "Gender               object\n",
       "Marital_status       object\n",
       "Car_loan             object\n",
       "Personal_loan        object\n",
       "Home_loan            object\n",
       "Education_loan       object\n",
       "Emp_status           object\n",
       "Amount                int64\n",
       "Saving_amount         int64\n",
       "Emp_duration        float64\n",
       "Age                   int64\n",
       "No_of_credit_acc    float64\n",
       "dtype: object"
      ]
     },
     "execution_count": 94,
     "metadata": {},
     "output_type": "execute_result"
    }
   ],
   "source": [
    "data.dtypes"
   ]
  },
  {
   "cell_type": "markdown",
   "metadata": {},
   "source": [
    "**Data Merge**"
   ]
  },
  {
   "cell_type": "code",
   "execution_count": 95,
   "metadata": {},
   "outputs": [
    {
     "name": "stdout",
     "output_type": "stream",
     "text": [
      "803 203 1006\n"
     ]
    },
    {
     "name": "stderr",
     "output_type": "stream",
     "text": [
      "C:\\Users\\Bhushan\\Anaconda3\\lib\\site-packages\\pandas\\core\\frame.py:6692: FutureWarning: Sorting because non-concatenation axis is not aligned. A future version\n",
      "of pandas will change to not sort by default.\n",
      "\n",
      "To accept the future behavior, pass 'sort=False'.\n",
      "\n",
      "To retain the current behavior and silence the warning, pass 'sort=True'.\n",
      "\n",
      "  sort=sort)\n"
     ]
    }
   ],
   "source": [
    "submit['Default'] = None\n",
    "all_data = data.append(submit, ignore_index = True)\n",
    "print(len(data), len(submit), len(all_data))"
   ]
  },
  {
   "cell_type": "markdown",
   "metadata": {},
   "source": [
    "**Preprocessing**"
   ]
  },
  {
   "cell_type": "code",
   "execution_count": 96,
   "metadata": {},
   "outputs": [],
   "source": [
    "all_data['Default'] = all_data['Default'].apply(lambda x: 0 if x =='No' else x)\n",
    "all_data['Default'] = all_data['Default'].apply(lambda x: 1 if x =='Yes' else x)"
   ]
  },
  {
   "cell_type": "code",
   "execution_count": 97,
   "metadata": {},
   "outputs": [],
   "source": [
    "all_data['Term'].fillna(np.mean(all_data.Term), inplace = True)\n",
    "all_data['Credit_score'].fillna(np.mean(all_data.Credit_score), inplace = True)\n",
    "all_data['Amount'].fillna(np.mean(all_data.Amount), inplace = True)\n",
    "all_data['Checking_amount'].fillna(np.mean(all_data.Checking_amount), inplace = True)\n",
    "all_data['Saving_amount'].fillna(np.mean(all_data.Saving_amount), inplace = True)\n",
    "all_data['Emp_duration '].fillna(np.mean(all_data['Emp_duration '] ), inplace = True)\n",
    "all_data['Marital_status '] = all_data['Marital_status '].fillna(all_data['Marital_status '].value_counts().index[0])\n",
    "all_data['Car_loan'] = all_data['Car_loan'].fillna(all_data['Car_loan'].value_counts().index[0])\n",
    "all_data['Personal_loan'] = all_data['Personal_loan'].fillna(all_data['Personal_loan'].value_counts().index[0])\n",
    "all_data['Home_loan'] = all_data['Home_loan'].fillna(all_data['Home_loan'].value_counts().index[0])\n",
    "all_data['Education_loan'] = all_data['Education_loan'].fillna(all_data['Education_loan'].value_counts().index[0])\n",
    "all_data['No_of_credit_acc'] = all_data['No_of_credit_acc'].fillna(all_data['No_of_credit_acc'].value_counts().index[0])"
   ]
  },
  {
   "cell_type": "code",
   "execution_count": 98,
   "metadata": {},
   "outputs": [
    {
     "data": {
      "text/plain": [
       "Age                   0\n",
       "Amount                0\n",
       "Car_loan              0\n",
       "Checking_amount       0\n",
       "Credit_score          0\n",
       "Default             203\n",
       "Education_loan        0\n",
       "Emp_duration          0\n",
       "Emp_status            0\n",
       "Gender                0\n",
       "Home_loan             0\n",
       "ID                    0\n",
       "Marital_status        0\n",
       "No_of_credit_acc      0\n",
       "Personal_loan         0\n",
       "Saving_amount         0\n",
       "Term                  0\n",
       "dtype: int64"
      ]
     },
     "execution_count": 98,
     "metadata": {},
     "output_type": "execute_result"
    }
   ],
   "source": [
    "all_data.isnull().sum()"
   ]
  },
  {
   "cell_type": "code",
   "execution_count": 99,
   "metadata": {},
   "outputs": [
    {
     "data": {
      "text/html": [
       "<div>\n",
       "<style scoped>\n",
       "    .dataframe tbody tr th:only-of-type {\n",
       "        vertical-align: middle;\n",
       "    }\n",
       "\n",
       "    .dataframe tbody tr th {\n",
       "        vertical-align: top;\n",
       "    }\n",
       "\n",
       "    .dataframe thead th {\n",
       "        text-align: right;\n",
       "    }\n",
       "</style>\n",
       "<table border=\"1\" class=\"dataframe\">\n",
       "  <thead>\n",
       "    <tr style=\"text-align: right;\">\n",
       "      <th></th>\n",
       "      <th>Age</th>\n",
       "      <th>Amount</th>\n",
       "      <th>Car_loan</th>\n",
       "      <th>Checking_amount</th>\n",
       "      <th>Credit_score</th>\n",
       "      <th>Default</th>\n",
       "      <th>Education_loan</th>\n",
       "      <th>Emp_duration</th>\n",
       "      <th>Emp_status</th>\n",
       "      <th>Gender</th>\n",
       "      <th>Home_loan</th>\n",
       "      <th>ID</th>\n",
       "      <th>Marital_status</th>\n",
       "      <th>No_of_credit_acc</th>\n",
       "      <th>Personal_loan</th>\n",
       "      <th>Saving_amount</th>\n",
       "      <th>Term</th>\n",
       "    </tr>\n",
       "  </thead>\n",
       "  <tbody>\n",
       "    <tr>\n",
       "      <th>0</th>\n",
       "      <td>38</td>\n",
       "      <td>1536.0</td>\n",
       "      <td>Yes</td>\n",
       "      <td>988.0</td>\n",
       "      <td>796.0</td>\n",
       "      <td>0.0</td>\n",
       "      <td>No</td>\n",
       "      <td>12.0</td>\n",
       "      <td>employed</td>\n",
       "      <td>Female</td>\n",
       "      <td>No</td>\n",
       "      <td>101</td>\n",
       "      <td>Single</td>\n",
       "      <td>1.0</td>\n",
       "      <td>No</td>\n",
       "      <td>3455.0</td>\n",
       "      <td>15.0</td>\n",
       "    </tr>\n",
       "    <tr>\n",
       "      <th>1</th>\n",
       "      <td>36</td>\n",
       "      <td>947.0</td>\n",
       "      <td>Yes</td>\n",
       "      <td>458.0</td>\n",
       "      <td>813.0</td>\n",
       "      <td>0.0</td>\n",
       "      <td>No</td>\n",
       "      <td>25.0</td>\n",
       "      <td>employed</td>\n",
       "      <td>Female</td>\n",
       "      <td>No</td>\n",
       "      <td>102</td>\n",
       "      <td>Single</td>\n",
       "      <td>1.0</td>\n",
       "      <td>No</td>\n",
       "      <td>3600.0</td>\n",
       "      <td>15.0</td>\n",
       "    </tr>\n",
       "    <tr>\n",
       "      <th>2</th>\n",
       "      <td>34</td>\n",
       "      <td>1678.0</td>\n",
       "      <td>No</td>\n",
       "      <td>158.0</td>\n",
       "      <td>756.0</td>\n",
       "      <td>0.0</td>\n",
       "      <td>No</td>\n",
       "      <td>43.0</td>\n",
       "      <td>employed</td>\n",
       "      <td>Female</td>\n",
       "      <td>No</td>\n",
       "      <td>103</td>\n",
       "      <td>Single</td>\n",
       "      <td>1.0</td>\n",
       "      <td>Yes</td>\n",
       "      <td>3093.0</td>\n",
       "      <td>14.0</td>\n",
       "    </tr>\n",
       "    <tr>\n",
       "      <th>3</th>\n",
       "      <td>29</td>\n",
       "      <td>1804.0</td>\n",
       "      <td>No</td>\n",
       "      <td>300.0</td>\n",
       "      <td>737.0</td>\n",
       "      <td>1.0</td>\n",
       "      <td>Yes</td>\n",
       "      <td>0.0</td>\n",
       "      <td>employed</td>\n",
       "      <td>Female</td>\n",
       "      <td>No</td>\n",
       "      <td>104</td>\n",
       "      <td>Single</td>\n",
       "      <td>1.0</td>\n",
       "      <td>No</td>\n",
       "      <td>2449.0</td>\n",
       "      <td>25.0</td>\n",
       "    </tr>\n",
       "    <tr>\n",
       "      <th>4</th>\n",
       "      <td>30</td>\n",
       "      <td>1184.0</td>\n",
       "      <td>No</td>\n",
       "      <td>63.0</td>\n",
       "      <td>662.0</td>\n",
       "      <td>1.0</td>\n",
       "      <td>Yes</td>\n",
       "      <td>4.0</td>\n",
       "      <td>unemployed</td>\n",
       "      <td>Female</td>\n",
       "      <td>No</td>\n",
       "      <td>105</td>\n",
       "      <td>Single</td>\n",
       "      <td>1.0</td>\n",
       "      <td>No</td>\n",
       "      <td>2867.0</td>\n",
       "      <td>24.0</td>\n",
       "    </tr>\n",
       "  </tbody>\n",
       "</table>\n",
       "</div>"
      ],
      "text/plain": [
       "   Age  Amount Car_loan  Checking_amount  Credit_score  Default  \\\n",
       "0   38  1536.0      Yes            988.0         796.0      0.0   \n",
       "1   36   947.0      Yes            458.0         813.0      0.0   \n",
       "2   34  1678.0       No            158.0         756.0      0.0   \n",
       "3   29  1804.0       No            300.0         737.0      1.0   \n",
       "4   30  1184.0       No             63.0         662.0      1.0   \n",
       "\n",
       "  Education_loan  Emp_duration   Emp_status  Gender Home_loan   ID  \\\n",
       "0             No           12.0    employed  Female        No  101   \n",
       "1             No           25.0    employed  Female        No  102   \n",
       "2             No           43.0    employed  Female        No  103   \n",
       "3            Yes            0.0    employed  Female        No  104   \n",
       "4            Yes            4.0  unemployed  Female        No  105   \n",
       "\n",
       "  Marital_status   No_of_credit_acc Personal_loan  Saving_amount  Term  \n",
       "0          Single               1.0            No         3455.0  15.0  \n",
       "1          Single               1.0            No         3600.0  15.0  \n",
       "2          Single               1.0           Yes         3093.0  14.0  \n",
       "3          Single               1.0            No         2449.0  25.0  \n",
       "4          Single               1.0            No         2867.0  24.0  "
      ]
     },
     "execution_count": 99,
     "metadata": {},
     "output_type": "execute_result"
    }
   ],
   "source": [
    "all_data.head()"
   ]
  },
  {
   "cell_type": "code",
   "execution_count": 100,
   "metadata": {},
   "outputs": [],
   "source": [
    "all_data['Car_loan'] = [0 if x == 'No' else 1 for x in all_data['Car_loan']]\n",
    "all_data['Education_loan'] = [0 if x == 'No' else 1 for x in all_data['Education_loan']]\n",
    "all_data['Home_loan'] = [0 if x == 'No' else 1 for x in all_data['Home_loan']]\n",
    "all_data['Personal_loan'] = [0 if x == 'No' else 1 for x in all_data['Personal_loan']]\n",
    "all_data['Marital_status '] = [0 if x == 'Single' else 1 for x in all_data['Marital_status ']]\n",
    "all_data['Emp_status'] = [0 if x == 'unemployed' else 1 for x in all_data['Emp_status']]\n",
    "all_data['Gender'] = [0 if x == 'Female' else 1 for x in all_data['Gender']]"
   ]
  },
  {
   "cell_type": "code",
   "execution_count": 101,
   "metadata": {},
   "outputs": [
    {
     "data": {
      "text/plain": [
       "Age                   int64\n",
       "Amount              float64\n",
       "Car_loan              int64\n",
       "Checking_amount     float64\n",
       "Credit_score        float64\n",
       "Default             float64\n",
       "Education_loan        int64\n",
       "Emp_duration        float64\n",
       "Emp_status            int64\n",
       "Gender                int64\n",
       "Home_loan             int64\n",
       "ID                    int64\n",
       "Marital_status        int64\n",
       "No_of_credit_acc    float64\n",
       "Personal_loan         int64\n",
       "Saving_amount       float64\n",
       "Term                float64\n",
       "dtype: object"
      ]
     },
     "execution_count": 101,
     "metadata": {},
     "output_type": "execute_result"
    }
   ],
   "source": [
    "all_data.dtypes"
   ]
  },
  {
   "cell_type": "markdown",
   "metadata": {},
   "source": [
    "**Seperating Data**"
   ]
  },
  {
   "cell_type": "code",
   "execution_count": 102,
   "metadata": {},
   "outputs": [
    {
     "name": "stdout",
     "output_type": "stream",
     "text": [
      "(803, 17) (203, 17)\n"
     ]
    }
   ],
   "source": [
    "df_train=all_data[all_data['Default'].isnull()==False].copy()\n",
    "df_test=all_data[all_data['Default'].isnull()==True].copy()\n",
    "\n",
    "print(df_train.shape,df_test.shape)"
   ]
  },
  {
   "cell_type": "code",
   "execution_count": 103,
   "metadata": {},
   "outputs": [],
   "source": [
    "X,y=df_train.drop(['ID','Default'],axis=1),df_train['Default']\n",
    "Xtest=df_test.drop(['ID','Default'],axis=1)"
   ]
  },
  {
   "cell_type": "markdown",
   "metadata": {},
   "source": [
    "**TrainTestSplit**"
   ]
  },
  {
   "cell_type": "code",
   "execution_count": 161,
   "metadata": {},
   "outputs": [],
   "source": [
    "from sklearn.model_selection import StratifiedKFold,train_test_split\n",
    "X_train,X_val,y_train,y_val = train_test_split(X,y,test_size=0.15,random_state = 1996,stratify=y)"
   ]
  },
  {
   "cell_type": "markdown",
   "metadata": {},
   "source": [
    "**LDA**"
   ]
  },
  {
   "cell_type": "code",
   "execution_count": 173,
   "metadata": {},
   "outputs": [],
   "source": [
    "from sklearn.discriminant_analysis import LinearDiscriminantAnalysis\n",
    "lda = LinearDiscriminantAnalysis(n_components = 5)\n",
    "X_new = lda.fit_transform(X,y)"
   ]
  },
  {
   "cell_type": "code",
   "execution_count": 174,
   "metadata": {},
   "outputs": [
    {
     "data": {
      "text/plain": [
       "array([1.])"
      ]
     },
     "execution_count": 174,
     "metadata": {},
     "output_type": "execute_result"
    }
   ],
   "source": [
    "lda.explained_variance_ratio_"
   ]
  },
  {
   "cell_type": "code",
   "execution_count": 202,
   "metadata": {
    "scrolled": true
   },
   "outputs": [
    {
     "name": "stdout",
     "output_type": "stream",
     "text": [
      "0       -1.151297\n",
      "Label    1.000000\n",
      "dtype: float64 0        5.547027\n",
      "Label    1.000000\n",
      "dtype: float64\n",
      "0       -3.631352\n",
      "Label    0.000000\n",
      "dtype: float64 0        2.569227\n",
      "Label    0.000000\n",
      "dtype: float64\n"
     ]
    }
   ],
   "source": [
    "new = pd.DataFrame(X_new)\n",
    "new['Label'] = y\n",
    "print(np.min(new[new['Label']==1]),np.max(new[new['Label']==1]))\n",
    "print(np.min(new[new['Label']==0]),np.max(new[new['Label']==0]))"
   ]
  },
  {
   "cell_type": "code",
   "execution_count": 177,
   "metadata": {},
   "outputs": [
    {
     "data": {
      "text/plain": [
       "<matplotlib.collections.PathCollection at 0x1e092411e10>"
      ]
     },
     "execution_count": 177,
     "metadata": {},
     "output_type": "execute_result"
    },
    {
     "data": {
      "image/png": "[encoded data removed]",
      "text/plain": [
       "<Figure size 432x288 with 1 Axes>"
      ]
     },
     "metadata": {
      "needs_background": "light"
     },
     "output_type": "display_data"
    }
   ],
   "source": [
    "import matplotlib.pyplot as plt \n",
    "plt.xlabel('LD1')\n",
    "#plt.ylabel('LD2')\n",
    "plt.scatter(\n",
    "    X_new[:,0],\n",
    "    X_new[:,0],\n",
    "    c=y,\n",
    "    cmap='rainbow',\n",
    "    alpha=0.7,\n",
    "    edgecolors='g'\n",
    ")"
   ]
  },
  {
   "cell_type": "markdown",
   "metadata": {},
   "source": [
    "**Models**"
   ]
  },
  {
   "cell_type": "markdown",
   "metadata": {},
   "source": [
    "**Random Forest**"
   ]
  },
  {
   "cell_type": "code",
   "execution_count": 207,
   "metadata": {},
   "outputs": [],
   "source": [
    "from sklearn.feature_selection import SelectFromModel\n",
    "from sklearn.ensemble import RandomForestClassifier\n",
    "clf = RandomForestClassifier(n_estimators = 350)\n",
    "clf.fit(X_train,y_train)\n",
    "sel = SelectFromModel(clf)\n",
    "sel.fit(X_train, y_train)\n",
    "selected_feat= X_train.columns[(sel.get_support())]\n",
    "clf.fit(X_train[selected_feat], y_train)\n",
    "predict = clf.predict(X_val[selected_feat])"
   ]
  },
  {
   "cell_type": "code",
   "execution_count": 208,
   "metadata": {},
   "outputs": [
    {
     "name": "stdout",
     "output_type": "stream",
     "text": [
      "              precision    recall  f1-score   support\n",
      "\n",
      "         0.0       0.98      0.97      0.97        87\n",
      "         1.0       0.91      0.94      0.93        34\n",
      "\n",
      "   micro avg       0.96      0.96      0.96       121\n",
      "   macro avg       0.95      0.95      0.95       121\n",
      "weighted avg       0.96      0.96      0.96       121\n",
      "\n",
      "0.9586776859504132\n",
      "[[84  3]\n",
      " [ 2 32]]\n"
     ]
    }
   ],
   "source": [
    "from sklearn.metrics import accuracy_score,confusion_matrix\n",
    "accuracy = accuracy_score(predict, y_val)\n",
    "confusion_matrix = confusion_matrix(predict, y_val)\n",
    "print(classification_report(predict,y_val))\n",
    "print(accuracy)\n",
    "print(confusion_matrix)"
   ]
  },
  {
   "cell_type": "code",
   "execution_count": 122,
   "metadata": {},
   "outputs": [
    {
     "data": {
      "text/plain": [
       "Index(['Age', 'Checking_amount', 'Credit_score', 'Saving_amount'], dtype='object')"
      ]
     },
     "execution_count": 122,
     "metadata": {},
     "output_type": "execute_result"
    }
   ],
   "source": [
    "selected_feat"
   ]
  },
  {
   "cell_type": "markdown",
   "metadata": {},
   "source": [
    "**AllFeatures**"
   ]
  },
  {
   "cell_type": "code",
   "execution_count": 205,
   "metadata": {},
   "outputs": [],
   "source": [
    "clf = RandomForestClassifier(n_estimators = 350)\n",
    "clf.fit(X_train,y_train)\n",
    "predict = clf.predict(X_val)"
   ]
  },
  {
   "cell_type": "code",
   "execution_count": 206,
   "metadata": {},
   "outputs": [
    {
     "name": "stdout",
     "output_type": "stream",
     "text": [
      "              precision    recall  f1-score   support\n",
      "\n",
      "         0.0       0.98      0.97      0.97        87\n",
      "         1.0       0.91      0.94      0.93        34\n",
      "\n",
      "   micro avg       0.96      0.96      0.96       121\n",
      "   macro avg       0.95      0.95      0.95       121\n",
      "weighted avg       0.96      0.96      0.96       121\n",
      "\n",
      "[[84  3]\n",
      " [ 2 32]]\n"
     ]
    }
   ],
   "source": [
    "from sklearn.metrics import accuracy_score,confusion_matrix,classification_report\n",
    "accuracy = accuracy_score(predict, y_val)\n",
    "confusion_matrix = confusion_matrix(predict, y_val)\n",
    "print(classification_report(predict,y_val))\n",
    "print(confusion_matrix)"
   ]
  },
  {
   "cell_type": "markdown",
   "metadata": {},
   "source": [
    "\n",
    "**Xgboost**"
   ]
  },
  {
   "cell_type": "code",
   "execution_count": 127,
   "metadata": {},
   "outputs": [],
   "source": [
    "from xgboost import XGBClassifier\n",
    "xgb1 = XGBClassifier(base_score=0.5, booster='gbtree', colsample_bylevel=1,\n",
    "       colsample_bynode=1, colsample_bytree=0.8, gamma=0.4,\n",
    "       learning_rate=0.3, max_delta_step=0, max_depth=10,\n",
    "       min_child_weight=1, missing=None, n_estimators=500, n_jobs=1,\n",
    "       nthread=None, random_state=0,\n",
    "       reg_alpha=0, reg_lambda=1, scale_pos_weight=1, seed=None,\n",
    "       silent=None, subsample=1, verbosity=1)\n",
    "xgb1.fit(X_train, y_train)\n",
    "predict = xgb1.predict(X_val)"
   ]
  },
  {
   "cell_type": "code",
   "execution_count": 203,
   "metadata": {},
   "outputs": [
    {
     "name": "stdout",
     "output_type": "stream",
     "text": [
      "0.9338842975206612\n",
      "              precision    recall  f1-score   support\n",
      "\n",
      "         0.0       0.97      0.94      0.95        88\n",
      "         1.0       0.86      0.91      0.88        33\n",
      "\n",
      "   micro avg       0.93      0.93      0.93       121\n",
      "   macro avg       0.91      0.93      0.92       121\n",
      "weighted avg       0.94      0.93      0.93       121\n",
      "\n",
      "[[83  5]\n",
      " [ 3 30]]\n"
     ]
    }
   ],
   "source": [
    "from sklearn.metrics import accuracy_score,confusion_matrix\n",
    "accuracy = accuracy_score(predict, y_val)\n",
    "confusion_matrix = confusion_matrix(predict, y_val)\n",
    "print(accuracy)\n",
    "print(classification_report(predict,y_val))\n",
    "print(confusion_matrix)"
   ]
  },
  {
   "cell_type": "markdown",
   "metadata": {},
   "source": [
    "**SVM**"
   ]
  },
  {
   "cell_type": "code",
   "execution_count": 129,
   "metadata": {},
   "outputs": [],
   "source": [
    "from sklearn import svm"
   ]
  },
  {
   "cell_type": "code",
   "execution_count": 213,
   "metadata": {},
   "outputs": [],
   "source": [
    "clf = svm.SVC(kernel='linear')\n",
    "clf.fit(X_train[selected_feat],y_train)\n",
    "predict = clf.predict(X_val[selected_feat])"
   ]
  },
  {
   "cell_type": "code",
   "execution_count": 214,
   "metadata": {},
   "outputs": [
    {
     "name": "stdout",
     "output_type": "stream",
     "text": [
      "              precision    recall  f1-score   support\n",
      "\n",
      "         0.0       0.97      0.94      0.95        88\n",
      "         1.0       0.86      0.91      0.88        33\n",
      "\n",
      "   micro avg       0.93      0.93      0.93       121\n",
      "   macro avg       0.91      0.93      0.92       121\n",
      "weighted avg       0.94      0.93      0.93       121\n",
      "\n",
      "[[83  5]\n",
      " [ 3 30]]\n"
     ]
    }
   ],
   "source": [
    "from sklearn.metrics import accuracy_score,confusion_matrix,classification_report\n",
    "accuracy = accuracy_score(predict, y_val)\n",
    "confusion_matrix = confusion_matrix(predict, y_val)\n",
    "print(classification_report(predict, y_val))\n",
    "print(confusion_matrix)"
   ]
  },
  {
   "cell_type": "markdown",
   "metadata": {},
   "source": [
    "**TrainingOnFullData**"
   ]
  },
  {
   "cell_type": "code",
   "execution_count": 209,
   "metadata": {},
   "outputs": [],
   "source": [
    "from sklearn.feature_selection import SelectFromModel\n",
    "from sklearn.ensemble import RandomForestClassifier\n",
    "clf = RandomForestClassifier(n_estimators = 350)\n",
    "clf.fit(X,y)\n",
    "sel = SelectFromModel(clf)\n",
    "sel.fit(X, y)\n",
    "selected_feat= X.columns[(sel.get_support())]\n",
    "clf.fit(X[selected_feat], y)\n",
    "predict = clf.predict(Xtest[selected_feat])"
   ]
  },
  {
   "cell_type": "code",
   "execution_count": 210,
   "metadata": {},
   "outputs": [
    {
     "data": {
      "text/plain": [
       "Index(['Age', 'Checking_amount', 'Credit_score', 'Saving_amount'], dtype='object')"
      ]
     },
     "execution_count": 210,
     "metadata": {},
     "output_type": "execute_result"
    }
   ],
   "source": [
    "selected_feat"
   ]
  },
  {
   "cell_type": "code",
   "execution_count": null,
   "metadata": {},
   "outputs": [],
   "source": []
  },
  {
   "cell_type": "markdown",
   "metadata": {},
   "source": [
    "**Submit_csv**"
   ]
  },
  {
   "cell_type": "code",
   "execution_count": 212,
   "metadata": {},
   "outputs": [],
   "source": [
    "sub = pd.DataFrame(df_test['ID'])\n",
    "predict = clf.predict(df_test[selected_feat])\n",
    "sub['Default'] = predict\n",
    "sub['Default'] = ['Yes' if x == 1 else 'No' for x in sub['Default']]\n",
    "sub.to_csv('submit.csv', index=False)"
   ]
  },
  {
   "cell_type": "code",
   "execution_count": null,
   "metadata": {},
   "outputs": [],
   "source": []
  }
 ],
 "metadata": {
  "kernelspec": {
   "display_name": "Python 3",
   "language": "python",
   "name": "python3"
  },
  "language_info": {
   "codemirror_mode": {
    "name": "ipython",
    "version": 3
   },
   "file_extension": ".py",
   "mimetype": "text/x-python",
   "name": "python",
   "nbconvert_exporter": "python",
   "pygments_lexer": "ipython3",
   "version": "3.7.1"
  }
 },
 "nbformat": 4,
 "nbformat_minor": 2
}
