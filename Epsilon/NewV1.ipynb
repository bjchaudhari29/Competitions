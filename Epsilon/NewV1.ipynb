{
 "cells": [
  {
   "cell_type": "code",
   "execution_count": 1,
   "metadata": {},
   "outputs": [],
   "source": [
    "import pandas as pd\n",
    "import numpy as np"
   ]
  },
  {
   "cell_type": "code",
   "execution_count": 2,
   "metadata": {},
   "outputs": [],
   "source": [
    "data = pd.read_csv('Train.csv')\n",
    "submit = pd.read_csv('Test.csv')"
   ]
  },
  {
   "cell_type": "code",
   "execution_count": 3,
   "metadata": {},
   "outputs": [
    {
     "data": {
      "text/html": [
       "<div>\n",
       "<style scoped>\n",
       "    .dataframe tbody tr th:only-of-type {\n",
       "        vertical-align: middle;\n",
       "    }\n",
       "\n",
       "    .dataframe tbody tr th {\n",
       "        vertical-align: top;\n",
       "    }\n",
       "\n",
       "    .dataframe thead th {\n",
       "        text-align: right;\n",
       "    }\n",
       "</style>\n",
       "<table border=\"1\" class=\"dataframe\">\n",
       "  <thead>\n",
       "    <tr style=\"text-align: right;\">\n",
       "      <th></th>\n",
       "      <th>ID</th>\n",
       "      <th>Default</th>\n",
       "      <th>Checking_amount</th>\n",
       "      <th>Term</th>\n",
       "      <th>Credit_score</th>\n",
       "      <th>Gender</th>\n",
       "      <th>Marital_status</th>\n",
       "      <th>Car_loan</th>\n",
       "      <th>Personal_loan</th>\n",
       "      <th>Home_loan</th>\n",
       "      <th>Education_loan</th>\n",
       "      <th>Emp_status</th>\n",
       "      <th>Amount</th>\n",
       "      <th>Saving_amount</th>\n",
       "      <th>Emp_duration</th>\n",
       "      <th>Age</th>\n",
       "      <th>No_of_credit_acc</th>\n",
       "    </tr>\n",
       "  </thead>\n",
       "  <tbody>\n",
       "    <tr>\n",
       "      <td>0</td>\n",
       "      <td>101</td>\n",
       "      <td>No</td>\n",
       "      <td>988.0</td>\n",
       "      <td>15.0</td>\n",
       "      <td>796.0</td>\n",
       "      <td>Female</td>\n",
       "      <td>Single</td>\n",
       "      <td>Yes</td>\n",
       "      <td>No</td>\n",
       "      <td>No</td>\n",
       "      <td>No</td>\n",
       "      <td>employed</td>\n",
       "      <td>1536.0</td>\n",
       "      <td>3455</td>\n",
       "      <td>12.0</td>\n",
       "      <td>38.0</td>\n",
       "      <td>1.0</td>\n",
       "    </tr>\n",
       "    <tr>\n",
       "      <td>1</td>\n",
       "      <td>102</td>\n",
       "      <td>No</td>\n",
       "      <td>458.0</td>\n",
       "      <td>15.0</td>\n",
       "      <td>813.0</td>\n",
       "      <td>Female</td>\n",
       "      <td>Single</td>\n",
       "      <td>Yes</td>\n",
       "      <td>No</td>\n",
       "      <td>No</td>\n",
       "      <td>No</td>\n",
       "      <td>employed</td>\n",
       "      <td>947.0</td>\n",
       "      <td>3600</td>\n",
       "      <td>25.0</td>\n",
       "      <td>36.0</td>\n",
       "      <td>1.0</td>\n",
       "    </tr>\n",
       "    <tr>\n",
       "      <td>2</td>\n",
       "      <td>103</td>\n",
       "      <td>No</td>\n",
       "      <td>158.0</td>\n",
       "      <td>14.0</td>\n",
       "      <td>756.0</td>\n",
       "      <td>Female</td>\n",
       "      <td>Single</td>\n",
       "      <td>No</td>\n",
       "      <td>Yes</td>\n",
       "      <td>No</td>\n",
       "      <td>No</td>\n",
       "      <td>employed</td>\n",
       "      <td>1678.0</td>\n",
       "      <td>3093</td>\n",
       "      <td>43.0</td>\n",
       "      <td>34.0</td>\n",
       "      <td>1.0</td>\n",
       "    </tr>\n",
       "    <tr>\n",
       "      <td>3</td>\n",
       "      <td>104</td>\n",
       "      <td>Yes</td>\n",
       "      <td>300.0</td>\n",
       "      <td>25.0</td>\n",
       "      <td>737.0</td>\n",
       "      <td>Female</td>\n",
       "      <td>Single</td>\n",
       "      <td>No</td>\n",
       "      <td>No</td>\n",
       "      <td>No</td>\n",
       "      <td>Yes</td>\n",
       "      <td>employed</td>\n",
       "      <td>1804.0</td>\n",
       "      <td>2449</td>\n",
       "      <td>0.0</td>\n",
       "      <td>29.0</td>\n",
       "      <td>1.0</td>\n",
       "    </tr>\n",
       "    <tr>\n",
       "      <td>4</td>\n",
       "      <td>105</td>\n",
       "      <td>Yes</td>\n",
       "      <td>63.0</td>\n",
       "      <td>24.0</td>\n",
       "      <td>662.0</td>\n",
       "      <td>Female</td>\n",
       "      <td>Single</td>\n",
       "      <td>No</td>\n",
       "      <td>No</td>\n",
       "      <td>No</td>\n",
       "      <td>Yes</td>\n",
       "      <td>unemployed</td>\n",
       "      <td>1184.0</td>\n",
       "      <td>2867</td>\n",
       "      <td>4.0</td>\n",
       "      <td>30.0</td>\n",
       "      <td>1.0</td>\n",
       "    </tr>\n",
       "  </tbody>\n",
       "</table>\n",
       "</div>"
      ],
      "text/plain": [
       "    ID Default  Checking_amount  Term  Credit_score  Gender Marital_status   \\\n",
       "0  101      No            988.0  15.0         796.0  Female          Single   \n",
       "1  102      No            458.0  15.0         813.0  Female          Single   \n",
       "2  103      No            158.0  14.0         756.0  Female          Single   \n",
       "3  104     Yes            300.0  25.0         737.0  Female          Single   \n",
       "4  105     Yes             63.0  24.0         662.0  Female          Single   \n",
       "\n",
       "  Car_loan Personal_loan Home_loan Education_loan  Emp_status  Amount  \\\n",
       "0      Yes            No        No             No    employed  1536.0   \n",
       "1      Yes            No        No             No    employed   947.0   \n",
       "2       No           Yes        No             No    employed  1678.0   \n",
       "3       No            No        No            Yes    employed  1804.0   \n",
       "4       No            No        No            Yes  unemployed  1184.0   \n",
       "\n",
       "   Saving_amount  Emp_duration    Age  No_of_credit_acc  \n",
       "0           3455           12.0  38.0               1.0  \n",
       "1           3600           25.0  36.0               1.0  \n",
       "2           3093           43.0  34.0               1.0  \n",
       "3           2449            0.0  29.0               1.0  \n",
       "4           2867            4.0  30.0               1.0  "
      ]
     },
     "execution_count": 3,
     "metadata": {},
     "output_type": "execute_result"
    }
   ],
   "source": [
    "data.head()"
   ]
  },
  {
   "cell_type": "code",
   "execution_count": 4,
   "metadata": {},
   "outputs": [
    {
     "data": {
      "text/plain": [
       "ID                  0\n",
       "Default             1\n",
       "Checking_amount     1\n",
       "Term                1\n",
       "Credit_score        2\n",
       "Gender              0\n",
       "Marital_status      0\n",
       "Car_loan            1\n",
       "Personal_loan       3\n",
       "Home_loan           2\n",
       "Education_loan      1\n",
       "Emp_status          0\n",
       "Amount              1\n",
       "Saving_amount       0\n",
       "Emp_duration        3\n",
       "Age                 1\n",
       "No_of_credit_acc    1\n",
       "dtype: int64"
      ]
     },
     "execution_count": 4,
     "metadata": {},
     "output_type": "execute_result"
    }
   ],
   "source": [
    "data.isnull().sum()"
   ]
  },
  {
   "cell_type": "code",
   "execution_count": 5,
   "metadata": {},
   "outputs": [
    {
     "data": {
      "text/plain": [
       "ID                    int64\n",
       "Default              object\n",
       "Checking_amount     float64\n",
       "Term                float64\n",
       "Credit_score        float64\n",
       "Gender               object\n",
       "Marital_status       object\n",
       "Car_loan             object\n",
       "Personal_loan        object\n",
       "Home_loan            object\n",
       "Education_loan       object\n",
       "Emp_status           object\n",
       "Amount              float64\n",
       "Saving_amount         int64\n",
       "Emp_duration        float64\n",
       "Age                 float64\n",
       "No_of_credit_acc    float64\n",
       "dtype: object"
      ]
     },
     "execution_count": 5,
     "metadata": {},
     "output_type": "execute_result"
    }
   ],
   "source": [
    "data.dtypes"
   ]
  },
  {
   "cell_type": "markdown",
   "metadata": {},
   "source": [
    "**Data Merge**"
   ]
  },
  {
   "cell_type": "code",
   "execution_count": 6,
   "metadata": {},
   "outputs": [
    {
     "name": "stdout",
     "output_type": "stream",
     "text": [
      "804 203 1007\n"
     ]
    },
    {
     "name": "stderr",
     "output_type": "stream",
     "text": [
      "D:\\New folder\\Anaconda\\lib\\site-packages\\pandas\\core\\frame.py:7123: FutureWarning: Sorting because non-concatenation axis is not aligned. A future version\n",
      "of pandas will change to not sort by default.\n",
      "\n",
      "To accept the future behavior, pass 'sort=False'.\n",
      "\n",
      "To retain the current behavior and silence the warning, pass 'sort=True'.\n",
      "\n",
      "  sort=sort,\n"
     ]
    }
   ],
   "source": [
    "submit['Default'] = None\n",
    "all_data = data.append(submit, ignore_index = True)\n",
    "print(len(data), len(submit), len(all_data))"
   ]
  },
  {
   "cell_type": "markdown",
   "metadata": {},
   "source": [
    "**Preprocessing**"
   ]
  },
  {
   "cell_type": "code",
   "execution_count": 7,
   "metadata": {},
   "outputs": [],
   "source": [
    "all_data['Default'] = all_data['Default'].apply(lambda x: 0 if x =='No' else x)\n",
    "all_data['Default'] = all_data['Default'].apply(lambda x: 1 if x =='Yes' else x)"
   ]
  },
  {
   "cell_type": "code",
   "execution_count": 8,
   "metadata": {},
   "outputs": [],
   "source": [
    "all_data['Term'].fillna(np.mean(all_data.Term), inplace = True)\n",
    "all_data['Credit_score'].fillna(np.mean(all_data.Credit_score), inplace = True)\n",
    "all_data['Amount'].fillna(np.mean(all_data.Amount), inplace = True)\n",
    "all_data['Checking_amount'].fillna(np.mean(all_data.Checking_amount), inplace = True)\n",
    "all_data['Saving_amount'].fillna(np.mean(all_data.Saving_amount), inplace = True)\n",
    "all_data['Emp_duration '].fillna(np.mean(all_data['Emp_duration '] ), inplace = True)\n",
    "all_data['Marital_status '] = all_data['Marital_status '].fillna(all_data['Marital_status '].value_counts().index[0])\n",
    "all_data['Car_loan'] = all_data['Car_loan'].fillna(all_data['Car_loan'].value_counts().index[0])\n",
    "all_data['Personal_loan'] = all_data['Personal_loan'].fillna(all_data['Personal_loan'].value_counts().index[0])\n",
    "all_data['Home_loan'] = all_data['Home_loan'].fillna(all_data['Home_loan'].value_counts().index[0])\n",
    "all_data['Education_loan'] = all_data['Education_loan'].fillna(all_data['Education_loan'].value_counts().index[0])\n",
    "all_data['No_of_credit_acc'] = all_data['No_of_credit_acc'].fillna(all_data['No_of_credit_acc'].value_counts().index[0])\n",
    "all_data['Age'].fillna(np.mean(all_data.Age), inplace = True)"
   ]
  },
  {
   "cell_type": "code",
   "execution_count": 9,
   "metadata": {},
   "outputs": [
    {
     "data": {
      "text/plain": [
       "Age                   0\n",
       "Amount                0\n",
       "Car_loan              0\n",
       "Checking_amount       0\n",
       "Credit_score          0\n",
       "Default             204\n",
       "Education_loan        0\n",
       "Emp_duration          0\n",
       "Emp_status            0\n",
       "Gender                0\n",
       "Home_loan             0\n",
       "ID                    0\n",
       "Marital_status        0\n",
       "No_of_credit_acc      0\n",
       "Personal_loan         0\n",
       "Saving_amount         0\n",
       "Term                  0\n",
       "dtype: int64"
      ]
     },
     "execution_count": 9,
     "metadata": {},
     "output_type": "execute_result"
    }
   ],
   "source": [
    "all_data.isnull().sum()"
   ]
  },
  {
   "cell_type": "code",
   "execution_count": 10,
   "metadata": {},
   "outputs": [
    {
     "data": {
      "text/html": [
       "<div>\n",
       "<style scoped>\n",
       "    .dataframe tbody tr th:only-of-type {\n",
       "        vertical-align: middle;\n",
       "    }\n",
       "\n",
       "    .dataframe tbody tr th {\n",
       "        vertical-align: top;\n",
       "    }\n",
       "\n",
       "    .dataframe thead th {\n",
       "        text-align: right;\n",
       "    }\n",
       "</style>\n",
       "<table border=\"1\" class=\"dataframe\">\n",
       "  <thead>\n",
       "    <tr style=\"text-align: right;\">\n",
       "      <th></th>\n",
       "      <th>Age</th>\n",
       "      <th>Amount</th>\n",
       "      <th>Car_loan</th>\n",
       "      <th>Checking_amount</th>\n",
       "      <th>Credit_score</th>\n",
       "      <th>Default</th>\n",
       "      <th>Education_loan</th>\n",
       "      <th>Emp_duration</th>\n",
       "      <th>Emp_status</th>\n",
       "      <th>Gender</th>\n",
       "      <th>Home_loan</th>\n",
       "      <th>ID</th>\n",
       "      <th>Marital_status</th>\n",
       "      <th>No_of_credit_acc</th>\n",
       "      <th>Personal_loan</th>\n",
       "      <th>Saving_amount</th>\n",
       "      <th>Term</th>\n",
       "    </tr>\n",
       "  </thead>\n",
       "  <tbody>\n",
       "    <tr>\n",
       "      <td>0</td>\n",
       "      <td>38.0</td>\n",
       "      <td>1536.0</td>\n",
       "      <td>Yes</td>\n",
       "      <td>988.0</td>\n",
       "      <td>796.0</td>\n",
       "      <td>0.0</td>\n",
       "      <td>No</td>\n",
       "      <td>12.0</td>\n",
       "      <td>employed</td>\n",
       "      <td>Female</td>\n",
       "      <td>No</td>\n",
       "      <td>101</td>\n",
       "      <td>Single</td>\n",
       "      <td>1.0</td>\n",
       "      <td>No</td>\n",
       "      <td>3455.0</td>\n",
       "      <td>15.0</td>\n",
       "    </tr>\n",
       "    <tr>\n",
       "      <td>1</td>\n",
       "      <td>36.0</td>\n",
       "      <td>947.0</td>\n",
       "      <td>Yes</td>\n",
       "      <td>458.0</td>\n",
       "      <td>813.0</td>\n",
       "      <td>0.0</td>\n",
       "      <td>No</td>\n",
       "      <td>25.0</td>\n",
       "      <td>employed</td>\n",
       "      <td>Female</td>\n",
       "      <td>No</td>\n",
       "      <td>102</td>\n",
       "      <td>Single</td>\n",
       "      <td>1.0</td>\n",
       "      <td>No</td>\n",
       "      <td>3600.0</td>\n",
       "      <td>15.0</td>\n",
       "    </tr>\n",
       "    <tr>\n",
       "      <td>2</td>\n",
       "      <td>34.0</td>\n",
       "      <td>1678.0</td>\n",
       "      <td>No</td>\n",
       "      <td>158.0</td>\n",
       "      <td>756.0</td>\n",
       "      <td>0.0</td>\n",
       "      <td>No</td>\n",
       "      <td>43.0</td>\n",
       "      <td>employed</td>\n",
       "      <td>Female</td>\n",
       "      <td>No</td>\n",
       "      <td>103</td>\n",
       "      <td>Single</td>\n",
       "      <td>1.0</td>\n",
       "      <td>Yes</td>\n",
       "      <td>3093.0</td>\n",
       "      <td>14.0</td>\n",
       "    </tr>\n",
       "    <tr>\n",
       "      <td>3</td>\n",
       "      <td>29.0</td>\n",
       "      <td>1804.0</td>\n",
       "      <td>No</td>\n",
       "      <td>300.0</td>\n",
       "      <td>737.0</td>\n",
       "      <td>1.0</td>\n",
       "      <td>Yes</td>\n",
       "      <td>0.0</td>\n",
       "      <td>employed</td>\n",
       "      <td>Female</td>\n",
       "      <td>No</td>\n",
       "      <td>104</td>\n",
       "      <td>Single</td>\n",
       "      <td>1.0</td>\n",
       "      <td>No</td>\n",
       "      <td>2449.0</td>\n",
       "      <td>25.0</td>\n",
       "    </tr>\n",
       "    <tr>\n",
       "      <td>4</td>\n",
       "      <td>30.0</td>\n",
       "      <td>1184.0</td>\n",
       "      <td>No</td>\n",
       "      <td>63.0</td>\n",
       "      <td>662.0</td>\n",
       "      <td>1.0</td>\n",
       "      <td>Yes</td>\n",
       "      <td>4.0</td>\n",
       "      <td>unemployed</td>\n",
       "      <td>Female</td>\n",
       "      <td>No</td>\n",
       "      <td>105</td>\n",
       "      <td>Single</td>\n",
       "      <td>1.0</td>\n",
       "      <td>No</td>\n",
       "      <td>2867.0</td>\n",
       "      <td>24.0</td>\n",
       "    </tr>\n",
       "  </tbody>\n",
       "</table>\n",
       "</div>"
      ],
      "text/plain": [
       "    Age  Amount Car_loan  Checking_amount  Credit_score  Default  \\\n",
       "0  38.0  1536.0      Yes            988.0         796.0      0.0   \n",
       "1  36.0   947.0      Yes            458.0         813.0      0.0   \n",
       "2  34.0  1678.0       No            158.0         756.0      0.0   \n",
       "3  29.0  1804.0       No            300.0         737.0      1.0   \n",
       "4  30.0  1184.0       No             63.0         662.0      1.0   \n",
       "\n",
       "  Education_loan  Emp_duration   Emp_status  Gender Home_loan   ID  \\\n",
       "0             No           12.0    employed  Female        No  101   \n",
       "1             No           25.0    employed  Female        No  102   \n",
       "2             No           43.0    employed  Female        No  103   \n",
       "3            Yes            0.0    employed  Female        No  104   \n",
       "4            Yes            4.0  unemployed  Female        No  105   \n",
       "\n",
       "  Marital_status   No_of_credit_acc Personal_loan  Saving_amount  Term  \n",
       "0          Single               1.0            No         3455.0  15.0  \n",
       "1          Single               1.0            No         3600.0  15.0  \n",
       "2          Single               1.0           Yes         3093.0  14.0  \n",
       "3          Single               1.0            No         2449.0  25.0  \n",
       "4          Single               1.0            No         2867.0  24.0  "
      ]
     },
     "execution_count": 10,
     "metadata": {},
     "output_type": "execute_result"
    }
   ],
   "source": [
    "all_data.head()"
   ]
  },
  {
   "cell_type": "code",
   "execution_count": 11,
   "metadata": {},
   "outputs": [],
   "source": [
    "all_data['Car_loan'] = [0 if x == 'No' else 1 for x in all_data['Car_loan']]\n",
    "all_data['Education_loan'] = [0 if x == 'No' else 1 for x in all_data['Education_loan']]\n",
    "all_data['Home_loan'] = [0 if x == 'No' else 1 for x in all_data['Home_loan']]\n",
    "all_data['Personal_loan'] = [0 if x == 'No' else 1 for x in all_data['Personal_loan']]\n",
    "all_data['Marital_status '] = [0 if x == 'Single' else 1 for x in all_data['Marital_status ']]\n",
    "all_data['Emp_status'] = [0 if x == 'unemployed' else 1 for x in all_data['Emp_status']]\n",
    "all_data['Gender'] = [0 if x == 'Female' else 1 for x in all_data['Gender']]"
   ]
  },
  {
   "cell_type": "code",
   "execution_count": 12,
   "metadata": {},
   "outputs": [
    {
     "data": {
      "text/plain": [
       "Age                 float64\n",
       "Amount              float64\n",
       "Car_loan              int64\n",
       "Checking_amount     float64\n",
       "Credit_score        float64\n",
       "Default             float64\n",
       "Education_loan        int64\n",
       "Emp_duration        float64\n",
       "Emp_status            int64\n",
       "Gender                int64\n",
       "Home_loan             int64\n",
       "ID                    int64\n",
       "Marital_status        int64\n",
       "No_of_credit_acc    float64\n",
       "Personal_loan         int64\n",
       "Saving_amount       float64\n",
       "Term                float64\n",
       "dtype: object"
      ]
     },
     "execution_count": 12,
     "metadata": {},
     "output_type": "execute_result"
    }
   ],
   "source": [
    "all_data.dtypes"
   ]
  },
  {
   "cell_type": "markdown",
   "metadata": {},
   "source": [
    "**Seperating Data**"
   ]
  },
  {
   "cell_type": "code",
   "execution_count": 13,
   "metadata": {},
   "outputs": [
    {
     "name": "stdout",
     "output_type": "stream",
     "text": [
      "(803, 17) (204, 17)\n"
     ]
    }
   ],
   "source": [
    "df_train=all_data[all_data['Default'].isnull()==False].copy()\n",
    "df_test=all_data[all_data['Default'].isnull()==True].copy()\n",
    "\n",
    "print(df_train.shape,df_test.shape)"
   ]
  },
  {
   "cell_type": "code",
   "execution_count": 14,
   "metadata": {},
   "outputs": [],
   "source": [
    "X,y=df_train.drop(['ID','Default'],axis=1),df_train['Default']\n",
    "Xtest=df_test.drop(['ID','Default'],axis=1)"
   ]
  },
  {
   "cell_type": "markdown",
   "metadata": {},
   "source": [
    "**TrainTestSplit**"
   ]
  },
  {
   "cell_type": "code",
   "execution_count": 61,
   "metadata": {},
   "outputs": [],
   "source": [
    "from sklearn.model_selection import StratifiedKFold,train_test_split\n",
    "X_train,X_val,y_train,y_val = train_test_split(X,y,test_size=0.2,random_state = 1996,stratify=y)"
   ]
  },
  {
   "cell_type": "markdown",
   "metadata": {},
   "source": [
    "**LDA**"
   ]
  },
  {
   "cell_type": "code",
   "execution_count": 62,
   "metadata": {},
   "outputs": [
    {
     "name": "stderr",
     "output_type": "stream",
     "text": [
      "D:\\New folder\\Anaconda\\lib\\site-packages\\sklearn\\discriminant_analysis.py:466: ChangedBehaviorWarning: n_components cannot be larger than min(n_features, n_classes - 1). Using min(n_features, n_classes - 1) = min(15, 2 - 1) = 1 components.\n",
      "  ChangedBehaviorWarning)\n",
      "D:\\New folder\\Anaconda\\lib\\site-packages\\sklearn\\discriminant_analysis.py:472: FutureWarning: In version 0.23, setting n_components > min(n_features, n_classes - 1) will raise a ValueError. You should set n_components to None (default), or a value smaller or equal to min(n_features, n_classes - 1).\n",
      "  warnings.warn(future_msg, FutureWarning)\n"
     ]
    }
   ],
   "source": [
    "from sklearn.discriminant_analysis import LinearDiscriminantAnalysis\n",
    "lda = LinearDiscriminantAnalysis(n_components = 2)\n",
    "X_new = lda.fit_transform(X,y)"
   ]
  },
  {
   "cell_type": "code",
   "execution_count": 63,
   "metadata": {},
   "outputs": [
    {
     "data": {
      "text/plain": [
       "array([1.])"
      ]
     },
     "execution_count": 63,
     "metadata": {},
     "output_type": "execute_result"
    }
   ],
   "source": [
    "lda.explained_variance_ratio_"
   ]
  },
  {
   "cell_type": "code",
   "execution_count": 64,
   "metadata": {
    "scrolled": true
   },
   "outputs": [
    {
     "name": "stdout",
     "output_type": "stream",
     "text": [
      "0       -2.727405\n",
      "Label    1.000000\n",
      "dtype: float64 0        5.547025\n",
      "Label    1.000000\n",
      "dtype: float64\n",
      "0       -3.631351\n",
      "Label    0.000000\n",
      "dtype: float64 0        4.279651\n",
      "Label    0.000000\n",
      "dtype: float64\n"
     ]
    }
   ],
   "source": [
    "new = pd.DataFrame(X_new)\n",
    "new['Label'] = y\n",
    "print(np.min(new[new['Label']==1]),np.max(new[new['Label']==1]))\n",
    "print(np.min(new[new['Label']==0]),np.max(new[new['Label']==0]))"
   ]
  },
  {
   "cell_type": "code",
   "execution_count": 65,
   "metadata": {},
   "outputs": [
    {
     "data": {
      "text/plain": [
       "<matplotlib.collections.PathCollection at 0x1baccff11c8>"
      ]
     },
     "execution_count": 65,
     "metadata": {},
     "output_type": "execute_result"
    },
    {
     "data": {
      "image/png": "[encoded data removed]",
      "text/plain": [
       "<Figure size 432x288 with 1 Axes>"
      ]
     },
     "metadata": {
      "needs_background": "light"
     },
     "output_type": "display_data"
    }
   ],
   "source": [
    "import matplotlib.pyplot as plt \n",
    "plt.xlabel('LD1')\n",
    "#plt.ylabel('LD2')\n",
    "plt.scatter(\n",
    "    X_new[:,0],\n",
    "    X_new[:,0],\n",
    "    c=y,\n",
    "    cmap='rainbow',\n",
    "    alpha=0.7,\n",
    "    edgecolors='w'\n",
    ")"
   ]
  },
  {
   "cell_type": "code",
   "execution_count": 66,
   "metadata": {},
   "outputs": [
    {
     "name": "stdout",
     "output_type": "stream",
     "text": [
      "              precision    recall  f1-score   support\n",
      "\n",
      "         0.0       0.97      0.98      0.98       113\n",
      "         1.0       0.96      0.94      0.95        48\n",
      "\n",
      "    accuracy                           0.97       161\n",
      "   macro avg       0.97      0.96      0.96       161\n",
      "weighted avg       0.97      0.97      0.97       161\n",
      "\n",
      "0.968944099378882\n",
      "[[111   2]\n",
      " [  3  45]]\n"
     ]
    }
   ],
   "source": [
    "lda_out = lda.predict(X_val)\n",
    "from sklearn.metrics import accuracy_score,confusion_matrix, classification_report\n",
    "accuracy = accuracy_score(lda_out, y_val)\n",
    "confusion_matrix = confusion_matrix(lda_out, y_val)\n",
    "print(classification_report(lda_out,y_val))\n",
    "print(accuracy)\n",
    "print(confusion_matrix)"
   ]
  },
  {
   "cell_type": "markdown",
   "metadata": {},
   "source": [
    "**Models**"
   ]
  },
  {
   "cell_type": "markdown",
   "metadata": {},
   "source": [
    "**Random Forest**"
   ]
  },
  {
   "cell_type": "code",
   "execution_count": 67,
   "metadata": {},
   "outputs": [],
   "source": [
    "from sklearn.feature_selection import SelectFromModel\n",
    "from sklearn.ensemble import RandomForestClassifier\n",
    "clf = RandomForestClassifier(n_estimators = 300)\n",
    "clf.fit(X_train,y_train)\n",
    "sel = SelectFromModel(clf)\n",
    "sel.fit(X_train, y_train)\n",
    "selected_feat= X_train.columns[(sel.get_support())]\n",
    "clf.fit(X_train[selected_feat], y_train)\n",
    "predict = clf.predict(X_val[selected_feat])"
   ]
  },
  {
   "cell_type": "code",
   "execution_count": 68,
   "metadata": {},
   "outputs": [
    {
     "name": "stdout",
     "output_type": "stream",
     "text": [
      "              precision    recall  f1-score   support\n",
      "\n",
      "         0.0       0.98      0.97      0.97       116\n",
      "         1.0       0.91      0.96      0.93        45\n",
      "\n",
      "    accuracy                           0.96       161\n",
      "   macro avg       0.95      0.96      0.95       161\n",
      "weighted avg       0.96      0.96      0.96       161\n",
      "\n",
      "0.9627329192546584\n",
      "[[112   4]\n",
      " [  2  43]]\n"
     ]
    }
   ],
   "source": [
    "from sklearn.metrics import accuracy_score,confusion_matrix, classification_report\n",
    "accuracy = accuracy_score(predict, y_val)\n",
    "confusion_matrix = confusion_matrix(predict, y_val)\n",
    "print(classification_report(predict,y_val))\n",
    "print(accuracy)\n",
    "print(confusion_matrix)"
   ]
  },
  {
   "cell_type": "code",
   "execution_count": 22,
   "metadata": {},
   "outputs": [
    {
     "data": {
      "text/plain": [
       "Index(['Age', 'Checking_amount', 'Credit_score', 'Saving_amount'], dtype='object')"
      ]
     },
     "execution_count": 22,
     "metadata": {},
     "output_type": "execute_result"
    }
   ],
   "source": [
    "selected_feat"
   ]
  },
  {
   "cell_type": "markdown",
   "metadata": {},
   "source": [
    "**AllFeatures**"
   ]
  },
  {
   "cell_type": "code",
   "execution_count": 23,
   "metadata": {},
   "outputs": [],
   "source": [
    "clf = RandomForestClassifier(n_estimators = 350)\n",
    "clf.fit(X_train,y_train)\n",
    "predict = clf.predict(X_val)"
   ]
  },
  {
   "cell_type": "code",
   "execution_count": 24,
   "metadata": {},
   "outputs": [
    {
     "name": "stdout",
     "output_type": "stream",
     "text": [
      "              precision    recall  f1-score   support\n",
      "\n",
      "         0.0       0.97      0.97      0.97       115\n",
      "         1.0       0.91      0.93      0.92        46\n",
      "\n",
      "    accuracy                           0.96       161\n",
      "   macro avg       0.94      0.95      0.95       161\n",
      "weighted avg       0.96      0.96      0.96       161\n",
      "\n",
      "0.9565217391304348\n",
      "[[111   4]\n",
      " [  3  43]]\n"
     ]
    }
   ],
   "source": [
    "from sklearn.metrics import accuracy_score,confusion_matrix,classification_report\n",
    "accuracy = accuracy_score(predict, y_val)\n",
    "confusion_matrix = confusion_matrix(predict, y_val)\n",
    "print(classification_report(predict,y_val))\n",
    "print(accuracy)\n",
    "print(confusion_matrix)"
   ]
  },
  {
   "cell_type": "markdown",
   "metadata": {},
   "source": [
    "\n",
    "**Xgboost**"
   ]
  },
  {
   "cell_type": "code",
   "execution_count": 25,
   "metadata": {},
   "outputs": [
    {
     "data": {
      "text/plain": [
       "\"\\nfrom xgboost import XGBClassifier\\nxgb1 = XGBClassifier(base_score=0.5, booster='gbtree', colsample_bylevel=1,\\n       colsample_bynode=1, colsample_bytree=0.8, gamma=0.4,\\n       learning_rate=0.3, max_delta_step=0, max_depth=10,\\n       min_child_weight=1, missing=None, n_estimators=500, n_jobs=1,\\n       nthread=None, random_state=0,\\n       reg_alpha=0, reg_lambda=1, scale_pos_weight=1, seed=None,\\n       silent=None, subsample=1, verbosity=1)\\nxgb1.fit(X_train, y_train)\\npredict = xgb1.predict(X_val)\\n\""
      ]
     },
     "execution_count": 25,
     "metadata": {},
     "output_type": "execute_result"
    }
   ],
   "source": [
    "'''\n",
    "from xgboost import XGBClassifier\n",
    "xgb1 = XGBClassifier(base_score=0.5, booster='gbtree', colsample_bylevel=1,\n",
    "       colsample_bynode=1, colsample_bytree=0.8, gamma=0.4,\n",
    "       learning_rate=0.3, max_delta_step=0, max_depth=10,\n",
    "       min_child_weight=1, missing=None, n_estimators=500, n_jobs=1,\n",
    "       nthread=None, random_state=0,\n",
    "       reg_alpha=0, reg_lambda=1, scale_pos_weight=1, seed=None,\n",
    "       silent=None, subsample=1, verbosity=1)\n",
    "xgb1.fit(X_train, y_train)\n",
    "predict = xgb1.predict(X_val)\n",
    "'''"
   ]
  },
  {
   "cell_type": "code",
   "execution_count": 26,
   "metadata": {},
   "outputs": [
    {
     "name": "stdout",
     "output_type": "stream",
     "text": [
      "0.9565217391304348\n",
      "              precision    recall  f1-score   support\n",
      "\n",
      "         0.0       0.97      0.97      0.97       115\n",
      "         1.0       0.91      0.93      0.92        46\n",
      "\n",
      "    accuracy                           0.96       161\n",
      "   macro avg       0.94      0.95      0.95       161\n",
      "weighted avg       0.96      0.96      0.96       161\n",
      "\n",
      "[[111   4]\n",
      " [  3  43]]\n"
     ]
    }
   ],
   "source": [
    "'''\n",
    "from sklearn.metrics import accuracy_score,confusion_matrix\n",
    "accuracy = accuracy_score(predict, y_val)\n",
    "confusion_matrix = confusion_matrix(predict, y_val)\n",
    "print(accuracy)\n",
    "print(classification_report(predict,y_val))\n",
    "print(confusion_matrix)\n",
    "'''"
   ]
  },
  {
   "cell_type": "markdown",
   "metadata": {},
   "source": [
    "**SVM**"
   ]
  },
  {
   "cell_type": "code",
   "execution_count": 27,
   "metadata": {},
   "outputs": [],
   "source": [
    "from sklearn import svm"
   ]
  },
  {
   "cell_type": "code",
   "execution_count": 28,
   "metadata": {},
   "outputs": [],
   "source": [
    "clf = svm.SVC(kernel='linear')\n",
    "clf.fit(X_train[selected_feat],y_train)\n",
    "predict = clf.predict(X_val[selected_feat])"
   ]
  },
  {
   "cell_type": "code",
   "execution_count": 29,
   "metadata": {},
   "outputs": [
    {
     "name": "stdout",
     "output_type": "stream",
     "text": [
      "              precision    recall  f1-score   support\n",
      "\n",
      "         0.0       0.96      0.96      0.96       115\n",
      "         1.0       0.89      0.91      0.90        46\n",
      "\n",
      "    accuracy                           0.94       161\n",
      "   macro avg       0.93      0.93      0.93       161\n",
      "weighted avg       0.94      0.94      0.94       161\n",
      "\n",
      "[[110   5]\n",
      " [  4  42]]\n"
     ]
    }
   ],
   "source": [
    "from sklearn.metrics import accuracy_score,confusion_matrix,classification_report\n",
    "accuracy = accuracy_score(predict, y_val)\n",
    "confusion_matrix = confusion_matrix(predict, y_val)\n",
    "print(classification_report(predict, y_val))\n",
    "print(confusion_matrix)"
   ]
  },
  {
   "cell_type": "markdown",
   "metadata": {},
   "source": [
    "**TrainingOnFullData**"
   ]
  },
  {
   "cell_type": "code",
   "execution_count": null,
   "metadata": {
    "scrolled": true
   },
   "outputs": [],
   "source": [
    "'''\n",
    "from sklearn.feature_selection import SelectFromModel\n",
    "from sklearn.ensemble import RandomForestClassifier\n",
    "clf = RandomForestClassifier(n_estimators = 350)\n",
    "clf.fit(X,y)\n",
    "sel = SelectFromModel(clf)\n",
    "sel.fit(X, y)\n",
    "selected_feat= X.columns[(sel.get_support())]\n",
    "clf.fit(X[selected_feat], y)\n",
    "predict = clf.predict(Xtest[selected_feat])\n",
    "'''"
   ]
  },
  {
   "cell_type": "code",
   "execution_count": null,
   "metadata": {},
   "outputs": [],
   "source": [
    "selected_feat"
   ]
  },
  {
   "cell_type": "code",
   "execution_count": null,
   "metadata": {},
   "outputs": [],
   "source": []
  },
  {
   "cell_type": "markdown",
   "metadata": {},
   "source": [
    "**Submit_csv**"
   ]
  },
  {
   "cell_type": "code",
   "execution_count": null,
   "metadata": {},
   "outputs": [],
   "source": [
    "'''\n",
    "sub = pd.DataFrame(df_test['ID'])\n",
    "predict = clf.predict(df_test[selected_feat])\n",
    "sub['Default'] = predict\n",
    "sub['Default'] = ['Yes' if x == 1 else 'No' for x in sub['Default']]\n",
    "sub.to_csv('submit.csv', index=False)\n",
    "'''"
   ]
  },
  {
   "cell_type": "code",
   "execution_count": 53,
   "metadata": {},
   "outputs": [
    {
     "data": {
      "text/plain": [
       "(2248.0, 3855.0)"
      ]
     },
     "execution_count": 53,
     "metadata": {},
     "output_type": "execute_result"
    }
   ],
   "source": [
    "np.min(Xtest.Saving_amount), np.max(Xtest.Saving_amount)"
   ]
  },
  {
   "cell_type": "code",
   "execution_count": null,
   "metadata": {},
   "outputs": [],
   "source": []
  }
 ],
 "metadata": {
  "kernelspec": {
   "display_name": "Python 3",
   "language": "python",
   "name": "python3"
  },
  "language_info": {
   "codemirror_mode": {
    "name": "ipython",
    "version": 3
   },
   "file_extension": ".py",
   "mimetype": "text/x-python",
   "name": "python",
   "nbconvert_exporter": "python",
   "pygments_lexer": "ipython3",
   "version": "3.7.1"
  }
 },
 "nbformat": 4,
 "nbformat_minor": 2
}
