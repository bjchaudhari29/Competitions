{
 "cells": [
  {
   "cell_type": "code",
   "execution_count": 1,
   "metadata": {},
   "outputs": [],
   "source": [
    "import pandas as pd"
   ]
  },
  {
   "cell_type": "code",
   "execution_count": 8,
   "metadata": {},
   "outputs": [],
   "source": [
    "train_data = pd.read_csv(\"D:/PGDBA/Competitions/IITG-Gender/train.csv\")"
   ]
  },
  {
   "cell_type": "code",
   "execution_count": 9,
   "metadata": {},
   "outputs": [
    {
     "data": {
      "text/html": [
       "<div>\n",
       "<style scoped>\n",
       "    .dataframe tbody tr th:only-of-type {\n",
       "        vertical-align: middle;\n",
       "    }\n",
       "\n",
       "    .dataframe tbody tr th {\n",
       "        vertical-align: top;\n",
       "    }\n",
       "\n",
       "    .dataframe thead th {\n",
       "        text-align: right;\n",
       "    }\n",
       "</style>\n",
       "<table border=\"1\" class=\"dataframe\">\n",
       "  <thead>\n",
       "    <tr style=\"text-align: right;\">\n",
       "      <th></th>\n",
       "      <th>last_name</th>\n",
       "      <th>first_name</th>\n",
       "      <th>gender</th>\n",
       "      <th>race</th>\n",
       "    </tr>\n",
       "  </thead>\n",
       "  <tbody>\n",
       "    <tr>\n",
       "      <th>0</th>\n",
       "      <td>james</td>\n",
       "      <td>harold d ii</td>\n",
       "      <td>m</td>\n",
       "      <td>black</td>\n",
       "    </tr>\n",
       "    <tr>\n",
       "      <th>1</th>\n",
       "      <td>cason</td>\n",
       "      <td>bruce g jr</td>\n",
       "      <td>m</td>\n",
       "      <td>black</td>\n",
       "    </tr>\n",
       "    <tr>\n",
       "      <th>2</th>\n",
       "      <td>lane</td>\n",
       "      <td>rommie l</td>\n",
       "      <td>m</td>\n",
       "      <td>black</td>\n",
       "    </tr>\n",
       "    <tr>\n",
       "      <th>3</th>\n",
       "      <td>lathan</td>\n",
       "      <td>melvin  jr</td>\n",
       "      <td>m</td>\n",
       "      <td>black</td>\n",
       "    </tr>\n",
       "    <tr>\n",
       "      <th>4</th>\n",
       "      <td>colon</td>\n",
       "      <td>javier</td>\n",
       "      <td>m</td>\n",
       "      <td>hispanic</td>\n",
       "    </tr>\n",
       "  </tbody>\n",
       "</table>\n",
       "</div>"
      ],
      "text/plain": [
       "  last_name    first_name gender      race\n",
       "0     james   harold d ii      m     black\n",
       "1     cason    bruce g jr      m     black\n",
       "2      lane     rommie l       m     black\n",
       "3    lathan    melvin  jr      m     black\n",
       "4     colon      javier        m  hispanic"
      ]
     },
     "execution_count": 9,
     "metadata": {},
     "output_type": "execute_result"
    }
   ],
   "source": [
    "train_data.head()"
   ]
  },
  {
   "cell_type": "code",
   "execution_count": 117,
   "metadata": {},
   "outputs": [
    {
     "data": {
      "text/plain": [
       "'bruce'"
      ]
     },
     "execution_count": 117,
     "metadata": {},
     "output_type": "execute_result"
    }
   ],
   "source": [
    "type(train_data['first_name'])\n",
    "train_data.shape[0]\n",
    "train_data['feature_name'] = train_data['gender']\n",
    "#train_data['feature_last_vowel']\n",
    "str(train_data['first_name'].iloc[1]).split()[0]"
   ]
  },
  {
   "cell_type": "code",
   "execution_count": 120,
   "metadata": {},
   "outputs": [
    {
     "name": "stdout",
     "output_type": "stream",
     "text": [
      "0\n",
      "10000\n",
      "20000\n",
      "30000\n",
      "40000\n",
      "50000\n",
      "60000\n",
      "70000\n",
      "80000\n"
     ]
    }
   ],
   "source": [
    "for i in range(0, train_data.shape[0]):\n",
    "    train_data['feature_name'].iloc[i]=str(train_data['first_name'].iloc[i]).split()[0]\n",
    "    if(i%10000 == 0):\n",
    "        print(i)"
   ]
  },
  {
   "cell_type": "code",
   "execution_count": 208,
   "metadata": {},
   "outputs": [],
   "source": [
    "train_data['last'] = train_data['feature_name'].str[-1]"
   ]
  },
  {
   "cell_type": "code",
   "execution_count": 209,
   "metadata": {},
   "outputs": [],
   "source": [
    "def countVowel(col):\n",
    "    if col in \"aeiou\":\n",
    "        return 1\n",
    "    return 0\n",
    "\n",
    "train_data['feature_last_vowel'] = train_data['last'].apply(countVowel)"
   ]
  },
  {
   "cell_type": "code",
   "execution_count": 122,
   "metadata": {},
   "outputs": [],
   "source": [
    "for i in range(0, train_data.shape[0]):\n",
    "    if(str(train_data['feature_name'].iloc[i]).split()[0][-1] != ''):\n",
    "        train_data['lastLetter_firstname'][i] = str(train_data['feature_name'].iloc[i]).split()[0][-1]"
   ]
  },
  {
   "cell_type": "code",
   "execution_count": 215,
   "metadata": {},
   "outputs": [
    {
     "data": {
      "text/plain": [
       "last_name                object\n",
       "first_name               object\n",
       "gender                   object\n",
       "race                     object\n",
       "feature_name             object\n",
       "lastLetter_firstname      int64\n",
       "last2Letter_firstname     int32\n",
       "len_firstName             int64\n",
       "feature_last_vowel        int64\n",
       "last                     object\n",
       "dtype: object"
      ]
     },
     "execution_count": 215,
     "metadata": {},
     "output_type": "execute_result"
    }
   ],
   "source": [
    "train_data.dtypes"
   ]
  },
  {
   "cell_type": "code",
   "execution_count": 126,
   "metadata": {},
   "outputs": [],
   "source": [
    "train_data['last2Letter_firstname'] = ''\n",
    "for i in range(0, train_data.shape[0]):\n",
    "    if(str(train_data['feature_name'].iloc[i]).split()[0][-2:] != ''):\n",
    "        train_data['last2Letter_firstname'][i] = str(train_data['feature_name'].iloc[i]).split()[0][-2:]"
   ]
  },
  {
   "cell_type": "code",
   "execution_count": 129,
   "metadata": {},
   "outputs": [],
   "source": [
    "from sklearn.preprocessing import LabelEncoder\n",
    "labelEnc = LabelEncoder()"
   ]
  },
  {
   "cell_type": "code",
   "execution_count": 217,
   "metadata": {},
   "outputs": [],
   "source": [
    "train_data['lastLetter_firstname'] = labelEnc.fit_transform(train_data['lastLetter_firstname'])"
   ]
  },
  {
   "cell_type": "code",
   "execution_count": 270,
   "metadata": {},
   "outputs": [],
   "source": [
    "train_data['last2Letter_firstname'] = labelEnc.fit_transform(train_data['last2Letter_firstname'])\n",
    "train_data['gender'] = labelEnc.fit_transform(train_data['gender'])\n",
    "train_data['race'] = labelEnc.fit_transform(train_data['race'])"
   ]
  },
  {
   "cell_type": "code",
   "execution_count": 219,
   "metadata": {},
   "outputs": [
    {
     "data": {
      "text/html": [
       "<div>\n",
       "<style scoped>\n",
       "    .dataframe tbody tr th:only-of-type {\n",
       "        vertical-align: middle;\n",
       "    }\n",
       "\n",
       "    .dataframe tbody tr th {\n",
       "        vertical-align: top;\n",
       "    }\n",
       "\n",
       "    .dataframe thead th {\n",
       "        text-align: right;\n",
       "    }\n",
       "</style>\n",
       "<table border=\"1\" class=\"dataframe\">\n",
       "  <thead>\n",
       "    <tr style=\"text-align: right;\">\n",
       "      <th></th>\n",
       "      <th>last_name</th>\n",
       "      <th>first_name</th>\n",
       "      <th>gender</th>\n",
       "      <th>race</th>\n",
       "      <th>feature_name</th>\n",
       "      <th>lastLetter_firstname</th>\n",
       "      <th>last2Letter_firstname</th>\n",
       "      <th>len_firstName</th>\n",
       "      <th>feature_last_vowel</th>\n",
       "      <th>last</th>\n",
       "    </tr>\n",
       "  </thead>\n",
       "  <tbody>\n",
       "    <tr>\n",
       "      <th>85267</th>\n",
       "      <td>chahar</td>\n",
       "      <td>yogesh</td>\n",
       "      <td>m</td>\n",
       "      <td>indian</td>\n",
       "      <td>yogesh</td>\n",
       "      <td>13</td>\n",
       "      <td>292</td>\n",
       "      <td>6</td>\n",
       "      <td>0</td>\n",
       "      <td>h</td>\n",
       "    </tr>\n",
       "    <tr>\n",
       "      <th>85268</th>\n",
       "      <td>ostrander</td>\n",
       "      <td>tyler c</td>\n",
       "      <td>m</td>\n",
       "      <td>white</td>\n",
       "      <td>tyler</td>\n",
       "      <td>23</td>\n",
       "      <td>86</td>\n",
       "      <td>5</td>\n",
       "      <td>0</td>\n",
       "      <td>r</td>\n",
       "    </tr>\n",
       "    <tr>\n",
       "      <th>85269</th>\n",
       "      <td>lindsey</td>\n",
       "      <td>william b</td>\n",
       "      <td>m</td>\n",
       "      <td>white</td>\n",
       "      <td>william</td>\n",
       "      <td>18</td>\n",
       "      <td>19</td>\n",
       "      <td>7</td>\n",
       "      <td>0</td>\n",
       "      <td>m</td>\n",
       "    </tr>\n",
       "    <tr>\n",
       "      <th>85270</th>\n",
       "      <td>pfister</td>\n",
       "      <td>christopher</td>\n",
       "      <td>m</td>\n",
       "      <td>white</td>\n",
       "      <td>christopher</td>\n",
       "      <td>23</td>\n",
       "      <td>86</td>\n",
       "      <td>11</td>\n",
       "      <td>0</td>\n",
       "      <td>r</td>\n",
       "    </tr>\n",
       "    <tr>\n",
       "      <th>85271</th>\n",
       "      <td>chugh</td>\n",
       "      <td>sumit</td>\n",
       "      <td>m</td>\n",
       "      <td>indian</td>\n",
       "      <td>sumit</td>\n",
       "      <td>25</td>\n",
       "      <td>145</td>\n",
       "      <td>5</td>\n",
       "      <td>0</td>\n",
       "      <td>t</td>\n",
       "    </tr>\n",
       "  </tbody>\n",
       "</table>\n",
       "</div>"
      ],
      "text/plain": [
       "       last_name      first_name gender    race feature_name  \\\n",
       "85267     chahar          yogesh      m  indian       yogesh   \n",
       "85268  ostrander        tyler c       m   white        tyler   \n",
       "85269    lindsey      william b       m   white      william   \n",
       "85270    pfister   christopher        m   white  christopher   \n",
       "85271      chugh           sumit      m  indian        sumit   \n",
       "\n",
       "       lastLetter_firstname  last2Letter_firstname  len_firstName  \\\n",
       "85267                    13                    292              6   \n",
       "85268                    23                     86              5   \n",
       "85269                    18                     19              7   \n",
       "85270                    23                     86             11   \n",
       "85271                    25                    145              5   \n",
       "\n",
       "       feature_last_vowel last  \n",
       "85267                   0    h  \n",
       "85268                   0    r  \n",
       "85269                   0    m  \n",
       "85270                   0    r  \n",
       "85271                   0    t  "
      ]
     },
     "execution_count": 219,
     "metadata": {},
     "output_type": "execute_result"
    }
   ],
   "source": [
    "train_data.tail()"
   ]
  },
  {
   "cell_type": "code",
   "execution_count": 142,
   "metadata": {},
   "outputs": [
    {
     "name": "stderr",
     "output_type": "stream",
     "text": [
      "C:\\Users\\Bhushan\\Anaconda3\\lib\\site-packages\\ipykernel_launcher.py:2: SettingWithCopyWarning: \n",
      "A value is trying to be set on a copy of a slice from a DataFrame\n",
      "\n",
      "See the caveats in the documentation: http://pandas.pydata.org/pandas-docs/stable/indexing.html#indexing-view-versus-copy\n",
      "  \n"
     ]
    },
    {
     "name": "stdout",
     "output_type": "stream",
     "text": [
      "0\n",
      "10000\n",
      "20000\n",
      "30000\n",
      "40000\n",
      "50000\n",
      "60000\n",
      "70000\n",
      "80000\n"
     ]
    }
   ],
   "source": [
    "for i in range (0, len(train_data)):\n",
    "    train_data['len_firstName'][i] = len(train_data['feature_name'].iloc[i])\n",
    "    if(i % 10000 == 0):\n",
    "        print(i)"
   ]
  },
  {
   "cell_type": "code",
   "execution_count": 279,
   "metadata": {},
   "outputs": [
    {
     "data": {
      "text/html": [
       "<div>\n",
       "<style scoped>\n",
       "    .dataframe tbody tr th:only-of-type {\n",
       "        vertical-align: middle;\n",
       "    }\n",
       "\n",
       "    .dataframe tbody tr th {\n",
       "        vertical-align: top;\n",
       "    }\n",
       "\n",
       "    .dataframe thead th {\n",
       "        text-align: right;\n",
       "    }\n",
       "</style>\n",
       "<table border=\"1\" class=\"dataframe\">\n",
       "  <thead>\n",
       "    <tr style=\"text-align: right;\">\n",
       "      <th></th>\n",
       "      <th>last_name</th>\n",
       "      <th>first_name</th>\n",
       "      <th>gender</th>\n",
       "      <th>race</th>\n",
       "      <th>feature_name</th>\n",
       "      <th>lastLetter_firstname</th>\n",
       "      <th>last2Letter_firstname</th>\n",
       "      <th>len_firstName</th>\n",
       "      <th>feature_last_vowel</th>\n",
       "      <th>last</th>\n",
       "    </tr>\n",
       "  </thead>\n",
       "  <tbody>\n",
       "    <tr>\n",
       "      <th>0</th>\n",
       "      <td>james</td>\n",
       "      <td>harold d ii</td>\n",
       "      <td>1</td>\n",
       "      <td>0</td>\n",
       "      <td>harold</td>\n",
       "      <td>9</td>\n",
       "      <td>181</td>\n",
       "      <td>6</td>\n",
       "      <td>0</td>\n",
       "      <td>d</td>\n",
       "    </tr>\n",
       "    <tr>\n",
       "      <th>1</th>\n",
       "      <td>cason</td>\n",
       "      <td>bruce g jr</td>\n",
       "      <td>1</td>\n",
       "      <td>0</td>\n",
       "      <td>bruce</td>\n",
       "      <td>10</td>\n",
       "      <td>46</td>\n",
       "      <td>5</td>\n",
       "      <td>1</td>\n",
       "      <td>e</td>\n",
       "    </tr>\n",
       "    <tr>\n",
       "      <th>2</th>\n",
       "      <td>lane</td>\n",
       "      <td>rommie l</td>\n",
       "      <td>1</td>\n",
       "      <td>0</td>\n",
       "      <td>rommie</td>\n",
       "      <td>10</td>\n",
       "      <td>130</td>\n",
       "      <td>6</td>\n",
       "      <td>1</td>\n",
       "      <td>e</td>\n",
       "    </tr>\n",
       "    <tr>\n",
       "      <th>3</th>\n",
       "      <td>lathan</td>\n",
       "      <td>melvin  jr</td>\n",
       "      <td>1</td>\n",
       "      <td>0</td>\n",
       "      <td>melvin</td>\n",
       "      <td>19</td>\n",
       "      <td>139</td>\n",
       "      <td>6</td>\n",
       "      <td>0</td>\n",
       "      <td>n</td>\n",
       "    </tr>\n",
       "    <tr>\n",
       "      <th>4</th>\n",
       "      <td>colon</td>\n",
       "      <td>javier</td>\n",
       "      <td>1</td>\n",
       "      <td>1</td>\n",
       "      <td>javier</td>\n",
       "      <td>23</td>\n",
       "      <td>86</td>\n",
       "      <td>6</td>\n",
       "      <td>0</td>\n",
       "      <td>r</td>\n",
       "    </tr>\n",
       "  </tbody>\n",
       "</table>\n",
       "</div>"
      ],
      "text/plain": [
       "  last_name    first_name  gender  race feature_name  lastLetter_firstname  \\\n",
       "0     james   harold d ii       1     0       harold                     9   \n",
       "1     cason    bruce g jr       1     0        bruce                    10   \n",
       "2      lane     rommie l        1     0       rommie                    10   \n",
       "3    lathan    melvin  jr       1     0       melvin                    19   \n",
       "4     colon      javier         1     1       javier                    23   \n",
       "\n",
       "   last2Letter_firstname  len_firstName  feature_last_vowel last  \n",
       "0                    181              6                   0    d  \n",
       "1                     46              5                   1    e  \n",
       "2                    130              6                   1    e  \n",
       "3                    139              6                   0    n  \n",
       "4                     86              6                   0    r  "
      ]
     },
     "execution_count": 279,
     "metadata": {},
     "output_type": "execute_result"
    }
   ],
   "source": [
    "train_data.head()"
   ]
  },
  {
   "cell_type": "code",
   "execution_count": 280,
   "metadata": {},
   "outputs": [],
   "source": [
    "from sklearn.model_selection import train_test_split\n",
    "\n",
    "features_to_use = ['feature_last_vowel', 'lastLetter_firstname', 'last2Letter_firstname', 'len_firstName']\n",
    "\n",
    "X = train_data[features_to_use]\n",
    "y = train_data['race']\n",
    "\n",
    "X_train, X_valid, y_train, y_valid = train_test_split(X, y, train_size=0.8, test_size=0.2)"
   ]
  },
  {
   "cell_type": "code",
   "execution_count": 281,
   "metadata": {},
   "outputs": [],
   "source": [
    "import xgboost as xgb\n",
    "from xgboost import XGBRegressor\n",
    "from xgboost import XGBClassifier"
   ]
  },
  {
   "cell_type": "code",
   "execution_count": 282,
   "metadata": {},
   "outputs": [],
   "source": [
    "my_model = XGBClassifier(n_estimators=250, learning_rate=0.05)"
   ]
  },
  {
   "cell_type": "code",
   "execution_count": 283,
   "metadata": {
    "scrolled": true
   },
   "outputs": [
    {
     "data": {
      "text/plain": [
       "XGBClassifier(base_score=0.5, booster='gbtree', colsample_bylevel=1,\n",
       "       colsample_bynode=1, colsample_bytree=1, gamma=0, learning_rate=0.05,\n",
       "       max_delta_step=0, max_depth=3, min_child_weight=1, missing=None,\n",
       "       n_estimators=250, n_jobs=1, nthread=None,\n",
       "       objective='multi:softprob', random_state=0, reg_alpha=0,\n",
       "       reg_lambda=1, scale_pos_weight=1, seed=None, silent=None,\n",
       "       subsample=1, verbosity=1)"
      ]
     },
     "execution_count": 283,
     "metadata": {},
     "output_type": "execute_result"
    }
   ],
   "source": [
    "my_model.fit(X_train, y_train, \n",
    "             early_stopping_rounds=5, \n",
    "             eval_set=[(X_valid, y_valid)],\n",
    "             verbose=False)"
   ]
  },
  {
   "cell_type": "code",
   "execution_count": 286,
   "metadata": {},
   "outputs": [],
   "source": [
    "my_predictions = my_model.predict(X_valid)"
   ]
  },
  {
   "cell_type": "code",
   "execution_count": 291,
   "metadata": {},
   "outputs": [
    {
     "name": "stdout",
     "output_type": "stream",
     "text": [
      "[3 3 3 ... 3 2 3]\n"
     ]
    }
   ],
   "source": [
    "print(my_predictions)"
   ]
  },
  {
   "cell_type": "code",
   "execution_count": 294,
   "metadata": {
    "scrolled": true
   },
   "outputs": [
    {
     "name": "stdout",
     "output_type": "stream",
     "text": [
      "0.5759014951627088 0.620150577418643\n"
     ]
    }
   ],
   "source": [
    "from sklearn.metrics import accuracy_score,f1_score\n",
    "accuracy = accuracy_score(my_predictions, y_valid)\n",
    "f1 = f1_score(my_predictions, y_valid, average='weighted')\n",
    "print(accuracy, f1)"
   ]
  },
  {
   "cell_type": "code",
   "execution_count": 293,
   "metadata": {},
   "outputs": [
    {
     "data": {
      "text/plain": [
       "29255    3\n",
       "71522    3\n",
       "678      3\n",
       "80267    1\n",
       "82839    3\n",
       "Name: race, dtype: int32"
      ]
     },
     "execution_count": 293,
     "metadata": {},
     "output_type": "execute_result"
    }
   ],
   "source": [
    "y_valid.head()"
   ]
  },
  {
   "cell_type": "code",
   "execution_count": null,
   "metadata": {},
   "outputs": [],
   "source": []
  }
 ],
 "metadata": {
  "kernelspec": {
   "display_name": "Python 3",
   "language": "python",
   "name": "python3"
  },
  "language_info": {
   "codemirror_mode": {
    "name": "ipython",
    "version": 3
   },
   "file_extension": ".py",
   "mimetype": "text/x-python",
   "name": "python",
   "nbconvert_exporter": "python",
   "pygments_lexer": "ipython3",
   "version": "3.7.1"
  }
 },
 "nbformat": 4,
 "nbformat_minor": 2
}
